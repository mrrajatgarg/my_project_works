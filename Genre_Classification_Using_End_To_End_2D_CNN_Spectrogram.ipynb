{
  "nbformat": 4,
  "nbformat_minor": 0,
  "metadata": {
    "colab": {
      "name": "Genre_Classification_Using_End_To_End_2D_CNN_Spectrogram.ipynb",
      "version": "0.3.2",
      "provenance": [],
      "collapsed_sections": [],
      "include_colab_link": true
    },
    "kernelspec": {
      "name": "python3",
      "display_name": "Python 3"
    },
    "accelerator": "GPU"
  },
  "cells": [
    {
      "cell_type": "markdown",
      "metadata": {
        "id": "view-in-github",
        "colab_type": "text"
      },
      "source": [
        "<a href=\"https://colab.research.google.com/github/mrrajatgarg/my_project_works/blob/master/Genre_Classification_Using_End_To_End_2D_CNN_Spectrogram.ipynb\" target=\"_parent\"><img src=\"https://colab.research.google.com/assets/colab-badge.svg\" alt=\"Open In Colab\"/></a>"
      ]
    },
    {
      "metadata": {
        "id": "0911q4qJP8q1",
        "colab_type": "text"
      },
      "cell_type": "markdown",
      "source": [
        "# Music Information Retrieval (MIR)\n",
        "\n",
        "**Defination --**\n",
        "\n",
        "Music Information Retreval (MIR) is centered on finding ways to automate the process of classifying music genre and mood and tagging music."
      ]
    },
    {
      "metadata": {
        "id": "lc8G9V_iQIde",
        "colab_type": "text"
      },
      "cell_type": "markdown",
      "source": [
        "**AIM:**\n",
        "\n",
        "Given an audio clip of music, we have classify the audio clip into the genre it belongs to. Genres are - blues, classical, country, disco, hiphop, jaz, metal, pop, reggae, rock"
      ]
    },
    {
      "metadata": {
        "id": "OaohEy6BrgN3",
        "colab_type": "text"
      },
      "cell_type": "markdown",
      "source": [
        "# Importing Libraries"
      ]
    },
    {
      "metadata": {
        "id": "aAVjzM1Prr0q",
        "colab_type": "text"
      },
      "cell_type": "markdown",
      "source": [
        "Importing numpy and os library"
      ]
    },
    {
      "metadata": {
        "id": "DRZHSsyjq3n5",
        "colab_type": "code",
        "colab": {}
      },
      "cell_type": "code",
      "source": [
        "import os\n",
        "import numpy as np\n",
        "from os.path import join\n",
        "import time"
      ],
      "execution_count": 0,
      "outputs": []
    },
    {
      "metadata": {
        "id": "57aG1VHnrwNM",
        "colab_type": "text"
      },
      "cell_type": "markdown",
      "source": [
        "Importing Scikit Learn modules.\n",
        "\n",
        "\n",
        "*   preprcossing - for the preprocessing of data\n",
        "*   sklearn.metrics for calculating accuracy and ploting precision recall graph for better understanding of our results\n",
        "\n",
        "\n",
        "*   train_test_split - for splitting of entire dataset into training(75%) and testing(25%) set.\n",
        "*   StratifiedShuffleSplit - splitting of data into the desire manner (more will be clear from code itself)\n",
        "\n",
        "\n",
        "\n",
        "\n",
        "\n",
        "\n"
      ]
    },
    {
      "metadata": {
        "id": "V3M0bEPkrRNE",
        "colab_type": "code",
        "colab": {}
      },
      "cell_type": "code",
      "source": [
        "from sklearn import preprocessing\n",
        "from sklearn.metrics import accuracy_score, precision_score, recall_score, f1_score\n",
        "from sklearn.model_selection import train_test_split\n",
        "from sklearn.model_selection import StratifiedShuffleSplit\n",
        "from collections import Counter"
      ],
      "execution_count": 0,
      "outputs": []
    },
    {
      "metadata": {
        "id": "z4oc5zQVsyFL",
        "colab_type": "text"
      },
      "cell_type": "markdown",
      "source": [
        "Importing Layers and Optimizers from Keras (a high level deep learning framework)"
      ]
    },
    {
      "metadata": {
        "id": "uOU3n1hpsv6d",
        "colab_type": "code",
        "outputId": "a3892763-098c-4e30-ae96-524d3c27493e",
        "colab": {
          "base_uri": "https://localhost:8080/",
          "height": 35
        }
      },
      "cell_type": "code",
      "source": [
        "import keras\n",
        "from keras.models import Sequential, Model, load_model\n",
        "from keras.layers import Input, Conv1D, Conv2D, MaxPooling1D, MaxPooling2D, Dense, Dropout, Activation, Flatten\n",
        "from keras.layers.normalization import BatchNormalization\n",
        "from keras.optimizers import SGD\n",
        "from keras.utils import to_categorical"
      ],
      "execution_count": 0,
      "outputs": [
        {
          "output_type": "stream",
          "text": [
            "Using TensorFlow backend.\n"
          ],
          "name": "stderr"
        }
      ]
    },
    {
      "metadata": {
        "id": "rgjRTh0StH6C",
        "colab_type": "text"
      },
      "cell_type": "markdown",
      "source": [
        "librosa - widely used audio-processing library in python\n",
        "kapre - Keras Audio Preprocessing library, from kapre Melspectrogram layer is imported"
      ]
    },
    {
      "metadata": {
        "id": "28uMFckGtBXB",
        "colab_type": "code",
        "colab": {}
      },
      "cell_type": "code",
      "source": [
        "import librosa\n",
        "import kapre\n",
        "from kapre.time_frequency import Melspectrogram\n",
        "from kapre.utils import Normalization2D"
      ],
      "execution_count": 0,
      "outputs": []
    },
    {
      "metadata": {
        "id": "ywdSOM3mtnCy",
        "colab_type": "text"
      },
      "cell_type": "markdown",
      "source": [
        "for plotting of different graphs for better visualization of results"
      ]
    },
    {
      "metadata": {
        "id": "lAijo9I0tHZX",
        "colab_type": "code",
        "outputId": "d139ca40-7698-491c-8bb5-ba1d2dfd4e32",
        "colab": {
          "base_uri": "https://localhost:8080/",
          "height": 255
        }
      },
      "cell_type": "code",
      "source": [
        "!pip install scikit-plot\n",
        "import matplotlib.pyplot as plt\n",
        "%matplotlib inline \n",
        "import scikitplot as skplt"
      ],
      "execution_count": 0,
      "outputs": [
        {
          "output_type": "stream",
          "text": [
            "Requirement already satisfied: scikit-plot in /usr/local/lib/python3.6/dist-packages (0.3.7)\n",
            "Requirement already satisfied: matplotlib>=1.4.0 in /usr/local/lib/python3.6/dist-packages (from scikit-plot) (3.0.2)\n",
            "Requirement already satisfied: scikit-learn>=0.18 in /usr/local/lib/python3.6/dist-packages (from scikit-plot) (0.20.2)\n",
            "Requirement already satisfied: scipy>=0.9 in /usr/local/lib/python3.6/dist-packages (from scikit-plot) (1.1.0)\n",
            "Requirement already satisfied: joblib>=0.10 in /usr/local/lib/python3.6/dist-packages (from scikit-plot) (0.13.1)\n",
            "Requirement already satisfied: pyparsing!=2.0.4,!=2.1.2,!=2.1.6,>=2.0.1 in /usr/local/lib/python3.6/dist-packages (from matplotlib>=1.4.0->scikit-plot) (2.3.1)\n",
            "Requirement already satisfied: cycler>=0.10 in /usr/local/lib/python3.6/dist-packages (from matplotlib>=1.4.0->scikit-plot) (0.10.0)\n",
            "Requirement already satisfied: kiwisolver>=1.0.1 in /usr/local/lib/python3.6/dist-packages (from matplotlib>=1.4.0->scikit-plot) (1.0.1)\n",
            "Requirement already satisfied: numpy>=1.10.0 in /usr/local/lib/python3.6/dist-packages (from matplotlib>=1.4.0->scikit-plot) (1.14.6)\n",
            "Requirement already satisfied: python-dateutil>=2.1 in /usr/local/lib/python3.6/dist-packages (from matplotlib>=1.4.0->scikit-plot) (2.5.3)\n",
            "Requirement already satisfied: six in /usr/local/lib/python3.6/dist-packages (from cycler>=0.10->matplotlib>=1.4.0->scikit-plot) (1.11.0)\n",
            "Requirement already satisfied: setuptools in /usr/local/lib/python3.6/dist-packages (from kiwisolver>=1.0.1->matplotlib>=1.4.0->scikit-plot) (40.6.3)\n"
          ],
          "name": "stdout"
        }
      ]
    },
    {
      "metadata": {
        "id": "HVGKPc3z4T5t",
        "colab_type": "text"
      },
      "cell_type": "markdown",
      "source": [
        "# Downloading and Visulizing Dataset"
      ]
    },
    {
      "metadata": {
        "id": "LCKDrFvtt3D7",
        "colab_type": "text"
      },
      "cell_type": "markdown",
      "source": [
        "Downloading of GTZAN dataset which contains 1000 pieces of 30 sec audio-clips (ten genres and 100 songs for each genre)."
      ]
    },
    {
      "metadata": {
        "id": "vISKk5KwtlDY",
        "colab_type": "code",
        "outputId": "a02774d4-6f4e-4255-f8fd-800eeef71c68",
        "colab": {
          "base_uri": "https://localhost:8080/",
          "height": 217
        }
      },
      "cell_type": "code",
      "source": [
        "!wget http://opihi.cs.uvic.ca/sound/genres.tar.gz"
      ],
      "execution_count": 0,
      "outputs": [
        {
          "output_type": "stream",
          "text": [
            "--2019-01-28 18:28:09--  http://opihi.cs.uvic.ca/sound/genres.tar.gz\n",
            "Resolving opihi.cs.uvic.ca (opihi.cs.uvic.ca)... 142.104.68.135\n",
            "Connecting to opihi.cs.uvic.ca (opihi.cs.uvic.ca)|142.104.68.135|:80... connected.\n",
            "HTTP request sent, awaiting response... 200 OK\n",
            "Length: 1225573614 (1.1G) [application/x-gzip]\n",
            "Saving to: ‘genres.tar.gz’\n",
            "\n",
            "genres.tar.gz       100%[===================>]   1.14G  1.57MB/s    in 12m 38s \n",
            "\n",
            "2019-01-28 18:40:48 (1.54 MB/s) - ‘genres.tar.gz’ saved [1225573614/1225573614]\n",
            "\n"
          ],
          "name": "stdout"
        }
      ]
    },
    {
      "metadata": {
        "id": "gcmmLsWxuXf0",
        "colab_type": "text"
      },
      "cell_type": "markdown",
      "source": [
        "Listing the root directory"
      ]
    },
    {
      "metadata": {
        "id": "OXc5RNZjummi",
        "colab_type": "code",
        "outputId": "e6ff6887-5f9d-40ec-9ac6-00cefc2e3c23",
        "colab": {
          "base_uri": "https://localhost:8080/",
          "height": 35
        }
      },
      "cell_type": "code",
      "source": [
        "!ls"
      ],
      "execution_count": 0,
      "outputs": [
        {
          "output_type": "stream",
          "text": [
            "genres.tar.gz  sample_data\n"
          ],
          "name": "stdout"
        }
      ]
    },
    {
      "metadata": {
        "id": "OT_b5kpwun1g",
        "colab_type": "text"
      },
      "cell_type": "markdown",
      "source": [
        "Extracting the genres.tar.gz file in the root directory itself."
      ]
    },
    {
      "metadata": {
        "id": "YGdgBkNHt2eA",
        "colab_type": "code",
        "colab": {}
      },
      "cell_type": "code",
      "source": [
        "import tarfile\n",
        "\n",
        "fname = 'genres.tar.gz'\n",
        "\n",
        "tar = tarfile.open(fname, \"r:gz\")\n",
        "tar.extractall()\n",
        "tar.close()"
      ],
      "execution_count": 0,
      "outputs": []
    },
    {
      "metadata": {
        "id": "uzLOuj3_uvn1",
        "colab_type": "text"
      },
      "cell_type": "markdown",
      "source": [
        "Visualizing the files inside the extracted data and getting back to root directory."
      ]
    },
    {
      "metadata": {
        "id": "aHzGQcT7uwC8",
        "colab_type": "code",
        "outputId": "fd998d2f-6f11-4c33-9335-7669ef65c901",
        "colab": {
          "base_uri": "https://localhost:8080/",
          "height": 35
        }
      },
      "cell_type": "code",
      "source": [
        "!ls"
      ],
      "execution_count": 0,
      "outputs": [
        {
          "output_type": "stream",
          "text": [
            "genres\tgenres.tar.gz  sample_data\n"
          ],
          "name": "stdout"
        }
      ]
    },
    {
      "metadata": {
        "id": "a3dsFfXsu2gp",
        "colab_type": "code",
        "outputId": "f55a0ebb-cb41-431a-94cb-fde84d33502c",
        "colab": {
          "base_uri": "https://localhost:8080/",
          "height": 35
        }
      },
      "cell_type": "code",
      "source": [
        "cd genres"
      ],
      "execution_count": 0,
      "outputs": [
        {
          "output_type": "stream",
          "text": [
            "/content/genres\n"
          ],
          "name": "stdout"
        }
      ]
    },
    {
      "metadata": {
        "id": "Kj7V2toIu5AC",
        "colab_type": "code",
        "outputId": "5bff3a94-ce6d-4ff7-b132-b1a5faf31c4d",
        "colab": {
          "base_uri": "https://localhost:8080/",
          "height": 35
        }
      },
      "cell_type": "code",
      "source": [
        "!ls"
      ],
      "execution_count": 0,
      "outputs": [
        {
          "output_type": "stream",
          "text": [
            "blues  classical  country  disco  hiphop  jazz\tmetal  pop  reggae  rock\n"
          ],
          "name": "stdout"
        }
      ]
    },
    {
      "metadata": {
        "id": "yOA1hIvSu699",
        "colab_type": "code",
        "outputId": "7ca80a8c-6926-40ae-a945-91b500a6a220",
        "colab": {
          "base_uri": "https://localhost:8080/",
          "height": 35
        }
      },
      "cell_type": "code",
      "source": [
        "cd blues"
      ],
      "execution_count": 0,
      "outputs": [
        {
          "output_type": "stream",
          "text": [
            "/content/genres/blues\n"
          ],
          "name": "stdout"
        }
      ]
    },
    {
      "metadata": {
        "id": "hl9GLfNpu9td",
        "colab_type": "code",
        "outputId": "8be3c410-98d4-4f59-9719-ae3594ddf630",
        "colab": {
          "base_uri": "https://localhost:8080/",
          "height": 381
        }
      },
      "cell_type": "code",
      "source": [
        "!ls"
      ],
      "execution_count": 0,
      "outputs": [
        {
          "output_type": "stream",
          "text": [
            "blues.00000.au\tblues.00020.au\tblues.00040.au\tblues.00060.au\tblues.00080.au\n",
            "blues.00001.au\tblues.00021.au\tblues.00041.au\tblues.00061.au\tblues.00081.au\n",
            "blues.00002.au\tblues.00022.au\tblues.00042.au\tblues.00062.au\tblues.00082.au\n",
            "blues.00003.au\tblues.00023.au\tblues.00043.au\tblues.00063.au\tblues.00083.au\n",
            "blues.00004.au\tblues.00024.au\tblues.00044.au\tblues.00064.au\tblues.00084.au\n",
            "blues.00005.au\tblues.00025.au\tblues.00045.au\tblues.00065.au\tblues.00085.au\n",
            "blues.00006.au\tblues.00026.au\tblues.00046.au\tblues.00066.au\tblues.00086.au\n",
            "blues.00007.au\tblues.00027.au\tblues.00047.au\tblues.00067.au\tblues.00087.au\n",
            "blues.00008.au\tblues.00028.au\tblues.00048.au\tblues.00068.au\tblues.00088.au\n",
            "blues.00009.au\tblues.00029.au\tblues.00049.au\tblues.00069.au\tblues.00089.au\n",
            "blues.00010.au\tblues.00030.au\tblues.00050.au\tblues.00070.au\tblues.00090.au\n",
            "blues.00011.au\tblues.00031.au\tblues.00051.au\tblues.00071.au\tblues.00091.au\n",
            "blues.00012.au\tblues.00032.au\tblues.00052.au\tblues.00072.au\tblues.00092.au\n",
            "blues.00013.au\tblues.00033.au\tblues.00053.au\tblues.00073.au\tblues.00093.au\n",
            "blues.00014.au\tblues.00034.au\tblues.00054.au\tblues.00074.au\tblues.00094.au\n",
            "blues.00015.au\tblues.00035.au\tblues.00055.au\tblues.00075.au\tblues.00095.au\n",
            "blues.00016.au\tblues.00036.au\tblues.00056.au\tblues.00076.au\tblues.00096.au\n",
            "blues.00017.au\tblues.00037.au\tblues.00057.au\tblues.00077.au\tblues.00097.au\n",
            "blues.00018.au\tblues.00038.au\tblues.00058.au\tblues.00078.au\tblues.00098.au\n",
            "blues.00019.au\tblues.00039.au\tblues.00059.au\tblues.00079.au\tblues.00099.au\n"
          ],
          "name": "stdout"
        }
      ]
    },
    {
      "metadata": {
        "id": "eMHe3qlmvAUy",
        "colab_type": "code",
        "outputId": "e5bb2993-6d9c-4290-90b7-b14f35d4e055",
        "colab": {
          "base_uri": "https://localhost:8080/",
          "height": 35
        }
      },
      "cell_type": "code",
      "source": [
        "cd /content/"
      ],
      "execution_count": 0,
      "outputs": [
        {
          "output_type": "stream",
          "text": [
            "/content\n"
          ],
          "name": "stdout"
        }
      ]
    },
    {
      "metadata": {
        "id": "q1G21MQsvE9k",
        "colab_type": "code",
        "outputId": "178496ba-e063-4136-8a12-1451bac7b52e",
        "colab": {
          "base_uri": "https://localhost:8080/",
          "height": 35
        }
      },
      "cell_type": "code",
      "source": [
        "!ls"
      ],
      "execution_count": 0,
      "outputs": [
        {
          "output_type": "stream",
          "text": [
            "genres\tgenres.tar.gz  sample_data\n"
          ],
          "name": "stdout"
        }
      ]
    },
    {
      "metadata": {
        "id": "Tq-R9mKS4bE_",
        "colab_type": "text"
      },
      "cell_type": "markdown",
      "source": [
        "# Data Preprocessing Step - Converting raw audio into numpy arrays"
      ]
    },
    {
      "metadata": {
        "id": "-qKVqpsKx-v5",
        "colab_type": "text"
      },
      "cell_type": "markdown",
      "source": [
        "Defining the AUDIO_PATH as global variable.\n",
        "classes_temp contains all the 10 types of genres in our training data"
      ]
    },
    {
      "metadata": {
        "id": "W0wYGz7-vF3W",
        "colab_type": "code",
        "outputId": "c5f48d98-09e0-41e9-c22c-8da108e3a87c",
        "colab": {
          "base_uri": "https://localhost:8080/",
          "height": 35
        }
      },
      "cell_type": "code",
      "source": [
        "AUDIO_PATH = 'genres'\n",
        "classes_temp = os.walk(AUDIO_PATH).__next__()[1]\n",
        "print(classes_temp)"
      ],
      "execution_count": 0,
      "outputs": [
        {
          "output_type": "stream",
          "text": [
            "['classical', 'jazz', 'blues', 'rock', 'hiphop', 'disco', 'pop', 'reggae', 'country', 'metal']\n"
          ],
          "name": "stdout"
        }
      ]
    },
    {
      "metadata": {
        "id": "e0pB1HTTyNb-",
        "colab_type": "text"
      },
      "cell_type": "markdown",
      "source": [
        "This step may take time depending on your system specifications. I am using Google Colab which gives you free access to Nvidia Tesla K80 GPU and 12 GB of RAM. It took me around 32 minutes.\n",
        "\n",
        "In this step, we are actually using librosa library to convert our raw audio data into numpy array's (wavedata stores the audio time series as a numpy array and sample rate stores the sampling rate of the audio (default sample rate is used here which is 22 Khz))\n",
        "\n",
        "Moreover, we sample each audio into 10 audios of 2 seconds each (that is what the for loop over range(0, 20, 2) signifies).\n",
        "\n",
        "Finally, list_data and classes information is stored in a .npy file list_data-offseti2-duration2.npy and classes-offseti2-duration2.npy respectivelly."
      ]
    },
    {
      "metadata": {
        "id": "IbJDBQWsvYMR",
        "colab_type": "code",
        "outputId": "4ed86382-0099-46de-d6cc-2d5abb9e8225",
        "colab": {
          "base_uri": "https://localhost:8080/",
          "height": 35
        }
      },
      "cell_type": "code",
      "source": [
        "list_data = [] \n",
        "classes = [] \n",
        "load = None\n",
        "savename = \"offseti2-duration2.npy\"\n",
        "\n",
        "start = time.time()\n",
        "\n",
        "for c in classes_temp:\n",
        "  for root, subdirs, files in os.walk(os.path.join(AUDIO_PATH, c)):\n",
        "    for file in files:\n",
        "      for i in range(0, 20, 2):\n",
        "        filepath = os.path.join(root, file)    \n",
        "        wavedata, samplerate = librosa.load(filepath, sr=None, mono=True, offset=i, duration=2)    \n",
        "        wavedata = wavedata[np.newaxis, :]\n",
        "        list_data.append(wavedata)\n",
        "        classes.append(c)\n",
        "\n",
        "np.save(\"list_data-\" + savename, list_data)\n",
        "np.save(\"classes-\" + savename, classes)\n",
        "print(time.time() - start)"
      ],
      "execution_count": 0,
      "outputs": [
        {
          "output_type": "stream",
          "text": [
            "1958.2365872859955\n"
          ],
          "name": "stdout"
        }
      ]
    },
    {
      "metadata": {
        "id": "3L6un2hBzqnk",
        "colab_type": "text"
      },
      "cell_type": "markdown",
      "source": [
        "Loading the stored data."
      ]
    },
    {
      "metadata": {
        "id": "OTsK4o0hwPaD",
        "colab_type": "code",
        "colab": {}
      },
      "cell_type": "code",
      "source": [
        "list_data = np.load(\"list_data-\" + savename)\n",
        "classes = np.load(\"classes-\" + savename)"
      ],
      "execution_count": 0,
      "outputs": []
    },
    {
      "metadata": {
        "id": "RFU4CckXzzBd",
        "colab_type": "text"
      },
      "cell_type": "markdown",
      "source": [
        "Visualizing the shape of list_data which is (10000, 1, 44100).\n",
        "Here:\n",
        "\n",
        "*   10000 - number of samples in the dataset (Remember, we divide each audio sample into 10 audio samples of 2 seconds each using librosa library)\n",
        "*   (1, 44100) - dimension of each audio sample (44100 comes from the fact that the sampling rate is 22050 Hz (22050 datapoints each second)and each audio is 2 seconds long.)\n",
        "\n"
      ]
    },
    {
      "metadata": {
        "id": "1OtpC0XDwUeE",
        "colab_type": "code",
        "outputId": "2ca599d4-614c-4aae-ff0a-8c01b36845eb",
        "colab": {
          "base_uri": "https://localhost:8080/",
          "height": 35
        }
      },
      "cell_type": "code",
      "source": [
        "list_data.shape"
      ],
      "execution_count": 0,
      "outputs": [
        {
          "output_type": "execute_result",
          "data": {
            "text/plain": [
              "(10000, 1, 44100)"
            ]
          },
          "metadata": {
            "tags": []
          },
          "execution_count": 11
        }
      ]
    },
    {
      "metadata": {
        "id": "DvSZH4Q40yn9",
        "colab_type": "text"
      },
      "cell_type": "markdown",
      "source": [
        "Steps for converting our 10 classes into one hot vector representation."
      ]
    },
    {
      "metadata": {
        "id": "z9uruLJxwaxA",
        "colab_type": "code",
        "outputId": "41ae014d-9bcb-4f9f-cdec-6a1eb50993b7",
        "colab": {
          "base_uri": "https://localhost:8080/",
          "height": 35
        }
      },
      "cell_type": "code",
      "source": [
        "from sklearn.preprocessing import LabelEncoder\n",
        "\n",
        "labelencoder = LabelEncoder()\n",
        "labelencoder.fit(classes)\n",
        "\n",
        "n_classes = len(labelencoder.classes_)\n",
        "print(n_classes, \"classes:\", \", \".join(list(labelencoder.classes_)))\n",
        "\n",
        "classes_num = labelencoder.transform(classes)"
      ],
      "execution_count": 0,
      "outputs": [
        {
          "output_type": "stream",
          "text": [
            "10 classes: blues, classical, country, disco, hiphop, jazz, metal, pop, reggae, rock\n"
          ],
          "name": "stdout"
        }
      ]
    },
    {
      "metadata": {
        "id": "Sw9raD6Owdk4",
        "colab_type": "code",
        "outputId": "33628278-d34a-4877-d76f-f9bd85d5d2a5",
        "colab": {
          "base_uri": "https://localhost:8080/",
          "height": 145
        }
      },
      "cell_type": "code",
      "source": [
        "classes_num_1hot = to_categorical(classes_num)\n",
        "classes_num_1hot"
      ],
      "execution_count": 0,
      "outputs": [
        {
          "output_type": "execute_result",
          "data": {
            "text/plain": [
              "array([[0., 0., 0., ..., 0., 0., 1.],\n",
              "       [0., 0., 0., ..., 0., 0., 1.],\n",
              "       [0., 0., 0., ..., 0., 0., 1.],\n",
              "       ...,\n",
              "       [0., 0., 0., ..., 0., 1., 0.],\n",
              "       [0., 0., 0., ..., 0., 1., 0.],\n",
              "       [0., 0., 0., ..., 0., 1., 0.]], dtype=float32)"
            ]
          },
          "metadata": {
            "tags": []
          },
          "execution_count": 13
        }
      ]
    },
    {
      "metadata": {
        "id": "h6Dx4deUwfjn",
        "colab_type": "code",
        "outputId": "49c5c627-8155-4640-ea91-0fa03136fede",
        "colab": {
          "base_uri": "https://localhost:8080/",
          "height": 35
        }
      },
      "cell_type": "code",
      "source": [
        "classes_num_1hot.shape"
      ],
      "execution_count": 0,
      "outputs": [
        {
          "output_type": "execute_result",
          "data": {
            "text/plain": [
              "(10000, 10)"
            ]
          },
          "metadata": {
            "tags": []
          },
          "execution_count": 14
        }
      ]
    },
    {
      "metadata": {
        "id": "vCQ2VWWD1FXe",
        "colab_type": "text"
      },
      "cell_type": "markdown",
      "source": [
        "Converting list_data into a numpy array."
      ]
    },
    {
      "metadata": {
        "id": "22PmkeM4whVj",
        "colab_type": "code",
        "outputId": "3618d393-7cfc-4cd2-afa7-085f5eb80cc9",
        "colab": {
          "base_uri": "https://localhost:8080/",
          "height": 35
        }
      },
      "cell_type": "code",
      "source": [
        "data = np.array(list_data)\n",
        "data.shape"
      ],
      "execution_count": 0,
      "outputs": [
        {
          "output_type": "execute_result",
          "data": {
            "text/plain": [
              "(10000, 1, 44100)"
            ]
          },
          "metadata": {
            "tags": []
          },
          "execution_count": 15
        }
      ]
    },
    {
      "metadata": {
        "id": "DL4IAxfA1Lx4",
        "colab_type": "text"
      },
      "cell_type": "markdown",
      "source": [
        "Splitting of dataset into training data (75%) and test data(25%) in the format so that we get 750 audio's from each category of genre in our training data and 250 audio's from each category of genre in our test data."
      ]
    },
    {
      "metadata": {
        "id": "foTE7o8ywja4",
        "colab_type": "code",
        "outputId": "ee68ecd0-b40a-4276-f826-c8b83c619f1e",
        "colab": {
          "base_uri": "https://localhost:8080/",
          "height": 90
        }
      },
      "cell_type": "code",
      "source": [
        "testset_size = 0.25\n",
        "splitter = StratifiedShuffleSplit(n_splits=1, test_size=testset_size, random_state=0)\n",
        "splits = splitter.split(data, classes_num)\n",
        "\n",
        "for train_index, test_index in splits:\n",
        "    print(\"TRAIN INDEX:\", train_index)\n",
        "    print(\"TEST INDEX:\", test_index)\n",
        "    \n",
        "    train_set = data[train_index]\n",
        "    test_set = data[test_index]\n",
        "    \n",
        "    train_classes = classes_num[train_index]\n",
        "    train_classes_1hot = classes_num_1hot[train_index]\n",
        "    test_classes = classes_num[test_index]\n",
        "\n",
        "print(train_set.shape)\n",
        "print(test_set.shape)"
      ],
      "execution_count": 0,
      "outputs": [
        {
          "output_type": "stream",
          "text": [
            "TRAIN INDEX: [6083 1372 3713 ...  747  459 4636]\n",
            "TEST INDEX: [5312 6983 4609 ...  742 1797 8974]\n",
            "(7500, 1, 44100)\n",
            "(2500, 1, 44100)\n"
          ],
          "name": "stdout"
        }
      ]
    },
    {
      "metadata": {
        "id": "uPg-RPdlwl3b",
        "colab_type": "code",
        "outputId": "402e6141-4e48-44a2-f4dd-4891ecbcfba3",
        "colab": {
          "base_uri": "https://localhost:8080/",
          "height": 217
        }
      },
      "cell_type": "code",
      "source": [
        "cnt = Counter(train_classes)\n",
        "print(\"Number of files in each category in TRAIN set:\")\n",
        "for k in sorted(cnt.keys()):\n",
        "    print(k, \":\", cnt[k])"
      ],
      "execution_count": 0,
      "outputs": [
        {
          "output_type": "stream",
          "text": [
            "Number of files in each category in TRAIN set:\n",
            "0 : 750\n",
            "1 : 750\n",
            "2 : 750\n",
            "3 : 750\n",
            "4 : 750\n",
            "5 : 750\n",
            "6 : 750\n",
            "7 : 750\n",
            "8 : 750\n",
            "9 : 750\n"
          ],
          "name": "stdout"
        }
      ]
    },
    {
      "metadata": {
        "id": "kQwTojdB1tf9",
        "colab_type": "text"
      },
      "cell_type": "markdown",
      "source": [
        "shape of train_set, test_set and input_shape of each audio sample."
      ]
    },
    {
      "metadata": {
        "id": "F_nDq37NwntQ",
        "colab_type": "code",
        "outputId": "96ea655f-135f-4d53-c91e-f3624402e73a",
        "colab": {
          "base_uri": "https://localhost:8080/",
          "height": 35
        }
      },
      "cell_type": "code",
      "source": [
        "train_set.shape"
      ],
      "execution_count": 0,
      "outputs": [
        {
          "output_type": "execute_result",
          "data": {
            "text/plain": [
              "(7500, 1, 44100)"
            ]
          },
          "metadata": {
            "tags": []
          },
          "execution_count": 18
        }
      ]
    },
    {
      "metadata": {
        "id": "KOZza7tuwqmA",
        "colab_type": "code",
        "outputId": "4671a512-abd9-45be-9f43-03ba10a8bb47",
        "colab": {
          "base_uri": "https://localhost:8080/",
          "height": 35
        }
      },
      "cell_type": "code",
      "source": [
        "test_set.shape"
      ],
      "execution_count": 0,
      "outputs": [
        {
          "output_type": "execute_result",
          "data": {
            "text/plain": [
              "(2500, 1, 44100)"
            ]
          },
          "metadata": {
            "tags": []
          },
          "execution_count": 19
        }
      ]
    },
    {
      "metadata": {
        "id": "WumJPPBhwsEt",
        "colab_type": "code",
        "outputId": "245c9b59-698d-4b7f-a8f4-3b3eab382bb6",
        "colab": {
          "base_uri": "https://localhost:8080/",
          "height": 35
        }
      },
      "cell_type": "code",
      "source": [
        "input_shape = train_set.shape[1:]  \n",
        "input_shape"
      ],
      "execution_count": 0,
      "outputs": [
        {
          "output_type": "execute_result",
          "data": {
            "text/plain": [
              "(1, 44100)"
            ]
          },
          "metadata": {
            "tags": []
          },
          "execution_count": 20
        }
      ]
    },
    {
      "metadata": {
        "id": "boxOO--f4oBF",
        "colab_type": "text"
      },
      "cell_type": "markdown",
      "source": [
        "# Defining our Deep Convolutional Neural Network (2D CNNs)"
      ]
    },
    {
      "metadata": {
        "id": "7FEkz-AL135i",
        "colab_type": "text"
      },
      "cell_type": "markdown",
      "source": [
        "Defining our deep Convolutional Neural Network (2D CNNs). For more info on the model architecture see the model.summary() result."
      ]
    },
    {
      "metadata": {
        "id": "eyvw6Lo1wuId",
        "colab_type": "code",
        "colab": {}
      },
      "cell_type": "code",
      "source": [
        "np.random.seed(0)\n",
        "\n",
        "model = Sequential()\n",
        "model.add(Melspectrogram(n_dft=1024, n_hop=512, input_shape=input_shape, return_decibel_melgram=True, name='melgram'))\n",
        "model.add(Normalization2D(str_axis='freq'))\n",
        "\n",
        "# Layer 1\n",
        "model.add(Conv2D(32, (3, 3), activation='relu'))\n",
        "# model.add(BatchNormalization())\n",
        "model.add(MaxPooling2D(pool_size=(2, 2))) \n",
        "\n",
        "# Layer 2\n",
        "model.add(Conv2D(32, (3, 3), activation='relu'))\n",
        "# model.add(BatchNormalization())\n",
        "model.add(MaxPooling2D(pool_size=(2, 2))) \n",
        "model.add(Flatten()) \n",
        "\n",
        "model.add(Dense(100, activation='relu')) \n",
        "# model.add(BatchNormalization())\n",
        "model.add(Dense(n_classes,activation='softmax'))\n",
        "\n",
        "model.compile(loss='categorical_crossentropy' , optimizer='sgd' , metrics=['accuracy'])\n",
        "\n",
        "history = None"
      ],
      "execution_count": 0,
      "outputs": []
    },
    {
      "metadata": {
        "id": "Y0SUp4oW2FbR",
        "colab_type": "text"
      },
      "cell_type": "markdown",
      "source": [
        "Model architecture Visualization."
      ]
    },
    {
      "metadata": {
        "id": "E6PrrE14xVaP",
        "colab_type": "code",
        "outputId": "3c5ca600-8fa9-435b-a2a5-24c4aa706779",
        "colab": {
          "base_uri": "https://localhost:8080/",
          "height": 472
        }
      },
      "cell_type": "code",
      "source": [
        "model.summary()"
      ],
      "execution_count": 0,
      "outputs": [
        {
          "output_type": "stream",
          "text": [
            "_________________________________________________________________\n",
            "Layer (type)                 Output Shape              Param #   \n",
            "=================================================================\n",
            "melgram (Melspectrogram)     (None, 128, 87, 1)        1116288   \n",
            "_________________________________________________________________\n",
            "normalization2d_1 (Normaliza (None, 128, 87, 1)        0         \n",
            "_________________________________________________________________\n",
            "conv2d_1 (Conv2D)            (None, 126, 85, 32)       320       \n",
            "_________________________________________________________________\n",
            "max_pooling2d_1 (MaxPooling2 (None, 63, 42, 32)        0         \n",
            "_________________________________________________________________\n",
            "conv2d_2 (Conv2D)            (None, 61, 40, 32)        9248      \n",
            "_________________________________________________________________\n",
            "max_pooling2d_2 (MaxPooling2 (None, 30, 20, 32)        0         \n",
            "_________________________________________________________________\n",
            "flatten_1 (Flatten)          (None, 19200)             0         \n",
            "_________________________________________________________________\n",
            "dense_1 (Dense)              (None, 100)               1920100   \n",
            "_________________________________________________________________\n",
            "dense_2 (Dense)              (None, 10)                1010      \n",
            "=================================================================\n",
            "Total params: 3,046,966\n",
            "Trainable params: 1,930,678\n",
            "Non-trainable params: 1,116,288\n",
            "_________________________________________________________________\n"
          ],
          "name": "stdout"
        }
      ]
    },
    {
      "metadata": {
        "id": "zPLMgFeI2KPV",
        "colab_type": "text"
      },
      "cell_type": "markdown",
      "source": [
        "Training of our Deep Convolutional Neural Network (CNN).\n",
        "It may take time depending on your system specification. It took me around 6 seconds for each epoch on Google Colab."
      ]
    },
    {
      "metadata": {
        "id": "24OP9mQsxXqj",
        "colab_type": "code",
        "outputId": "7b02b559-96f7-4dd8-8ab8-6945f57922c3",
        "colab": {
          "base_uri": "https://localhost:8080/",
          "height": 419
        }
      },
      "cell_type": "code",
      "source": [
        "modelName = \"model1-conv2d\"\n",
        "\n",
        "History = model.fit(train_set, train_classes_1hot, validation_split=0.1, batch_size=32, epochs=10)\n",
        "\n",
        "history = History.history\n",
        "        \n",
        "model.save(modelName + \".h5\")\n",
        "np.save(modelName + \"-history.npy\", history)"
      ],
      "execution_count": 0,
      "outputs": [
        {
          "output_type": "stream",
          "text": [
            "Train on 6750 samples, validate on 750 samples\n",
            "Epoch 1/10\n",
            "6750/6750 [==============================] - 21s 3ms/step - loss: 1.8288 - acc: 0.3527 - val_loss: 1.5411 - val_acc: 0.4827\n",
            "Epoch 2/10\n",
            "6750/6750 [==============================] - 6s 873us/step - loss: 1.4564 - acc: 0.4919 - val_loss: 1.4501 - val_acc: 0.4893\n",
            "Epoch 3/10\n",
            "6750/6750 [==============================] - 6s 870us/step - loss: 1.2089 - acc: 0.5803 - val_loss: 1.1901 - val_acc: 0.5920\n",
            "Epoch 4/10\n",
            "6750/6750 [==============================] - 6s 870us/step - loss: 1.0156 - acc: 0.6440 - val_loss: 1.1490 - val_acc: 0.5853\n",
            "Epoch 5/10\n",
            "6750/6750 [==============================] - 6s 866us/step - loss: 0.8863 - acc: 0.6944 - val_loss: 1.1436 - val_acc: 0.6027\n",
            "Epoch 6/10\n",
            "6750/6750 [==============================] - 6s 871us/step - loss: 0.7590 - acc: 0.7388 - val_loss: 0.9371 - val_acc: 0.6773\n",
            "Epoch 7/10\n",
            "6750/6750 [==============================] - 6s 864us/step - loss: 0.6516 - acc: 0.7764 - val_loss: 1.1677 - val_acc: 0.5893\n",
            "Epoch 8/10\n",
            "6750/6750 [==============================] - 6s 873us/step - loss: 0.5449 - acc: 0.8141 - val_loss: 0.9958 - val_acc: 0.6587\n",
            "Epoch 9/10\n",
            "6750/6750 [==============================] - 6s 869us/step - loss: 0.4721 - acc: 0.8419 - val_loss: 0.9173 - val_acc: 0.6960\n",
            "Epoch 10/10\n",
            "6750/6750 [==============================] - 6s 871us/step - loss: 0.3733 - acc: 0.8799 - val_loss: 1.1129 - val_acc: 0.6627\n"
          ],
          "name": "stdout"
        }
      ]
    },
    {
      "metadata": {
        "id": "O6B3CGtV2bQN",
        "colab_type": "text"
      },
      "cell_type": "markdown",
      "source": [
        "Saving the model in model1-conv2d.h5 file."
      ]
    },
    {
      "metadata": {
        "id": "NMs0q81VxmiQ",
        "colab_type": "code",
        "outputId": "0ebc9bb7-b94a-4f3e-cac2-bbef073cbc17",
        "colab": {
          "base_uri": "https://localhost:8080/",
          "height": 35
        }
      },
      "cell_type": "code",
      "source": [
        "model = keras.models.load_model(modelName + \".h5\", custom_objects={'Melspectrogram':kapre.time_frequency.Melspectrogram, \n",
        "                                                                       'Normalization2D': kapre.utils.Normalization2D})\n",
        "history = np.load(modelName + \"-history.npy\").item()"
      ],
      "execution_count": 0,
      "outputs": [
        {
          "output_type": "stream",
          "text": [
            "int_axis=1 passed but is ignored, str_axis is used instead.\n"
          ],
          "name": "stdout"
        }
      ]
    },
    {
      "metadata": {
        "id": "lrQ_Dvvd44KM",
        "colab_type": "text"
      },
      "cell_type": "markdown",
      "source": [
        "# Calculating Testing Accuracy and Visualizing the Results"
      ]
    },
    {
      "metadata": {
        "id": "coHSkclf2hcV",
        "colab_type": "text"
      },
      "cell_type": "markdown",
      "source": [
        "Function for plotting of training accuracy, loss, validation accuracy and loss."
      ]
    },
    {
      "metadata": {
        "id": "J7iPjp5V2oKY",
        "colab_type": "code",
        "colab": {}
      },
      "cell_type": "code",
      "source": [
        "def plot_traincurve(history):\n",
        "    colors = {'loss':'r', 'acc':'b', 'val_loss':'m', 'val_acc':'g'}\n",
        "    plt.figure(figsize=(10,6))\n",
        "    plt.title(\"Training Curve\") \n",
        "    plt.xlabel(\"Epoch\")\n",
        "\n",
        "    for measure in history.keys():\n",
        "        color = colors[measure]\n",
        "        ln = len(history[measure])\n",
        "        plt.plot(range(1,ln+1), history[measure], color + '-', label=measure)  # use last 2 values to draw line\n",
        "\n",
        "    plt.legend(loc='upper left', scatterpoints = 1, frameon=False)"
      ],
      "execution_count": 0,
      "outputs": []
    },
    {
      "metadata": {
        "id": "zeksFgKB23i8",
        "colab_type": "text"
      },
      "cell_type": "markdown",
      "source": [
        "See the plot."
      ]
    },
    {
      "metadata": {
        "id": "aKY1O_TLxt1Q",
        "colab_type": "code",
        "outputId": "81067e8d-e662-4b44-e1f4-3d5eaa04cfac",
        "colab": {
          "base_uri": "https://localhost:8080/",
          "height": 404
        }
      },
      "cell_type": "code",
      "source": [
        "plot_traincurve(history)"
      ],
      "execution_count": 0,
      "outputs": [
        {
          "output_type": "display_data",
          "data": {
            "image/png": "[encoded data removed]",
            "text/plain": [
              "<Figure size 720x432 with 1 Axes>"
            ]
          },
          "metadata": {
            "tags": []
          }
        }
      ]
    },
    {
      "metadata": {
        "id": "ZCaPeE_827Pb",
        "colab_type": "text"
      },
      "cell_type": "markdown",
      "source": [
        "Visualing the result on test_set by our trained model."
      ]
    },
    {
      "metadata": {
        "id": "PmHZQleKxvCQ",
        "colab_type": "code",
        "outputId": "ee231cd0-5d59-4e99-e6d9-5a0547675c34",
        "colab": {
          "base_uri": "https://localhost:8080/",
          "height": 254
        }
      },
      "cell_type": "code",
      "source": [
        "test_pred = model.predict_classes(test_set)\n",
        "test_proba = model.predict_proba(test_set)\n",
        "test_proba"
      ],
      "execution_count": 0,
      "outputs": [
        {
          "output_type": "execute_result",
          "data": {
            "text/plain": [
              "array([[4.3355918e-05, 9.7532791e-01, 2.2469977e-02, ..., 1.7590440e-04,\n",
              "        1.8088757e-04, 1.6978163e-05],\n",
              "       [7.3132092e-01, 6.4084335e-04, 1.3367645e-01, ..., 3.4178861e-06,\n",
              "        3.8191090e-05, 1.6416030e-03],\n",
              "       [1.6245239e-03, 2.6945222e-07, 7.3879664e-07, ..., 7.0240800e-03,\n",
              "        7.2375798e-01, 4.6925815e-03],\n",
              "       ...,\n",
              "       [1.9191949e-04, 1.1682238e-05, 1.5373597e-01, ..., 5.1000793e-02,\n",
              "        1.3555899e-01, 6.4586401e-01],\n",
              "       [6.3520134e-03, 2.4701196e-06, 6.9331646e-01, ..., 4.7952086e-03,\n",
              "        4.6906702e-02, 2.3996894e-01],\n",
              "       [3.7020334e-04, 7.7574306e-08, 1.3546649e-03, ..., 2.2864538e-06,\n",
              "        3.6723322e-05, 8.8025862e-03]], dtype=float32)"
            ]
          },
          "metadata": {
            "tags": []
          },
          "execution_count": 27
        }
      ]
    },
    {
      "metadata": {
        "id": "ldhREFMN3EkQ",
        "colab_type": "text"
      },
      "cell_type": "markdown",
      "source": [
        "Accuracy on the Genre Classification Task using 2D CNNs.\n",
        "\n",
        "The accuracy is quite good as we have used a very small dataset of 7500 audio samples for training.\n",
        "\n",
        "The accuracy can be increased by collecting more dataset (like using Free Music Archive (FMA) dataset as well) or twerking with model architecture as our current model has 1,930,678 trainable parameter which is quite large for such a small dataset."
      ]
    },
    {
      "metadata": {
        "id": "TKZt04UGxyVe",
        "colab_type": "code",
        "outputId": "9b4e0d8b-b1dc-4bf4-f2b9-504dedcd6547",
        "colab": {
          "base_uri": "https://localhost:8080/",
          "height": 35
        }
      },
      "cell_type": "code",
      "source": [
        "accuracy_score(test_classes, test_pred)"
      ],
      "execution_count": 0,
      "outputs": [
        {
          "output_type": "execute_result",
          "data": {
            "text/plain": [
              "0.686"
            ]
          },
          "metadata": {
            "tags": []
          },
          "execution_count": 28
        }
      ]
    },
    {
      "metadata": {
        "id": "cX-sNgxO3t-S",
        "colab_type": "text"
      },
      "cell_type": "markdown",
      "source": [
        "Normalized Confusion Matrix - Have a look if you want to better understand our algorithm's results."
      ]
    },
    {
      "metadata": {
        "id": "klwTerEwx0YZ",
        "colab_type": "code",
        "outputId": "b76e130d-698c-4acf-8bbf-36c4368ebe4f",
        "colab": {
          "base_uri": "https://localhost:8080/",
          "height": 313
        }
      },
      "cell_type": "code",
      "source": [
        "skplt.metrics.plot_confusion_matrix(test_classes, test_pred, normalize=True)"
      ],
      "execution_count": 0,
      "outputs": [
        {
          "output_type": "execute_result",
          "data": {
            "text/plain": [
              "<matplotlib.axes._subplots.AxesSubplot at 0x7f8eed638d30>"
            ]
          },
          "metadata": {
            "tags": []
          },
          "execution_count": 29
        },
        {
          "output_type": "display_data",
          "data": {
            "image/png": "[encoded data removed]",
            "text/plain": [
              "<Figure size 432x288 with 2 Axes>"
            ]
          },
          "metadata": {
            "tags": []
          }
        }
      ]
    },
    {
      "metadata": {
        "id": "fVEVl5I83z5m",
        "colab_type": "text"
      },
      "cell_type": "markdown",
      "source": [
        "Precision - Recall Curve."
      ]
    },
    {
      "metadata": {
        "id": "bUZ97Y1vx2Iq",
        "colab_type": "code",
        "outputId": "a9c5b431-2fe1-45ad-b111-3040b947755e",
        "colab": {
          "base_uri": "https://localhost:8080/",
          "height": 313
        }
      },
      "cell_type": "code",
      "source": [
        "skplt.metrics.plot_precision_recall(test_classes, test_proba)"
      ],
      "execution_count": 0,
      "outputs": [
        {
          "output_type": "execute_result",
          "data": {
            "text/plain": [
              "<matplotlib.axes._subplots.AxesSubplot at 0x7f8eeac7c828>"
            ]
          },
          "metadata": {
            "tags": []
          },
          "execution_count": 30
        },
        {
          "output_type": "display_data",
          "data": {
            "image/png": "[encoded data removed]",
            "text/plain": [
              "<Figure size 432x288 with 1 Axes>"
            ]
          },
          "metadata": {
            "tags": []
          }
        }
      ]
    }
  ]
}