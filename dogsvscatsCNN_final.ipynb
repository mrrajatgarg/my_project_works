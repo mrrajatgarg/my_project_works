{
  "nbformat": 4,
  "nbformat_minor": 0,
  "metadata": {
    "colab": {
      "name": "dogsvscatsCNN_final.ipynb",
      "version": "0.3.2",
      "provenance": [],
      "collapsed_sections": [],
      "include_colab_link": true
    },
    "kernelspec": {
      "name": "python3",
      "display_name": "Python 3"
    },
    "accelerator": "GPU"
  },
  "cells": [
    {
      "cell_type": "markdown",
      "metadata": {
        "id": "view-in-github",
        "colab_type": "text"
      },
      "source": [
        "<a href=\"https://colab.research.google.com/github/mrrajatgarg/my_project_works/blob/master/dogsvscatsCNN_final.ipynb\" target=\"_parent\"><img src=\"https://colab.research.google.com/assets/colab-badge.svg\" alt=\"Open In Colab\"/></a>"
      ]
    },
    {
      "metadata": {
        "id": "ibzpSDTbyYBE",
        "colab_type": "text"
      },
      "cell_type": "markdown",
      "source": [
        "# Downloading of dataset from Kaggle"
      ]
    },
    {
      "metadata": {
        "id": "m1BeL_3xx-F6",
        "colab_type": "code",
        "outputId": "8384d041-d9e0-4ec1-cf1e-3c0ff0b92353",
        "colab": {
          "resources": {
            "http://localhost:8080/nbextensions/google.colab/files.js": {
              "data": "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",
              "ok": true,
              "headers": [
                [
                  "content-type",
                  "application/javascript"
                ]
              ],
              "status": 200,
              "status_text": ""
            }
          },
          "base_uri": "https://localhost:8080/",
          "height": 89
        }
      },
      "cell_type": "code",
      "source": [
        "# Run this cell and select the kaggle.json file downloaded\n",
        "# from the Kaggle account settings page.\n",
        "from google.colab import files\n",
        "files.upload()"
      ],
      "execution_count": 0,
      "outputs": [
        {
          "output_type": "display_data",
          "data": {
            "text/html": [
              "\n",
              "     <input type=\"file\" id=\"files-c9861bf4-46f4-426d-917c-3788ef8573df\" name=\"files[]\" multiple disabled />\n",
              "     <output id=\"result-c9861bf4-46f4-426d-917c-3788ef8573df\">\n",
              "      Upload widget is only available when the cell has been executed in the\n",
              "      current browser session. Please rerun this cell to enable.\n",
              "      </output>\n",
              "      <script src=\"/nbextensions/google.colab/files.js\"></script> "
            ],
            "text/plain": [
              "<IPython.core.display.HTML object>"
            ]
          },
          "metadata": {
            "tags": []
          }
        },
        {
          "output_type": "stream",
          "text": [
            "Saving kaggle.json to kaggle.json\n"
          ],
          "name": "stdout"
        },
        {
          "output_type": "execute_result",
          "data": {
            "text/plain": [
              "{'kaggle.json': b'{\"username\":\"mrrajatgarg\",\"key\":\"ae5a419aa72b781b3ca5459616930b23\"}'}"
            ]
          },
          "metadata": {
            "tags": []
          },
          "execution_count": 1
        }
      ]
    },
    {
      "metadata": {
        "id": "3JjKIrg1yG-F",
        "colab_type": "code",
        "outputId": "771bef0e-19b3-4083-c164-8ab3c2f5fea5",
        "colab": {
          "base_uri": "https://localhost:8080/",
          "height": 34
        }
      },
      "cell_type": "code",
      "source": [
        "# Let's make sure the kaggle.json file is present.\n",
        "!ls -lha kaggle.json"
      ],
      "execution_count": 0,
      "outputs": [
        {
          "output_type": "stream",
          "text": [
            "-rw-r--r-- 1 root root 67 Feb  6 16:39 kaggle.json\n"
          ],
          "name": "stdout"
        }
      ]
    },
    {
      "metadata": {
        "id": "Djl-P00MyObX",
        "colab_type": "code",
        "colab": {}
      },
      "cell_type": "code",
      "source": [
        "# Next, install the Kaggle API client.\n",
        "!pip install -q kaggle"
      ],
      "execution_count": 0,
      "outputs": []
    },
    {
      "metadata": {
        "id": "XdxdoM-ayRjN",
        "colab_type": "code",
        "colab": {}
      },
      "cell_type": "code",
      "source": [
        "# The Kaggle API client expects this file to be in ~/.kaggle,\n",
        "# so move it there.\n",
        "!mkdir -p ~/.kaggle\n",
        "!cp kaggle.json ~/.kaggle/\n",
        "\n",
        "# This permissions change avoids a warning on Kaggle tool startup.\n",
        "!chmod 600 ~/.kaggle/kaggle.json"
      ],
      "execution_count": 0,
      "outputs": []
    },
    {
      "metadata": {
        "id": "GhC7ZU5lyT-W",
        "colab_type": "code",
        "outputId": "0d65f02b-32c2-4994-9505-80d4baa330de",
        "colab": {
          "base_uri": "https://localhost:8080/",
          "height": 170
        }
      },
      "cell_type": "code",
      "source": [
        "!kaggle competitions download -c dogs-vs-cats"
      ],
      "execution_count": 0,
      "outputs": [
        {
          "output_type": "stream",
          "text": [
            "Downloading sampleSubmission.csv to /content\n",
            "\r  0% 0.00/86.8k [00:00<?, ?B/s]\n",
            "100% 86.8k/86.8k [00:00<00:00, 68.1MB/s]\n",
            "Downloading test1.zip to /content\n",
            " 95% 257M/271M [00:05<00:00, 53.4MB/s]\n",
            "100% 271M/271M [00:05<00:00, 49.7MB/s]\n",
            "Downloading train.zip to /content\n",
            " 99% 537M/543M [00:11<00:00, 47.2MB/s]\n",
            "100% 543M/543M [00:11<00:00, 47.9MB/s]\n"
          ],
          "name": "stdout"
        }
      ]
    },
    {
      "metadata": {
        "id": "mXTYg72iyW5g",
        "colab_type": "code",
        "outputId": "1b522556-97e5-4c8b-d157-e1799473b26f",
        "colab": {
          "base_uri": "https://localhost:8080/",
          "height": 153
        }
      },
      "cell_type": "code",
      "source": [
        "!ls"
      ],
      "execution_count": 0,
      "outputs": [
        {
          "output_type": "stream",
          "text": [
            "0  8\t\t\t  dataset_clip_id_melgram\t mp3.zip.001\n",
            "1  9\t\t\t  dataset_clip_id_melgram_1.zip  mp3.zip.002\n",
            "2  a\t\t\t  dataset_clip_id_melgram_22\t mp3.zip.003\n",
            "3  adc.json\t\t  dataset_clip_id_mp3\t\t sample_data\n",
            "4  annotations_final.csv  e\t\t\t\t sampleSubmission.csv\n",
            "5  b\t\t\t  f\t\t\t\t test1.zip\n",
            "6  c\t\t\t  kaggle.json\t\t\t train.zip\n",
            "7  d\t\t\t  mp3_all.zip\n"
          ],
          "name": "stdout"
        }
      ]
    },
    {
      "metadata": {
        "id": "QjOBS7sHy3ZK",
        "colab_type": "code",
        "outputId": "8c7b1cdb-61b5-4c48-eca5-fd21c7ad8a7c",
        "colab": {
          "base_uri": "https://localhost:8080/",
          "height": 51
        }
      },
      "cell_type": "code",
      "source": [
        "from zipfile import ZipFile\n",
        "\n",
        "file_name = \"train.zip\"\n",
        "\n",
        "# opening the zip file in read me mode\n",
        "with ZipFile(file_name, 'r') as zip :\n",
        "  print(\"Extracting the files...\")\n",
        "  zip.extractall()\n",
        "  print(\"Done\")"
      ],
      "execution_count": 0,
      "outputs": [
        {
          "output_type": "stream",
          "text": [
            "Extracting the files...\n",
            "Done\n"
          ],
          "name": "stdout"
        }
      ]
    },
    {
      "metadata": {
        "id": "9tCvrQiSy6eg",
        "colab_type": "code",
        "outputId": "10ee9d83-77b4-4ee8-fb4d-6f99cdcfc119",
        "colab": {
          "base_uri": "https://localhost:8080/",
          "height": 51
        }
      },
      "cell_type": "code",
      "source": [
        "file_name = \"test1.zip\"\n",
        "\n",
        "# opening the zip file in read me mode\n",
        "with ZipFile(file_name, 'r') as zip :\n",
        "  print(\"Extracting the files...\")\n",
        "  zip.extractall()\n",
        "  print(\"Done\")"
      ],
      "execution_count": 0,
      "outputs": [
        {
          "output_type": "stream",
          "text": [
            "Extracting the files...\n",
            "Done\n"
          ],
          "name": "stdout"
        }
      ]
    },
    {
      "metadata": {
        "id": "xD_KIUqcy_bF",
        "colab_type": "code",
        "outputId": "75c7a0d1-d4e9-4307-80e9-31db9528aad1",
        "colab": {
          "base_uri": "https://localhost:8080/",
          "height": 204
        }
      },
      "cell_type": "code",
      "source": [
        "!ls"
      ],
      "execution_count": 0,
      "outputs": [
        {
          "output_type": "stream",
          "text": [
            "0  adc.json\t\t\t  kaggle.json\n",
            "1  annotations_final.csv\t  mp3_all.zip\n",
            "2  b\t\t\t\t  mp3.zip.001\n",
            "3  c\t\t\t\t  mp3.zip.002\n",
            "4  d\t\t\t\t  mp3.zip.003\n",
            "5  dataset_clip_id_melgram\t  sample_data\n",
            "6  dataset_clip_id_melgram_1.zip  sampleSubmission.csv\n",
            "7  dataset_clip_id_melgram_22\t  test1\n",
            "8  dataset_clip_id_mp3\t\t  test1.zip\n",
            "9  e\t\t\t\t  train\n",
            "a  f\t\t\t\t  train.zip\n"
          ],
          "name": "stdout"
        }
      ]
    },
    {
      "metadata": {
        "id": "1sF6UCFWyhdT",
        "colab_type": "text"
      },
      "cell_type": "markdown",
      "source": [
        "# Importing Libraries"
      ]
    },
    {
      "metadata": {
        "id": "jR5IY9Cckz3Q",
        "colab_type": "code",
        "outputId": "6a619307-ad4b-43a1-cc77-854ec8bddb18",
        "colab": {
          "base_uri": "https://localhost:8080/",
          "height": 153
        }
      },
      "cell_type": "code",
      "source": [
        "import os, cv2, itertools\n",
        "import numpy as np\n",
        "import pandas as pd\n",
        "\n",
        "import matplotlib.pyplot as plt\n",
        "%matplotlib inline\n",
        "\n",
        "!pip install np_utils\n",
        "\n",
        "from keras.utils.np_utils import to_categorical\n",
        "\n",
        "from keras.models import Sequential\n",
        "from keras.layers import Conv2D\n",
        "from keras.layers import MaxPooling2D\n",
        "from keras.layers import Flatten\n",
        "from keras.layers import Dense\n",
        "from keras.layers import Dropout\n",
        "\n",
        "from sklearn.utils import shuffle\n",
        "\n",
        "!pip install sklearn\n",
        "import sklearn\n",
        "from sklearn.model_selection import train_test_split"
      ],
      "execution_count": 0,
      "outputs": [
        {
          "output_type": "stream",
          "text": [
            "Requirement already satisfied: np_utils in /usr/local/lib/python3.6/dist-packages (0.5.9.0)\n",
            "Requirement already satisfied: numpy>=1.0 in /usr/local/lib/python3.6/dist-packages (from np_utils) (1.14.6)\n",
            "Requirement already satisfied: future>=0.16 in /usr/local/lib/python3.6/dist-packages (from np_utils) (0.16.0)\n"
          ],
          "name": "stdout"
        },
        {
          "output_type": "stream",
          "text": [
            "Using TensorFlow backend.\n"
          ],
          "name": "stderr"
        },
        {
          "output_type": "stream",
          "text": [
            "Requirement already satisfied: sklearn in /usr/local/lib/python3.6/dist-packages (0.0)\n",
            "Requirement already satisfied: scikit-learn in /usr/local/lib/python3.6/dist-packages (from sklearn) (0.20.2)\n",
            "Requirement already satisfied: scipy>=0.13.3 in /usr/local/lib/python3.6/dist-packages (from scikit-learn->sklearn) (1.1.0)\n",
            "Requirement already satisfied: numpy>=1.8.2 in /usr/local/lib/python3.6/dist-packages (from scikit-learn->sklearn) (1.14.6)\n"
          ],
          "name": "stdout"
        }
      ]
    },
    {
      "metadata": {
        "id": "GENp8DD_yfKE",
        "colab_type": "code",
        "colab": {}
      },
      "cell_type": "code",
      "source": [
        "import os, cv2, itertools\n",
        "import numpy as np\n",
        "import pandas as pd\n",
        "\n",
        "import matplotlib.pyplot as plt\n",
        "%matplotlib inline"
      ],
      "execution_count": 0,
      "outputs": []
    },
    {
      "metadata": {
        "id": "y4U67W1bymDL",
        "colab_type": "code",
        "outputId": "3bf4794e-389f-49a9-96d7-69ba204902be",
        "colab": {
          "base_uri": "https://localhost:8080/",
          "height": 68
        }
      },
      "cell_type": "code",
      "source": [
        "!pip install np_utils"
      ],
      "execution_count": 0,
      "outputs": [
        {
          "output_type": "stream",
          "text": [
            "Requirement already satisfied: np_utils in /usr/local/lib/python3.6/dist-packages (0.5.9.0)\n",
            "Requirement already satisfied: numpy>=1.0 in /usr/local/lib/python3.6/dist-packages (from np_utils) (1.14.6)\n",
            "Requirement already satisfied: future>=0.16 in /usr/local/lib/python3.6/dist-packages (from np_utils) (0.16.0)\n"
          ],
          "name": "stdout"
        }
      ]
    },
    {
      "metadata": {
        "id": "QQETVWWsCr64",
        "colab_type": "code",
        "colab": {}
      },
      "cell_type": "code",
      "source": [
        "from keras.utils.np_utils import to_categorical"
      ],
      "execution_count": 0,
      "outputs": []
    },
    {
      "metadata": {
        "id": "y3IiSxVuDM3q",
        "colab_type": "code",
        "colab": {}
      },
      "cell_type": "code",
      "source": [
        "from keras.models import Sequential\n",
        "from keras.layers import Conv2D\n",
        "from keras.layers import MaxPooling2D\n",
        "from keras.layers import Flatten\n",
        "from keras.layers import Dense\n",
        "from keras.layers import Dropout"
      ],
      "execution_count": 0,
      "outputs": []
    },
    {
      "metadata": {
        "id": "u1SRYY28_3iX",
        "colab_type": "code",
        "colab": {}
      },
      "cell_type": "code",
      "source": [
        "from sklearn.utils import shuffle"
      ],
      "execution_count": 0,
      "outputs": []
    },
    {
      "metadata": {
        "id": "t5R7DqLYPGnf",
        "colab_type": "code",
        "outputId": "2fbf5c2e-7156-4d50-8749-d2fe27ac7d5f",
        "colab": {
          "base_uri": "https://localhost:8080/",
          "height": 85
        }
      },
      "cell_type": "code",
      "source": [
        "!pip install sklearn\n",
        "import sklearn\n",
        "from sklearn.model_selection import train_test_split"
      ],
      "execution_count": 0,
      "outputs": [
        {
          "output_type": "stream",
          "text": [
            "Requirement already satisfied: sklearn in /usr/local/lib/python3.6/dist-packages (0.0)\n",
            "Requirement already satisfied: scikit-learn in /usr/local/lib/python3.6/dist-packages (from sklearn) (0.20.2)\n",
            "Requirement already satisfied: scipy>=0.13.3 in /usr/local/lib/python3.6/dist-packages (from scikit-learn->sklearn) (1.1.0)\n",
            "Requirement already satisfied: numpy>=1.8.2 in /usr/local/lib/python3.6/dist-packages (from scikit-learn->sklearn) (1.14.6)\n"
          ],
          "name": "stdout"
        }
      ]
    },
    {
      "metadata": {
        "id": "_Ka0JaBUBB97",
        "colab_type": "text"
      },
      "cell_type": "markdown",
      "source": [
        "# Converting image's to vectors"
      ]
    },
    {
      "metadata": {
        "id": "V5EaFmH9BH4g",
        "colab_type": "code",
        "colab": {}
      },
      "cell_type": "code",
      "source": [
        "TRAIN_DIR = './train/'\n",
        "TEST_DIR = './test1/'"
      ],
      "execution_count": 0,
      "outputs": []
    },
    {
      "metadata": {
        "id": "ZC12uKZHBR4E",
        "colab_type": "code",
        "colab": {}
      },
      "cell_type": "code",
      "source": [
        "ROWS = 64\n",
        "COLS = 64\n",
        "CHANNELS = 3"
      ],
      "execution_count": 0,
      "outputs": []
    },
    {
      "metadata": {
        "id": "91JhcjkvBTas",
        "colab_type": "code",
        "colab": {}
      },
      "cell_type": "code",
      "source": [
        "train_images = [TRAIN_DIR+i for i in os.listdir(TRAIN_DIR)]\n",
        "test_images = [TEST_DIR+i for i in os.listdir(TEST_DIR)]"
      ],
      "execution_count": 0,
      "outputs": []
    },
    {
      "metadata": {
        "id": "eDVPzvZKBWow",
        "colab_type": "code",
        "colab": {}
      },
      "cell_type": "code",
      "source": [
        "def read_image(file_path):\n",
        "  #print(file_path)\n",
        "  img = cv2.imread(file_path, cv2.IMREAD_COLOR)\n",
        "  #print(img)\n",
        "  return cv2.resize(img, (ROWS, COLS), interpolation=cv2.INTER_CUBIC)"
      ],
      "execution_count": 0,
      "outputs": []
    },
    {
      "metadata": {
        "id": "oAwhoHywBakI",
        "colab_type": "code",
        "colab": {}
      },
      "cell_type": "code",
      "source": [
        "def prep_data(images):\n",
        "  m = len(images)\n",
        "  n_x = ROWS*COLS*CHANNELS\n",
        "  \n",
        "  X = np.ndarray((m,ROWS,COLS,CHANNELS), dtype=np.uint8)\n",
        "  y = np.zeros((m,1))\n",
        "  print(\"X.shape is {}\".format(X.shape))\n",
        "  \n",
        "  for i,image_file in enumerate(images) :\n",
        "    image = read_image(image_file)\n",
        "    X[i,:] = np.squeeze(image.reshape((ROWS, COLS, CHANNELS)))\n",
        "    if 'dog' in image_file.lower() :\n",
        "      y[i,0] = 1\n",
        "    elif 'cat' in image_file.lower() :\n",
        "      y[i,0] = 0\n",
        "    else : # for test data\n",
        "      y[i,0] = image_file.split('/')[-1].split('.')[0]\n",
        "      \n",
        "    if i%5000 == 0 :\n",
        "      print(\"Proceed {} of {}\".format(i, m))\n",
        "    \n",
        "  return X,y"
      ],
      "execution_count": 0,
      "outputs": []
    },
    {
      "metadata": {
        "id": "Gg1QVYhXCBfr",
        "colab_type": "code",
        "outputId": "c405ad45-8e80-45ab-c312-7028145d60d3",
        "colab": {
          "base_uri": "https://localhost:8080/",
          "height": 187
        }
      },
      "cell_type": "code",
      "source": [
        "X_train, y_train = prep_data(train_images)\n",
        "X_test, y_test = prep_data(test_images)"
      ],
      "execution_count": 0,
      "outputs": [
        {
          "output_type": "stream",
          "text": [
            "X.shape is (25000, 64, 64, 3)\n",
            "Proceed 0 of 25000\n",
            "Proceed 5000 of 25000\n",
            "Proceed 10000 of 25000\n",
            "Proceed 15000 of 25000\n",
            "Proceed 20000 of 25000\n",
            "X.shape is (12500, 64, 64, 3)\n",
            "Proceed 0 of 12500\n",
            "Proceed 5000 of 12500\n",
            "Proceed 10000 of 12500\n"
          ],
          "name": "stdout"
        }
      ]
    },
    {
      "metadata": {
        "id": "Fs8-hcfqtb7u",
        "colab_type": "code",
        "outputId": "1fd2ba9c-97a1-4113-da7a-1080e7e48e22",
        "colab": {
          "base_uri": "https://localhost:8080/",
          "height": 51
        }
      },
      "cell_type": "code",
      "source": [
        "print(\"Train shape: {}\".format(X_train.shape))\n",
        "print(\"Test shape: {}\".format(X_test.shape))"
      ],
      "execution_count": 0,
      "outputs": [
        {
          "output_type": "stream",
          "text": [
            "Train shape: (25000, 64, 64, 3)\n",
            "Test shape: (12500, 64, 64, 3)\n"
          ],
          "name": "stdout"
        }
      ]
    },
    {
      "metadata": {
        "id": "SLcqmnLH_7Wb",
        "colab_type": "code",
        "colab": {}
      },
      "cell_type": "code",
      "source": [
        "X, y = shuffle(X_train, y_train)"
      ],
      "execution_count": 0,
      "outputs": []
    },
    {
      "metadata": {
        "id": "g6a8FJ0vCDzo",
        "colab_type": "code",
        "outputId": "cd72e96a-bbd8-4bc1-9627-828bd2efd3ec",
        "colab": {
          "base_uri": "https://localhost:8080/",
          "height": 34
        }
      },
      "cell_type": "code",
      "source": [
        "X.shape"
      ],
      "execution_count": 0,
      "outputs": [
        {
          "output_type": "execute_result",
          "data": {
            "text/plain": [
              "(25000, 64, 64, 3)"
            ]
          },
          "metadata": {
            "tags": []
          },
          "execution_count": 28
        }
      ]
    },
    {
      "metadata": {
        "id": "3_erLhk1CVeQ",
        "colab_type": "code",
        "outputId": "3b7a717c-77a2-4cf3-d739-6e8afe78bffd",
        "colab": {
          "base_uri": "https://localhost:8080/",
          "height": 34
        }
      },
      "cell_type": "code",
      "source": [
        "y.shape"
      ],
      "execution_count": 0,
      "outputs": [
        {
          "output_type": "execute_result",
          "data": {
            "text/plain": [
              "(25000, 1)"
            ]
          },
          "metadata": {
            "tags": []
          },
          "execution_count": 29
        }
      ]
    },
    {
      "metadata": {
        "id": "J77kbGOpO-S9",
        "colab_type": "text"
      },
      "cell_type": "markdown",
      "source": [
        "# Splitting of dataset into train (60%), validation (20%) and test (20%)"
      ]
    },
    {
      "metadata": {
        "id": "we5GXLWOPE-0",
        "colab_type": "code",
        "outputId": "d4adaa62-ba05-4d80-fe0c-b93086e07279",
        "colab": {
          "base_uri": "https://localhost:8080/",
          "height": 85
        }
      },
      "cell_type": "code",
      "source": [
        "X_train, X_val, y_train, y_val = train_test_split(X, y, test_size=0.2, random_state=1)\n",
        "\n",
        "print(\"Train shape: {}\".format(X_train.shape))\n",
        "print(\"Train label shape: {}\".format(y_train.shape))\n",
        "print(\"Validation shape: {}\".format(X_val.shape))\n",
        "print(\"Validation label shape: {}\".format(y_val.shape))"
      ],
      "execution_count": 0,
      "outputs": [
        {
          "output_type": "stream",
          "text": [
            "Train shape: (20000, 64, 64, 3)\n",
            "Train label shape: (20000, 1)\n",
            "Validation shape: (5000, 64, 64, 3)\n",
            "Validation label shape: (5000, 1)\n"
          ],
          "name": "stdout"
        }
      ]
    },
    {
      "metadata": {
        "id": "AJIJ1ejRSKVu",
        "colab_type": "text"
      },
      "cell_type": "markdown",
      "source": [
        "# Converting to one-hot vector representation"
      ]
    },
    {
      "metadata": {
        "id": "dEVLLFCe3hHI",
        "colab_type": "code",
        "outputId": "902d3f78-cfe3-4190-f99b-8ccb1429fdf3",
        "colab": {
          "base_uri": "https://localhost:8080/",
          "height": 68
        }
      },
      "cell_type": "code",
      "source": [
        "y_train_one_hot = to_categorical(y_train)\n",
        "print(y_train_one_hot.shape)\n",
        "\n",
        "num_classes = y_train_one_hot.shape[1]\n",
        "print(num_classes)\n",
        "\n",
        "y_val_one_hot = to_categorical(y_val)\n",
        "print(y_val_one_hot.shape)"
      ],
      "execution_count": 0,
      "outputs": [
        {
          "output_type": "stream",
          "text": [
            "(20000, 2)\n",
            "2\n",
            "(5000, 2)\n"
          ],
          "name": "stdout"
        }
      ]
    },
    {
      "metadata": {
        "id": "ctgBH4Q9AlQR",
        "colab_type": "text"
      },
      "cell_type": "markdown",
      "source": [
        "# Visualizing the dataset"
      ]
    },
    {
      "metadata": {
        "id": "4YXBjR-hApUh",
        "colab_type": "code",
        "colab": {}
      },
      "cell_type": "code",
      "source": [
        "classes = {0: 'cats',\n",
        "          1: 'dogs'}"
      ],
      "execution_count": 0,
      "outputs": []
    },
    {
      "metadata": {
        "id": "a75tCEIQBHk0",
        "colab_type": "code",
        "colab": {}
      },
      "cell_type": "code",
      "source": [
        "def show_images(X, y, idx) :\n",
        "  image = X[idx]\n",
        "  #image = image.reshape((ROWS, COLS, CHANNELS))\n",
        "  plt.figure(figsize=(4,2))\n",
        "  plt.imshow(image)\n",
        "  plt.title(\"This is a {}\".format(classes[y[idx,0]]))\n",
        "  plt.show()"
      ],
      "execution_count": 0,
      "outputs": []
    },
    {
      "metadata": {
        "id": "1WCN9cDsBKZl",
        "colab_type": "code",
        "outputId": "bfe1014c-ed70-4b14-e555-b2a8e5af2252",
        "colab": {
          "base_uri": "https://localhost:8080/",
          "height": 172
        }
      },
      "cell_type": "code",
      "source": [
        "show_images(X_train, y_train, 0)"
      ],
      "execution_count": 0,
      "outputs": [
        {
          "output_type": "display_data",
          "data": {
            "image/png": "[encoded data removed]",
            "text/plain": [
              "<Figure size 288x144 with 1 Axes>"
            ]
          },
          "metadata": {
            "tags": []
          }
        }
      ]
    },
    {
      "metadata": {
        "id": "MsqYQZRIHUvj",
        "colab_type": "code",
        "colab": {}
      },
      "cell_type": "code",
      "source": [
        "X_train_norm = X_train / 255\n",
        "X_val_norm = X_val / 255"
      ],
      "execution_count": 0,
      "outputs": []
    },
    {
      "metadata": {
        "id": "EGh7IONbXgO3",
        "colab_type": "code",
        "outputId": "d19768a6-a7c3-4257-e903-ee5b80bf5581",
        "colab": {
          "base_uri": "https://localhost:8080/",
          "height": 172
        }
      },
      "cell_type": "code",
      "source": [
        "show_images(X_train_norm, y_train, 5)"
      ],
      "execution_count": 0,
      "outputs": [
        {
          "output_type": "display_data",
          "data": {
            "image/png": "[encoded data removed]",
            "text/plain": [
              "<Figure size 288x144 with 1 Axes>"
            ]
          },
          "metadata": {
            "tags": []
          }
        }
      ]
    },
    {
      "metadata": {
        "id": "1xl9JjclEfW_",
        "colab_type": "text"
      },
      "cell_type": "markdown",
      "source": [
        "# Final Choosen Model Architecture and Training of Model"
      ]
    },
    {
      "metadata": {
        "id": "ptwfsCQwX9sO",
        "colab_type": "text"
      },
      "cell_type": "markdown",
      "source": [
        "For the details about how this architecture is choosen, scroll down to the last section on \"How to choose the right model architecture iteratively?\""
      ]
    },
    {
      "metadata": {
        "id": "rvWtxf5eC_AN",
        "colab_type": "code",
        "colab": {}
      },
      "cell_type": "code",
      "source": [
        "model9 = Sequential()\n",
        "\n",
        "model9.add(Conv2D(32, (3,3), input_shape=(ROWS, COLS, CHANNELS), activation='relu'))\n",
        "model9.add(MaxPooling2D(pool_size = (2,2)))\n",
        "\n",
        "model9.add(Conv2D(64, (3,3), activation='relu'))\n",
        "model9.add(MaxPooling2D(pool_size = (2,2)))\n",
        "model9.add(Dropout(0.4))\n",
        "\n",
        "model9.add(Conv2D(128, (3,3), activation='relu'))\n",
        "model9.add(MaxPooling2D(pool_size = (2,2)))\n",
        "model9.add(Dropout(0.4))\n",
        "\n",
        "model9.add(Conv2D(256, (3,3), activation='relu'))\n",
        "model9.add(MaxPooling2D(pool_size = (2,2)))\n",
        "model9.add(Dropout(0.4))\n",
        "\n",
        "model9.add(Conv2D(512, (1,1), activation='relu'))\n",
        "#model6.add(MaxPooling2D(pool_size = (2,2)))\n",
        "\n",
        "model9.add(Flatten())\n",
        "model9.add(Dropout(0.4))\n",
        "\n",
        "model9.add(Dense(units=120, activation='relu'))\n",
        "model9.add(Dense(units=2, activation='sigmoid'))"
      ],
      "execution_count": 0,
      "outputs": []
    },
    {
      "metadata": {
        "id": "MlpCzuFq41Zy",
        "colab_type": "code",
        "outputId": "dce548ef-cdb2-4a08-bb22-cd18f173c41c",
        "colab": {
          "base_uri": "https://localhost:8080/",
          "height": 680
        }
      },
      "cell_type": "code",
      "source": [
        "model9.compile(optimizer='adam', loss='categorical_crossentropy', metrics=['accuracy'])\n",
        "model9.summary()"
      ],
      "execution_count": 0,
      "outputs": [
        {
          "output_type": "stream",
          "text": [
            "_________________________________________________________________\n",
            "Layer (type)                 Output Shape              Param #   \n",
            "=================================================================\n",
            "conv2d_1 (Conv2D)            (None, 62, 62, 32)        896       \n",
            "_________________________________________________________________\n",
            "max_pooling2d_1 (MaxPooling2 (None, 31, 31, 32)        0         \n",
            "_________________________________________________________________\n",
            "conv2d_2 (Conv2D)            (None, 29, 29, 64)        18496     \n",
            "_________________________________________________________________\n",
            "max_pooling2d_2 (MaxPooling2 (None, 14, 14, 64)        0         \n",
            "_________________________________________________________________\n",
            "dropout_1 (Dropout)          (None, 14, 14, 64)        0         \n",
            "_________________________________________________________________\n",
            "conv2d_3 (Conv2D)            (None, 12, 12, 128)       73856     \n",
            "_________________________________________________________________\n",
            "max_pooling2d_3 (MaxPooling2 (None, 6, 6, 128)         0         \n",
            "_________________________________________________________________\n",
            "dropout_2 (Dropout)          (None, 6, 6, 128)         0         \n",
            "_________________________________________________________________\n",
            "conv2d_4 (Conv2D)            (None, 4, 4, 256)         295168    \n",
            "_________________________________________________________________\n",
            "max_pooling2d_4 (MaxPooling2 (None, 2, 2, 256)         0         \n",
            "_________________________________________________________________\n",
            "dropout_3 (Dropout)          (None, 2, 2, 256)         0         \n",
            "_________________________________________________________________\n",
            "conv2d_5 (Conv2D)            (None, 2, 2, 512)         131584    \n",
            "_________________________________________________________________\n",
            "flatten_1 (Flatten)          (None, 2048)              0         \n",
            "_________________________________________________________________\n",
            "dropout_4 (Dropout)          (None, 2048)              0         \n",
            "_________________________________________________________________\n",
            "dense_1 (Dense)              (None, 120)               245880    \n",
            "_________________________________________________________________\n",
            "dense_2 (Dense)              (None, 2)                 242       \n",
            "=================================================================\n",
            "Total params: 766,122\n",
            "Trainable params: 766,122\n",
            "Non-trainable params: 0\n",
            "_________________________________________________________________\n"
          ],
          "name": "stdout"
        }
      ]
    },
    {
      "metadata": {
        "id": "d7lwMbG8ALBc",
        "colab_type": "code",
        "outputId": "2559388f-5e56-427d-931d-31fc8a1c67d7",
        "colab": {
          "base_uri": "https://localhost:8080/",
          "height": 1822
        }
      },
      "cell_type": "code",
      "source": [
        "model9.fit(X_train_norm, y_train_one_hot, validation_data=(X_val_norm, y_val_one_hot), epochs=50, batch_size = 64)"
      ],
      "execution_count": 0,
      "outputs": [
        {
          "output_type": "stream",
          "text": [
            "WARNING:tensorflow:From /usr/local/lib/python3.6/dist-packages/tensorflow/python/ops/math_ops.py:3066: to_int32 (from tensorflow.python.ops.math_ops) is deprecated and will be removed in a future version.\n",
            "Instructions for updating:\n",
            "Use tf.cast instead.\n",
            "Train on 20000 samples, validate on 5000 samples\n",
            "Epoch 1/50\n",
            "20000/20000 [==============================] - 18s 897us/step - loss: 0.6680 - acc: 0.5837 - val_loss: 0.6425 - val_acc: 0.6152\n",
            "Epoch 2/50\n",
            "20000/20000 [==============================] - 11s 554us/step - loss: 0.5883 - acc: 0.6884 - val_loss: 0.5301 - val_acc: 0.7230\n",
            "Epoch 3/50\n",
            "20000/20000 [==============================] - 11s 560us/step - loss: 0.5216 - acc: 0.7439 - val_loss: 0.4747 - val_acc: 0.7870\n",
            "Epoch 4/50\n",
            "20000/20000 [==============================] - 11s 551us/step - loss: 0.4715 - acc: 0.7761 - val_loss: 0.4160 - val_acc: 0.8134\n",
            "Epoch 5/50\n",
            "20000/20000 [==============================] - 11s 557us/step - loss: 0.4358 - acc: 0.8019 - val_loss: 0.3841 - val_acc: 0.8312\n",
            "Epoch 6/50\n",
            "20000/20000 [==============================] - 11s 556us/step - loss: 0.4093 - acc: 0.8144 - val_loss: 0.3751 - val_acc: 0.8316\n",
            "Epoch 7/50\n",
            "20000/20000 [==============================] - 11s 554us/step - loss: 0.3866 - acc: 0.8241 - val_loss: 0.3401 - val_acc: 0.8522\n",
            "Epoch 8/50\n",
            "20000/20000 [==============================] - 11s 558us/step - loss: 0.3731 - acc: 0.8346 - val_loss: 0.3288 - val_acc: 0.8576\n",
            "Epoch 9/50\n",
            "20000/20000 [==============================] - 11s 559us/step - loss: 0.3473 - acc: 0.8466 - val_loss: 0.3267 - val_acc: 0.8600\n",
            "Epoch 10/50\n",
            "20000/20000 [==============================] - 11s 557us/step - loss: 0.3337 - acc: 0.8528 - val_loss: 0.3281 - val_acc: 0.8550\n",
            "Epoch 11/50\n",
            "20000/20000 [==============================] - 11s 558us/step - loss: 0.3277 - acc: 0.8582 - val_loss: 0.2829 - val_acc: 0.8774\n",
            "Epoch 12/50\n",
            "20000/20000 [==============================] - 11s 562us/step - loss: 0.3102 - acc: 0.8669 - val_loss: 0.2810 - val_acc: 0.8748\n",
            "Epoch 13/50\n",
            "20000/20000 [==============================] - 11s 556us/step - loss: 0.3042 - acc: 0.8670 - val_loss: 0.2827 - val_acc: 0.8782\n",
            "Epoch 14/50\n",
            "20000/20000 [==============================] - 11s 557us/step - loss: 0.2974 - acc: 0.8698 - val_loss: 0.3395 - val_acc: 0.8546\n",
            "Epoch 15/50\n",
            "20000/20000 [==============================] - 11s 548us/step - loss: 0.2883 - acc: 0.8780 - val_loss: 0.2802 - val_acc: 0.8788\n",
            "Epoch 16/50\n",
            "20000/20000 [==============================] - 11s 559us/step - loss: 0.2759 - acc: 0.8824 - val_loss: 0.2716 - val_acc: 0.8786\n",
            "Epoch 17/50\n",
            "20000/20000 [==============================] - 11s 565us/step - loss: 0.2733 - acc: 0.8822 - val_loss: 0.2829 - val_acc: 0.8796\n",
            "Epoch 18/50\n",
            "20000/20000 [==============================] - 11s 560us/step - loss: 0.2620 - acc: 0.8891 - val_loss: 0.2723 - val_acc: 0.8860\n",
            "Epoch 19/50\n",
            "20000/20000 [==============================] - 11s 562us/step - loss: 0.2587 - acc: 0.8880 - val_loss: 0.2777 - val_acc: 0.8820\n",
            "Epoch 20/50\n",
            "20000/20000 [==============================] - 11s 559us/step - loss: 0.2533 - acc: 0.8932 - val_loss: 0.2721 - val_acc: 0.8838\n",
            "Epoch 21/50\n",
            "20000/20000 [==============================] - 11s 561us/step - loss: 0.2542 - acc: 0.8919 - val_loss: 0.2508 - val_acc: 0.8910\n",
            "Epoch 22/50\n",
            "20000/20000 [==============================] - 11s 557us/step - loss: 0.2417 - acc: 0.8977 - val_loss: 0.2478 - val_acc: 0.8922\n",
            "Epoch 23/50\n",
            "20000/20000 [==============================] - 11s 561us/step - loss: 0.2377 - acc: 0.8985 - val_loss: 0.2459 - val_acc: 0.8980\n",
            "Epoch 24/50\n",
            "20000/20000 [==============================] - 11s 559us/step - loss: 0.2354 - acc: 0.9011 - val_loss: 0.2404 - val_acc: 0.8970\n",
            "Epoch 25/50\n",
            "20000/20000 [==============================] - 11s 569us/step - loss: 0.2274 - acc: 0.9063 - val_loss: 0.2384 - val_acc: 0.8978\n",
            "Epoch 26/50\n",
            "20000/20000 [==============================] - 11s 574us/step - loss: 0.2221 - acc: 0.9066 - val_loss: 0.2359 - val_acc: 0.9008\n",
            "Epoch 27/50\n",
            "20000/20000 [==============================] - 12s 576us/step - loss: 0.2216 - acc: 0.9071 - val_loss: 0.2397 - val_acc: 0.8988\n",
            "Epoch 28/50\n",
            "20000/20000 [==============================] - 12s 580us/step - loss: 0.2201 - acc: 0.9088 - val_loss: 0.2375 - val_acc: 0.8986\n",
            "Epoch 29/50\n",
            "20000/20000 [==============================] - 12s 577us/step - loss: 0.2131 - acc: 0.9130 - val_loss: 0.2321 - val_acc: 0.9032\n",
            "Epoch 30/50\n",
            "20000/20000 [==============================] - 11s 564us/step - loss: 0.2149 - acc: 0.9103 - val_loss: 0.2391 - val_acc: 0.9010\n",
            "Epoch 31/50\n",
            "20000/20000 [==============================] - 11s 564us/step - loss: 0.2133 - acc: 0.9098 - val_loss: 0.2249 - val_acc: 0.9064\n",
            "Epoch 32/50\n",
            "20000/20000 [==============================] - 11s 563us/step - loss: 0.2015 - acc: 0.9159 - val_loss: 0.2690 - val_acc: 0.8888\n",
            "Epoch 33/50\n",
            "20000/20000 [==============================] - 11s 566us/step - loss: 0.1988 - acc: 0.9185 - val_loss: 0.2309 - val_acc: 0.9020\n",
            "Epoch 34/50\n",
            "20000/20000 [==============================] - 11s 566us/step - loss: 0.2064 - acc: 0.9150 - val_loss: 0.2330 - val_acc: 0.9042\n",
            "Epoch 35/50\n",
            "20000/20000 [==============================] - 11s 566us/step - loss: 0.1974 - acc: 0.9191 - val_loss: 0.2238 - val_acc: 0.9078\n",
            "Epoch 36/50\n",
            "20000/20000 [==============================] - 11s 566us/step - loss: 0.1983 - acc: 0.9166 - val_loss: 0.2477 - val_acc: 0.8960\n",
            "Epoch 37/50\n",
            "20000/20000 [==============================] - 11s 561us/step - loss: 0.1993 - acc: 0.9171 - val_loss: 0.2358 - val_acc: 0.9038\n",
            "Epoch 38/50\n",
            "20000/20000 [==============================] - 11s 561us/step - loss: 0.1958 - acc: 0.9198 - val_loss: 0.2371 - val_acc: 0.9022\n",
            "Epoch 39/50\n",
            "20000/20000 [==============================] - 11s 568us/step - loss: 0.1913 - acc: 0.9216 - val_loss: 0.2279 - val_acc: 0.9038\n",
            "Epoch 40/50\n",
            "20000/20000 [==============================] - 11s 565us/step - loss: 0.1851 - acc: 0.9234 - val_loss: 0.2487 - val_acc: 0.8950\n",
            "Epoch 41/50\n",
            "20000/20000 [==============================] - 11s 568us/step - loss: 0.1830 - acc: 0.9245 - val_loss: 0.2530 - val_acc: 0.9022\n",
            "Epoch 42/50\n",
            "20000/20000 [==============================] - 11s 562us/step - loss: 0.1851 - acc: 0.9226 - val_loss: 0.2322 - val_acc: 0.9018\n",
            "Epoch 43/50\n",
            "20000/20000 [==============================] - 11s 565us/step - loss: 0.1789 - acc: 0.9289 - val_loss: 0.2255 - val_acc: 0.9042\n",
            "Epoch 44/50\n",
            "20000/20000 [==============================] - 11s 562us/step - loss: 0.1796 - acc: 0.9266 - val_loss: 0.2395 - val_acc: 0.9040\n",
            "Epoch 45/50\n",
            "20000/20000 [==============================] - 11s 564us/step - loss: 0.1799 - acc: 0.9267 - val_loss: 0.2242 - val_acc: 0.9098\n",
            "Epoch 46/50\n",
            "20000/20000 [==============================] - 11s 560us/step - loss: 0.1746 - acc: 0.9285 - val_loss: 0.2285 - val_acc: 0.9050\n",
            "Epoch 47/50\n",
            "20000/20000 [==============================] - 11s 564us/step - loss: 0.1693 - acc: 0.9310 - val_loss: 0.2224 - val_acc: 0.9064\n",
            "Epoch 48/50\n",
            "20000/20000 [==============================] - 11s 558us/step - loss: 0.1685 - acc: 0.9302 - val_loss: 0.2318 - val_acc: 0.9048\n",
            "Epoch 49/50\n",
            "20000/20000 [==============================] - 11s 557us/step - loss: 0.1755 - acc: 0.9282 - val_loss: 0.2562 - val_acc: 0.8998\n",
            "Epoch 50/50\n",
            "20000/20000 [==============================] - 11s 563us/step - loss: 0.1599 - acc: 0.9353 - val_loss: 0.2226 - val_acc: 0.9098\n"
          ],
          "name": "stdout"
        },
        {
          "output_type": "execute_result",
          "data": {
            "text/plain": [
              "<keras.callbacks.History at 0x7ffb2f1fd438>"
            ]
          },
          "metadata": {
            "tags": []
          },
          "execution_count": 41
        }
      ]
    },
    {
      "metadata": {
        "id": "HPPAi3jOMK5o",
        "colab_type": "text"
      },
      "cell_type": "markdown",
      "source": [
        "# Making Predictions using the model on Training and Test data"
      ]
    },
    {
      "metadata": {
        "id": "zR5WqfXXIVvy",
        "colab_type": "code",
        "outputId": "ca4bb795-5b98-470f-9db7-89a2b5c725f6",
        "colab": {
          "base_uri": "https://localhost:8080/",
          "height": 189
        }
      },
      "cell_type": "code",
      "source": [
        "image = X_train[0]\n",
        "test_pred = model9.predict_classes(image.reshape(1, 64, 64, 3))\n",
        "\n",
        "show_images(X_train, y_train,0)\n",
        "\n",
        "print(\"Our Model Prediction: {}\".format(test_pred))"
      ],
      "execution_count": 0,
      "outputs": [
        {
          "output_type": "display_data",
          "data": {
            "image/png": "[encoded data removed]",
            "text/plain": [
              "<Figure size 288x144 with 1 Axes>"
            ]
          },
          "metadata": {
            "tags": []
          }
        },
        {
          "output_type": "stream",
          "text": [
            "Our Model Prediction: [0]\n"
          ],
          "name": "stdout"
        }
      ]
    },
    {
      "metadata": {
        "id": "72rpic8IJf4N",
        "colab_type": "code",
        "outputId": "aed4139b-f5df-468f-d8f2-7bf19a1ce82d",
        "colab": {
          "base_uri": "https://localhost:8080/",
          "height": 189
        }
      },
      "cell_type": "code",
      "source": [
        "image = X_train[100]\n",
        "test_pred = model9.predict_classes(image.reshape(1, 64, 64, 3))\n",
        "\n",
        "show_images(X_train, y_train,100)\n",
        "\n",
        "print(\"Our Model Prediction: {}\".format(test_pred))"
      ],
      "execution_count": 0,
      "outputs": [
        {
          "output_type": "display_data",
          "data": {
            "image/png": "[encoded data removed]",
            "text/plain": [
              "<Figure size 288x144 with 1 Axes>"
            ]
          },
          "metadata": {
            "tags": []
          }
        },
        {
          "output_type": "stream",
          "text": [
            "Our Model Prediction: [1]\n"
          ],
          "name": "stdout"
        }
      ]
    },
    {
      "metadata": {
        "id": "MoGTDT9UO6RZ",
        "colab_type": "code",
        "colab": {}
      },
      "cell_type": "code",
      "source": [
        "def show_image_prediction(X, idx, model) :\n",
        "  image = X[idx].reshape(1,64,64,3)\n",
        "  image_class = classes[model.predict_classes(image).item()]\n",
        "  image = image.reshape((ROWS, COLS, CHANNELS))\n",
        "  plt.figure(figsize = (4,2))\n",
        "  plt.imshow(image)\n",
        "  plt.title(\"Test {} : I think this is {}\".format(idx, image_class))\n",
        "  plt.show()"
      ],
      "execution_count": 0,
      "outputs": []
    },
    {
      "metadata": {
        "id": "NJPXNzi1PVtA",
        "colab_type": "code",
        "outputId": "8abaf651-26eb-4ac9-b281-62935462d2f8",
        "colab": {
          "base_uri": "https://localhost:8080/",
          "height": 85
        }
      },
      "cell_type": "code",
      "source": [
        "X_test, test_idx = prep_data(test_images)"
      ],
      "execution_count": 0,
      "outputs": [
        {
          "output_type": "stream",
          "text": [
            "X.shape is (12500, 64, 64, 3)\n",
            "Proceed 0 of 12500\n",
            "Proceed 5000 of 12500\n",
            "Proceed 10000 of 12500\n"
          ],
          "name": "stdout"
        }
      ]
    },
    {
      "metadata": {
        "id": "ieWX6pXAM75k",
        "colab_type": "code",
        "outputId": "b9ef8581-f66f-404d-c4e3-9e668275a090",
        "colab": {
          "base_uri": "https://localhost:8080/",
          "height": 1567
        }
      },
      "cell_type": "code",
      "source": [
        "X_test_lr, test_idx = X_test, test_idx\n",
        "\n",
        "for i in np.random.randint(0, len(X_test_lr), 10) :\n",
        "  show_image_prediction(X_test_lr, i, model9)"
      ],
      "execution_count": 0,
      "outputs": [
        {
          "output_type": "display_data",
          "data": {
            "image/png": "[encoded data removed]",
            "text/plain": [
              "<Figure size 288x144 with 1 Axes>"
            ]
          },
          "metadata": {
            "tags": []
          }
        },
        {
          "output_type": "display_data",
          "data": {
            "image/png": "[encoded data removed]",
            "text/plain": [
              "<Figure size 288x144 with 1 Axes>"
            ]
          },
          "metadata": {
            "tags": []
          }
        },
        {
          "output_type": "display_data",
          "data": {
            "image/png": "[encoded data removed]",
            "text/plain": [
              "<Figure size 288x144 with 1 Axes>"
            ]
          },
          "metadata": {
            "tags": []
          }
        },
        {
          "output_type": "display_data",
          "data": {
            "image/png": "[encoded data removed]",
            "text/plain": [
              "<Figure size 288x144 with 1 Axes>"
            ]
          },
          "metadata": {
            "tags": []
          }
        },
        {
          "output_type": "display_data",
          "data": {
            "image/png": "[encoded data removed]",
            "text/plain": [
              "<Figure size 288x144 with 1 Axes>"
            ]
          },
          "metadata": {
            "tags": []
          }
        },
        {
          "output_type": "display_data",
          "data": {
            "image/png": "[encoded data removed]",
            "text/plain": [
              "<Figure size 288x144 with 1 Axes>"
            ]
          },
          "metadata": {
            "tags": []
          }
        },
        {
          "output_type": "display_data",
          "data": {
            "image/png": "[encoded data removed]",
            "text/plain": [
              "<Figure size 288x144 with 1 Axes>"
            ]
          },
          "metadata": {
            "tags": []
          }
        },
        {
          "output_type": "display_data",
          "data": {
            "image/png": "[encoded data removed]",
            "text/plain": [
              "<Figure size 288x144 with 1 Axes>"
            ]
          },
          "metadata": {
            "tags": []
          }
        },
        {
          "output_type": "display_data",
          "data": {
            "image/png": "[encoded data removed]",
            "text/plain": [
              "<Figure size 288x144 with 1 Axes>"
            ]
          },
          "metadata": {
            "tags": []
          }
        },
        {
          "output_type": "display_data",
          "data": {
            "image/png": "[encoded data removed]",
            "text/plain": [
              "<Figure size 288x144 with 1 Axes>"
            ]
          },
          "metadata": {
            "tags": []
          }
        }
      ]
    },
    {
      "metadata": {
        "id": "ZZRJrQSkayC8",
        "colab_type": "text"
      },
      "cell_type": "markdown",
      "source": [
        "# How to choose the right model architecture iteratively?"
      ]
    },
    {
      "metadata": {
        "id": "craDUPGPa3id",
        "colab_type": "text"
      },
      "cell_type": "markdown",
      "source": [
        "Choosing the right architecture and the correct set of hyperparameter is an art of Deep Learning that's very important to master for any data scientist.\n",
        "\n",
        "Here, I give you a quick guide on how you can choose the right architecture for your particular task and the correct set of hyperparameters iteratively."
      ]
    },
    {
      "metadata": {
        "id": "TO7qcasocHk4",
        "colab_type": "text"
      },
      "cell_type": "markdown",
      "source": [
        "**Model 1**"
      ]
    },
    {
      "metadata": {
        "id": "8GSkh8xsbRYp",
        "colab_type": "text"
      },
      "cell_type": "markdown",
      "source": [
        "1. Build a simple and rought model quickly. It will not perform good but it will give you a good insight as to where you can improve in your architecture and set of hyperparameters."
      ]
    },
    {
      "metadata": {
        "id": "0bOJQKBKbamy",
        "colab_type": "code",
        "colab": {}
      },
      "cell_type": "code",
      "source": [
        "model1 = Sequential()\n",
        "\n",
        "model1.add(Conv2D(32, (3,3), input_shape=(ROWS, COLS, CHANNELS), activation='relu'))\n",
        "model1.add(MaxPooling2D(pool_size = (2,2)))\n",
        "\n",
        "model1.add(Conv2D(32, (3,3), activation='relu'))\n",
        "model1.add(MaxPooling2D(pool_size = (2,2)))\n",
        "model1.add(Dropout(0.6))\n",
        "\n",
        "model1.add(Conv2D(64, (3,3), activation='relu'))\n",
        "model1.add(MaxPooling2D(pool_size = (2,2)))\n",
        "\n",
        "model1.add(Conv2D(64, (3,3), activation='relu'))\n",
        "model1.add(MaxPooling2D(pool_size = (2,2)))\n",
        "\n",
        "model1.add(Flatten())\n",
        "model1.add(Dropout(0.6))\n",
        "\n",
        "model1.add(Dense(units=120, activation='relu'))\n",
        "model1.add(Dense(units=2, activation='sigmoid'))"
      ],
      "execution_count": 0,
      "outputs": []
    },
    {
      "metadata": {
        "id": "yXN3vWnBDhwU",
        "colab_type": "code",
        "colab": {}
      },
      "cell_type": "code",
      "source": [
        "model1.compile(optimizer='adam', loss='categorical_crossentropy', metrics=['accuracy'])"
      ],
      "execution_count": 0,
      "outputs": []
    },
    {
      "metadata": {
        "id": "LzRU0N8MEK_k",
        "colab_type": "code",
        "outputId": "dbbb588e-74d4-4aa3-a041-0dd510281b16",
        "colab": {
          "base_uri": "https://localhost:8080/",
          "height": 578
        }
      },
      "cell_type": "code",
      "source": [
        "model1.summary()"
      ],
      "execution_count": 0,
      "outputs": [
        {
          "output_type": "stream",
          "text": [
            "_________________________________________________________________\n",
            "Layer (type)                 Output Shape              Param #   \n",
            "=================================================================\n",
            "conv2d_25 (Conv2D)           (None, 62, 62, 32)        896       \n",
            "_________________________________________________________________\n",
            "max_pooling2d_25 (MaxPooling (None, 31, 31, 32)        0         \n",
            "_________________________________________________________________\n",
            "conv2d_26 (Conv2D)           (None, 29, 29, 32)        9248      \n",
            "_________________________________________________________________\n",
            "max_pooling2d_26 (MaxPooling (None, 14, 14, 32)        0         \n",
            "_________________________________________________________________\n",
            "dropout_12 (Dropout)         (None, 14, 14, 32)        0         \n",
            "_________________________________________________________________\n",
            "conv2d_27 (Conv2D)           (None, 12, 12, 64)        18496     \n",
            "_________________________________________________________________\n",
            "max_pooling2d_27 (MaxPooling (None, 6, 6, 64)          0         \n",
            "_________________________________________________________________\n",
            "conv2d_28 (Conv2D)           (None, 4, 4, 64)          36928     \n",
            "_________________________________________________________________\n",
            "max_pooling2d_28 (MaxPooling (None, 2, 2, 64)          0         \n",
            "_________________________________________________________________\n",
            "flatten_7 (Flatten)          (None, 256)               0         \n",
            "_________________________________________________________________\n",
            "dropout_13 (Dropout)         (None, 256)               0         \n",
            "_________________________________________________________________\n",
            "dense_14 (Dense)             (None, 120)               30840     \n",
            "_________________________________________________________________\n",
            "dense_15 (Dense)             (None, 2)                 242       \n",
            "=================================================================\n",
            "Total params: 96,650\n",
            "Trainable params: 96,650\n",
            "Non-trainable params: 0\n",
            "_________________________________________________________________\n"
          ],
          "name": "stdout"
        }
      ]
    },
    {
      "metadata": {
        "id": "xe7RHtCSbXKC",
        "colab_type": "code",
        "outputId": "69d89fa6-8ae0-429e-fc72-854783aa6366",
        "colab": {
          "base_uri": "https://localhost:8080/",
          "height": 731
        }
      },
      "cell_type": "code",
      "source": [
        "model1.fit(X_train_norm, y_train_one_hot, validation_data=(X_val_norm, y_val_one_hot), epochs=20, batch_size = 64)"
      ],
      "execution_count": 0,
      "outputs": [
        {
          "output_type": "stream",
          "text": [
            "Train on 20000 samples, validate on 5000 samples\n",
            "Epoch 1/20\n",
            "20000/20000 [==============================] - 8s 385us/step - loss: 0.6659 - acc: 0.5793 - val_loss: 0.6241 - val_acc: 0.6558\n",
            "Epoch 2/20\n",
            "20000/20000 [==============================] - 7s 333us/step - loss: 0.5993 - acc: 0.6787 - val_loss: 0.5478 - val_acc: 0.7296\n",
            "Epoch 3/20\n",
            "20000/20000 [==============================] - 7s 334us/step - loss: 0.5474 - acc: 0.7221 - val_loss: 0.5477 - val_acc: 0.7112\n",
            "Epoch 4/20\n",
            "20000/20000 [==============================] - 7s 335us/step - loss: 0.5109 - acc: 0.7496 - val_loss: 0.4578 - val_acc: 0.7902\n",
            "Epoch 5/20\n",
            "20000/20000 [==============================] - 7s 335us/step - loss: 0.4796 - acc: 0.7679 - val_loss: 0.4202 - val_acc: 0.8124\n",
            "Epoch 6/20\n",
            "20000/20000 [==============================] - 7s 334us/step - loss: 0.4615 - acc: 0.7809 - val_loss: 0.4205 - val_acc: 0.8120\n",
            "Epoch 7/20\n",
            "20000/20000 [==============================] - 7s 335us/step - loss: 0.4461 - acc: 0.7928 - val_loss: 0.4210 - val_acc: 0.8096\n",
            "Epoch 8/20\n",
            "20000/20000 [==============================] - 7s 334us/step - loss: 0.4243 - acc: 0.8065 - val_loss: 0.4376 - val_acc: 0.8000\n",
            "Epoch 9/20\n",
            "20000/20000 [==============================] - 7s 336us/step - loss: 0.4178 - acc: 0.8046 - val_loss: 0.3638 - val_acc: 0.8452\n",
            "Epoch 10/20\n",
            "20000/20000 [==============================] - 7s 333us/step - loss: 0.4049 - acc: 0.8167 - val_loss: 0.3667 - val_acc: 0.8354\n",
            "Epoch 11/20\n",
            "20000/20000 [==============================] - 7s 334us/step - loss: 0.3919 - acc: 0.8221 - val_loss: 0.3728 - val_acc: 0.8400\n",
            "Epoch 12/20\n",
            "20000/20000 [==============================] - 7s 335us/step - loss: 0.3936 - acc: 0.8199 - val_loss: 0.4042 - val_acc: 0.8116\n",
            "Epoch 13/20\n",
            "20000/20000 [==============================] - 7s 334us/step - loss: 0.3776 - acc: 0.8298 - val_loss: 0.3578 - val_acc: 0.8470\n",
            "Epoch 14/20\n",
            "20000/20000 [==============================] - 7s 335us/step - loss: 0.3736 - acc: 0.8338 - val_loss: 0.3304 - val_acc: 0.8584\n",
            "Epoch 15/20\n",
            "20000/20000 [==============================] - 7s 333us/step - loss: 0.3679 - acc: 0.8337 - val_loss: 0.3275 - val_acc: 0.8546\n",
            "Epoch 16/20\n",
            "20000/20000 [==============================] - 7s 333us/step - loss: 0.3671 - acc: 0.8338 - val_loss: 0.3504 - val_acc: 0.8486\n",
            "Epoch 17/20\n",
            "20000/20000 [==============================] - 7s 334us/step - loss: 0.3549 - acc: 0.8434 - val_loss: 0.3200 - val_acc: 0.8634\n",
            "Epoch 18/20\n",
            "20000/20000 [==============================] - 7s 334us/step - loss: 0.3556 - acc: 0.8432 - val_loss: 0.3596 - val_acc: 0.8350\n",
            "Epoch 19/20\n",
            "20000/20000 [==============================] - 7s 333us/step - loss: 0.3468 - acc: 0.8447 - val_loss: 0.3263 - val_acc: 0.8514\n",
            "Epoch 20/20\n",
            "20000/20000 [==============================] - 7s 333us/step - loss: 0.3483 - acc: 0.8484 - val_loss: 0.3087 - val_acc: 0.8710\n"
          ],
          "name": "stdout"
        },
        {
          "output_type": "execute_result",
          "data": {
            "text/plain": [
              "<keras.callbacks.History at 0x7fa6857df240>"
            ]
          },
          "metadata": {
            "tags": []
          },
          "execution_count": 102
        }
      ]
    },
    {
      "metadata": {
        "id": "I38mXLnLatZN",
        "colab_type": "text"
      },
      "cell_type": "markdown",
      "source": [
        "As you can see our model is showing a training accruacy of 84.84 % on training data that can be increased. However, our model right now has only 96650 trainable parameters. We can make our model more deeper to make our training accuracy even better."
      ]
    },
    {
      "metadata": {
        "id": "wT7DvH8r3r-a",
        "colab_type": "text"
      },
      "cell_type": "markdown",
      "source": [
        "**Model 2**"
      ]
    },
    {
      "metadata": {
        "id": "XujCI5w43q9T",
        "colab_type": "code",
        "colab": {}
      },
      "cell_type": "code",
      "source": [
        "model2 = Sequential()\n",
        "\n",
        "model2.add(Conv2D(32, (3,3), input_shape=(ROWS, COLS, CHANNELS), activation='relu'))\n",
        "model2.add(MaxPooling2D(pool_size = (2,2)))\n",
        "\n",
        "model2.add(Conv2D(64, (3,3), activation='relu'))\n",
        "model2.add(MaxPooling2D(pool_size = (2,2)))\n",
        "#model2.add(Dropout(0.6))\n",
        "\n",
        "model2.add(Conv2D(128, (3,3), activation='relu'))\n",
        "model2.add(MaxPooling2D(pool_size = (2,2)))\n",
        "\n",
        "model2.add(Conv2D(256, (3,3), activation='relu'))\n",
        "model2.add(MaxPooling2D(pool_size = (2,2)))\n",
        "\n",
        "model2.add(Flatten())\n",
        "#model2.add(Dropout(0.6))\n",
        "\n",
        "model2.add(Dense(units=120, activation='relu'))\n",
        "model2.add(Dense(units=2, activation='sigmoid'))"
      ],
      "execution_count": 0,
      "outputs": []
    },
    {
      "metadata": {
        "id": "fQ1BbKBE300s",
        "colab_type": "code",
        "outputId": "aaf6b7aa-18d1-4aa6-cbe8-aec8f5269bf9",
        "colab": {
          "base_uri": "https://localhost:8080/",
          "height": 510
        }
      },
      "cell_type": "code",
      "source": [
        "model2.compile(optimizer='adam', loss='categorical_crossentropy', metrics=['accuracy'])\n",
        "model2.summary()"
      ],
      "execution_count": 0,
      "outputs": [
        {
          "output_type": "stream",
          "text": [
            "_________________________________________________________________\n",
            "Layer (type)                 Output Shape              Param #   \n",
            "=================================================================\n",
            "conv2d_33 (Conv2D)           (None, 62, 62, 32)        896       \n",
            "_________________________________________________________________\n",
            "max_pooling2d_33 (MaxPooling (None, 31, 31, 32)        0         \n",
            "_________________________________________________________________\n",
            "conv2d_34 (Conv2D)           (None, 29, 29, 64)        18496     \n",
            "_________________________________________________________________\n",
            "max_pooling2d_34 (MaxPooling (None, 14, 14, 64)        0         \n",
            "_________________________________________________________________\n",
            "conv2d_35 (Conv2D)           (None, 12, 12, 128)       73856     \n",
            "_________________________________________________________________\n",
            "max_pooling2d_35 (MaxPooling (None, 6, 6, 128)         0         \n",
            "_________________________________________________________________\n",
            "conv2d_36 (Conv2D)           (None, 4, 4, 256)         295168    \n",
            "_________________________________________________________________\n",
            "max_pooling2d_36 (MaxPooling (None, 2, 2, 256)         0         \n",
            "_________________________________________________________________\n",
            "flatten_9 (Flatten)          (None, 1024)              0         \n",
            "_________________________________________________________________\n",
            "dense_18 (Dense)             (None, 120)               123000    \n",
            "_________________________________________________________________\n",
            "dense_19 (Dense)             (None, 2)                 242       \n",
            "=================================================================\n",
            "Total params: 511,658\n",
            "Trainable params: 511,658\n",
            "Non-trainable params: 0\n",
            "_________________________________________________________________\n"
          ],
          "name": "stdout"
        }
      ]
    },
    {
      "metadata": {
        "id": "CIbbg9d835OZ",
        "colab_type": "code",
        "outputId": "bfe33ebc-f040-49fc-9e2b-326e5a692762",
        "colab": {
          "base_uri": "https://localhost:8080/",
          "height": 731
        }
      },
      "cell_type": "code",
      "source": [
        "model2.fit(X_train_norm, y_train_one_hot, validation_data=(X_val_norm, y_val_one_hot), epochs=20, batch_size = 64)"
      ],
      "execution_count": 0,
      "outputs": [
        {
          "output_type": "stream",
          "text": [
            "Train on 20000 samples, validate on 5000 samples\n",
            "Epoch 1/20\n",
            "20000/20000 [==============================] - 10s 502us/step - loss: 0.6396 - acc: 0.6042 - val_loss: 0.5561 - val_acc: 0.7144\n",
            "Epoch 2/20\n",
            "20000/20000 [==============================] - 9s 451us/step - loss: 0.5266 - acc: 0.7379 - val_loss: 0.4913 - val_acc: 0.7644\n",
            "Epoch 3/20\n",
            "20000/20000 [==============================] - 9s 450us/step - loss: 0.4421 - acc: 0.7939 - val_loss: 0.4133 - val_acc: 0.8108\n",
            "Epoch 4/20\n",
            "20000/20000 [==============================] - 9s 450us/step - loss: 0.3797 - acc: 0.8280 - val_loss: 0.3899 - val_acc: 0.8262\n",
            "Epoch 5/20\n",
            "20000/20000 [==============================] - 9s 451us/step - loss: 0.3198 - acc: 0.8607 - val_loss: 0.3592 - val_acc: 0.8414\n",
            "Epoch 6/20\n",
            "20000/20000 [==============================] - 9s 454us/step - loss: 0.2817 - acc: 0.8755 - val_loss: 0.3736 - val_acc: 0.8360\n",
            "Epoch 7/20\n",
            "20000/20000 [==============================] - 9s 456us/step - loss: 0.2263 - acc: 0.9041 - val_loss: 0.4104 - val_acc: 0.8228\n",
            "Epoch 8/20\n",
            "20000/20000 [==============================] - 9s 452us/step - loss: 0.1842 - acc: 0.9262 - val_loss: 0.4230 - val_acc: 0.8282\n",
            "Epoch 9/20\n",
            "20000/20000 [==============================] - 9s 450us/step - loss: 0.1379 - acc: 0.9460 - val_loss: 0.4419 - val_acc: 0.8560\n",
            "Epoch 10/20\n",
            "20000/20000 [==============================] - 9s 450us/step - loss: 0.1164 - acc: 0.9539 - val_loss: 0.4757 - val_acc: 0.8502\n",
            "Epoch 11/20\n",
            "20000/20000 [==============================] - 9s 450us/step - loss: 0.0791 - acc: 0.9710 - val_loss: 0.5048 - val_acc: 0.8434\n",
            "Epoch 12/20\n",
            "20000/20000 [==============================] - 9s 450us/step - loss: 0.0716 - acc: 0.9715 - val_loss: 0.5517 - val_acc: 0.8460\n",
            "Epoch 13/20\n",
            "20000/20000 [==============================] - 9s 450us/step - loss: 0.0619 - acc: 0.9786 - val_loss: 0.6036 - val_acc: 0.8422\n",
            "Epoch 14/20\n",
            "20000/20000 [==============================] - 9s 452us/step - loss: 0.0493 - acc: 0.9823 - val_loss: 0.5837 - val_acc: 0.8458\n",
            "Epoch 15/20\n",
            "20000/20000 [==============================] - 9s 451us/step - loss: 0.0386 - acc: 0.9851 - val_loss: 0.7096 - val_acc: 0.8418\n",
            "Epoch 16/20\n",
            "20000/20000 [==============================] - 9s 453us/step - loss: 0.0507 - acc: 0.9813 - val_loss: 0.6719 - val_acc: 0.8484\n",
            "Epoch 17/20\n",
            "20000/20000 [==============================] - 9s 452us/step - loss: 0.0322 - acc: 0.9888 - val_loss: 0.8267 - val_acc: 0.8262\n",
            "Epoch 18/20\n",
            "20000/20000 [==============================] - 9s 453us/step - loss: 0.0329 - acc: 0.9876 - val_loss: 0.7370 - val_acc: 0.8428\n",
            "Epoch 19/20\n",
            "20000/20000 [==============================] - 9s 452us/step - loss: 0.0414 - acc: 0.9848 - val_loss: 0.7559 - val_acc: 0.8424\n",
            "Epoch 20/20\n",
            "20000/20000 [==============================] - 9s 452us/step - loss: 0.0293 - acc: 0.9888 - val_loss: 0.7354 - val_acc: 0.8456\n"
          ],
          "name": "stdout"
        },
        {
          "output_type": "execute_result",
          "data": {
            "text/plain": [
              "<keras.callbacks.History at 0x7fa684e223c8>"
            ]
          },
          "metadata": {
            "tags": []
          },
          "execution_count": 107
        }
      ]
    },
    {
      "metadata": {
        "id": "eLhpo8zkcQhj",
        "colab_type": "text"
      },
      "cell_type": "markdown",
      "source": [
        "We can clearly see that making our model deeper do help with the training accuracy as now our Training Accuracy has increased to 98.88% but our validation accuracy is only 84.56%. This means our model is overfitting. We can add regularization techniques like dropout to improve our validation set performance and prevent overfitting of our model."
      ]
    },
    {
      "metadata": {
        "id": "KJnjEOrC9aGe",
        "colab_type": "text"
      },
      "cell_type": "markdown",
      "source": [
        "**Model 3**"
      ]
    },
    {
      "metadata": {
        "id": "DUPnwICm-rLT",
        "colab_type": "code",
        "colab": {}
      },
      "cell_type": "code",
      "source": [
        "model3 = Sequential()\n",
        "\n",
        "model3.add(Conv2D(32, (3,3), input_shape=(ROWS, COLS, CHANNELS), activation='relu'))\n",
        "model3.add(MaxPooling2D(pool_size = (2,2)))\n",
        "\n",
        "model3.add(Conv2D(64, (3,3), activation='relu'))\n",
        "model3.add(MaxPooling2D(pool_size = (2,2)))\n",
        "model3.add(Dropout(0.3))\n",
        "\n",
        "model3.add(Conv2D(128, (3,3), activation='relu'))\n",
        "model3.add(MaxPooling2D(pool_size = (2,2)))\n",
        "\n",
        "model3.add(Conv2D(256, (3,3), activation='relu'))\n",
        "model3.add(MaxPooling2D(pool_size = (2,2)))\n",
        "\n",
        "model3.add(Flatten())\n",
        "model3.add(Dropout(0.3))\n",
        "\n",
        "model3.add(Dense(units=120, activation='relu'))\n",
        "model3.add(Dense(units=2, activation='sigmoid'))"
      ],
      "execution_count": 0,
      "outputs": []
    },
    {
      "metadata": {
        "id": "XEUojnBd-tXq",
        "colab_type": "code",
        "outputId": "b1c3812c-0f12-445d-b92b-03c27a4adf0e",
        "colab": {
          "base_uri": "https://localhost:8080/",
          "height": 578
        }
      },
      "cell_type": "code",
      "source": [
        "model3.compile(optimizer='adam', loss='categorical_crossentropy', metrics=['accuracy'])\n",
        "model3.summary()"
      ],
      "execution_count": 0,
      "outputs": [
        {
          "output_type": "stream",
          "text": [
            "_________________________________________________________________\n",
            "Layer (type)                 Output Shape              Param #   \n",
            "=================================================================\n",
            "conv2d_45 (Conv2D)           (None, 62, 62, 32)        896       \n",
            "_________________________________________________________________\n",
            "max_pooling2d_45 (MaxPooling (None, 31, 31, 32)        0         \n",
            "_________________________________________________________________\n",
            "conv2d_46 (Conv2D)           (None, 29, 29, 64)        18496     \n",
            "_________________________________________________________________\n",
            "max_pooling2d_46 (MaxPooling (None, 14, 14, 64)        0         \n",
            "_________________________________________________________________\n",
            "dropout_18 (Dropout)         (None, 14, 14, 64)        0         \n",
            "_________________________________________________________________\n",
            "conv2d_47 (Conv2D)           (None, 12, 12, 128)       73856     \n",
            "_________________________________________________________________\n",
            "max_pooling2d_47 (MaxPooling (None, 6, 6, 128)         0         \n",
            "_________________________________________________________________\n",
            "conv2d_48 (Conv2D)           (None, 4, 4, 256)         295168    \n",
            "_________________________________________________________________\n",
            "max_pooling2d_48 (MaxPooling (None, 2, 2, 256)         0         \n",
            "_________________________________________________________________\n",
            "flatten_12 (Flatten)         (None, 1024)              0         \n",
            "_________________________________________________________________\n",
            "dropout_19 (Dropout)         (None, 1024)              0         \n",
            "_________________________________________________________________\n",
            "dense_24 (Dense)             (None, 120)               123000    \n",
            "_________________________________________________________________\n",
            "dense_25 (Dense)             (None, 2)                 242       \n",
            "=================================================================\n",
            "Total params: 511,658\n",
            "Trainable params: 511,658\n",
            "Non-trainable params: 0\n",
            "_________________________________________________________________\n"
          ],
          "name": "stdout"
        }
      ]
    },
    {
      "metadata": {
        "id": "xVhFiETZ-xoe",
        "colab_type": "code",
        "outputId": "66ed30f3-27e7-4b14-c60a-230be5692fa2",
        "colab": {
          "base_uri": "https://localhost:8080/",
          "height": 731
        }
      },
      "cell_type": "code",
      "source": [
        "model3.fit(X_train_norm, y_train_one_hot, validation_data=(X_val_norm, y_val_one_hot), epochs=20, batch_size = 64)"
      ],
      "execution_count": 0,
      "outputs": [
        {
          "output_type": "stream",
          "text": [
            "Train on 20000 samples, validate on 5000 samples\n",
            "Epoch 1/20\n",
            "20000/20000 [==============================] - 13s 653us/step - loss: 0.6659 - acc: 0.5752 - val_loss: 0.6242 - val_acc: 0.6496\n",
            "Epoch 2/20\n",
            "20000/20000 [==============================] - 12s 583us/step - loss: 0.5664 - acc: 0.7017 - val_loss: 0.5346 - val_acc: 0.7270\n",
            "Epoch 3/20\n",
            "20000/20000 [==============================] - 12s 584us/step - loss: 0.4990 - acc: 0.7557 - val_loss: 0.4755 - val_acc: 0.7682\n",
            "Epoch 4/20\n",
            "20000/20000 [==============================] - 12s 583us/step - loss: 0.4461 - acc: 0.7919 - val_loss: 0.4160 - val_acc: 0.8120\n",
            "Epoch 5/20\n",
            "20000/20000 [==============================] - 12s 581us/step - loss: 0.4024 - acc: 0.8140 - val_loss: 0.4067 - val_acc: 0.8188\n",
            "Epoch 6/20\n",
            "20000/20000 [==============================] - 11s 572us/step - loss: 0.3679 - acc: 0.8360 - val_loss: 0.3570 - val_acc: 0.8444\n",
            "Epoch 7/20\n",
            "20000/20000 [==============================] - 11s 565us/step - loss: 0.3368 - acc: 0.8482 - val_loss: 0.3419 - val_acc: 0.8478\n",
            "Epoch 8/20\n",
            "20000/20000 [==============================] - 11s 564us/step - loss: 0.3103 - acc: 0.8622 - val_loss: 0.3547 - val_acc: 0.8482\n",
            "Epoch 9/20\n",
            "20000/20000 [==============================] - 11s 568us/step - loss: 0.2845 - acc: 0.8767 - val_loss: 0.3175 - val_acc: 0.8662\n",
            "Epoch 10/20\n",
            "20000/20000 [==============================] - 11s 568us/step - loss: 0.2638 - acc: 0.8867 - val_loss: 0.3226 - val_acc: 0.8616\n",
            "Epoch 11/20\n",
            "20000/20000 [==============================] - 11s 568us/step - loss: 0.2483 - acc: 0.8944 - val_loss: 0.3099 - val_acc: 0.8708\n",
            "Epoch 12/20\n",
            "20000/20000 [==============================] - 11s 564us/step - loss: 0.2285 - acc: 0.9014 - val_loss: 0.3055 - val_acc: 0.8716\n",
            "Epoch 13/20\n",
            "20000/20000 [==============================] - 11s 563us/step - loss: 0.2103 - acc: 0.9119 - val_loss: 0.3251 - val_acc: 0.8714\n",
            "Epoch 14/20\n",
            "20000/20000 [==============================] - 11s 567us/step - loss: 0.1953 - acc: 0.9202 - val_loss: 0.3082 - val_acc: 0.8764\n",
            "Epoch 15/20\n",
            "20000/20000 [==============================] - 11s 570us/step - loss: 0.1876 - acc: 0.9226 - val_loss: 0.3393 - val_acc: 0.8724\n",
            "Epoch 16/20\n",
            "20000/20000 [==============================] - 11s 571us/step - loss: 0.1710 - acc: 0.9309 - val_loss: 0.3206 - val_acc: 0.8862\n",
            "Epoch 17/20\n",
            "20000/20000 [==============================] - 11s 570us/step - loss: 0.1571 - acc: 0.9357 - val_loss: 0.3375 - val_acc: 0.8762\n",
            "Epoch 18/20\n",
            "20000/20000 [==============================] - 11s 568us/step - loss: 0.1510 - acc: 0.9395 - val_loss: 0.3311 - val_acc: 0.8784\n",
            "Epoch 19/20\n",
            "20000/20000 [==============================] - 11s 567us/step - loss: 0.1398 - acc: 0.9446 - val_loss: 0.3086 - val_acc: 0.8858\n",
            "Epoch 20/20\n",
            "20000/20000 [==============================] - 11s 566us/step - loss: 0.1399 - acc: 0.9440 - val_loss: 0.3017 - val_acc: 0.8876\n"
          ],
          "name": "stdout"
        },
        {
          "output_type": "execute_result",
          "data": {
            "text/plain": [
              "<keras.callbacks.History at 0x7fa683ad7630>"
            ]
          },
          "metadata": {
            "tags": []
          },
          "execution_count": 116
        }
      ]
    },
    {
      "metadata": {
        "id": "dGdugnvhdMw-",
        "colab_type": "text"
      },
      "cell_type": "markdown",
      "source": [
        "After applying Dropout as our regularization technique, the amount of overfitting has certainly reduced but our model training accuracy has considerably reduced to 94.40%. This means that if we further increase the dropout for further reducing the overfitting, our training accuracy will decrease drastically. So, we need to increase the trainable parameters more. That means, either we can make our network more deep or remove the MaxPooling2D layer just before the flatten(). We take the 2nd approach. But both approaches can be checked. Moreover, we add the dropout as well so that our model do not overfit."
      ]
    },
    {
      "metadata": {
        "id": "LTw3iM3hABtB",
        "colab_type": "text"
      },
      "cell_type": "markdown",
      "source": [
        "Model 4"
      ]
    },
    {
      "metadata": {
        "id": "_y_OB4sD_-T_",
        "colab_type": "code",
        "colab": {}
      },
      "cell_type": "code",
      "source": [
        "model4 = Sequential()\n",
        "\n",
        "model4.add(Conv2D(32, (3,3), input_shape=(ROWS, COLS, CHANNELS), activation='relu'))\n",
        "model4.add(MaxPooling2D(pool_size = (2,2)))\n",
        "\n",
        "model4.add(Conv2D(64, (3,3), activation='relu'))\n",
        "model4.add(MaxPooling2D(pool_size = (2,2)))\n",
        "model4.add(Dropout(0.4))\n",
        "\n",
        "model4.add(Conv2D(128, (3,3), activation='relu'))\n",
        "model4.add(MaxPooling2D(pool_size = (2,2)))\n",
        "model4.add(Dropout(0.4))\n",
        "\n",
        "model4.add(Conv2D(256, (3,3), activation='relu'))\n",
        "model4.add(MaxPooling2D(pool_size = (2,2)))\n",
        "model4.add(Dropout(0.4))\n",
        "\n",
        "model4.add(Conv2D(512, (1,1), activation='relu'))\n",
        "#model6.add(MaxPooling2D(pool_size = (2,2)))\n",
        "\n",
        "model4.add(Flatten())\n",
        "model4.add(Dropout(0.4))\n",
        "\n",
        "model4.add(Dense(units=120, activation='relu'))\n",
        "model4.add(Dense(units=2, activation='sigmoid'))"
      ],
      "execution_count": 0,
      "outputs": []
    },
    {
      "metadata": {
        "id": "l4NtMDq4fGDI",
        "colab_type": "text"
      },
      "cell_type": "markdown",
      "source": [
        "This model gives the best accuracy. So we trained it for 50 epochs and the result for which is shown in the \"Final Choosen Model Architecture and Training of Model\" section."
      ]
    },
    {
      "metadata": {
        "id": "wqhNKZiffWuC",
        "colab_type": "text"
      },
      "cell_type": "markdown",
      "source": [
        "You can further twerk the hyperparameter and the model architecture to get even better accuracy. However, I will leave you here.\n",
        "\n",
        "Wish You A Happy Exploring!!"
      ]
    }
  ]
}