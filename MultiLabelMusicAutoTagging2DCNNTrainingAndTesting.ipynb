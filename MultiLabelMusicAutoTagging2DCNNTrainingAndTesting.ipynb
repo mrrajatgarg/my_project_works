{
  "nbformat": 4,
  "nbformat_minor": 0,
  "metadata": {
    "colab": {
      "name": "Copy of MultiLabelMusicAutoTagging2DCNNTrainingAndTesting.ipynb",
      "version": "0.3.2",
      "provenance": [],
      "include_colab_link": true
    },
    "kernelspec": {
      "name": "python3",
      "display_name": "Python 3"
    },
    "accelerator": "GPU"
  },
  "cells": [
    {
      "cell_type": "markdown",
      "metadata": {
        "id": "view-in-github",
        "colab_type": "text"
      },
      "source": [
        "<a href=\"https://colab.research.google.com/github/mrrajatgarg/my_project_works/blob/master/MultiLabelMusicAutoTagging2DCNNTrainingAndTesting.ipynb\" target=\"_parent\"><img src=\"https://colab.research.google.com/assets/colab-badge.svg\" alt=\"Open In Colab\"/></a>"
      ]
    },
    {
      "metadata": {
        "id": "ZyetjlQ57ecR",
        "colab_type": "text"
      },
      "cell_type": "markdown",
      "source": [
        "# Music Information Retrieval (MIR)\n",
        "\n",
        "**Defination --**\n",
        "\n",
        "Music Information Retreval (MIR) is centered on finding ways to automate the process of classifying music genre and mood and tagging music."
      ]
    },
    {
      "metadata": {
        "id": "ug5-KnktRaaE",
        "colab_type": "text"
      },
      "cell_type": "markdown",
      "source": [
        "**AIM:**\n",
        "\n",
        "It's a multi-label classification problem (i.e. a particular audio file can have multiple tags associated with it. for ex: - indian, guitar). Given the audio clip, tag the audio clip with appropriate tags."
      ]
    },
    {
      "metadata": {
        "id": "heHSni0JjGrL",
        "colab_type": "text"
      },
      "cell_type": "markdown",
      "source": [
        "# Importing Libraries"
      ]
    },
    {
      "metadata": {
        "id": "POnbNimYjJIT",
        "colab_type": "code",
        "colab": {}
      },
      "cell_type": "code",
      "source": [
        "import pandas as pd\n",
        "import numpy as np"
      ],
      "execution_count": 0,
      "outputs": []
    },
    {
      "metadata": {
        "id": "UtG22Z6SmRbF",
        "colab_type": "code",
        "outputId": "dd281b75-a02f-4e12-8248-ef620a89c7a3",
        "colab": {
          "base_uri": "https://localhost:8080/",
          "height": 84
        }
      },
      "cell_type": "code",
      "source": [
        "!pip install sklearn\n",
        "import sklearn\n",
        "from sklearn.model_selection import train_test_split"
      ],
      "execution_count": 0,
      "outputs": [
        {
          "output_type": "stream",
          "text": [
            "Requirement already satisfied: sklearn in /usr/local/lib/python3.6/dist-packages (0.0)\n",
            "Requirement already satisfied: scikit-learn in /usr/local/lib/python3.6/dist-packages (from sklearn) (0.20.2)\n",
            "Requirement already satisfied: numpy>=1.8.2 in /usr/local/lib/python3.6/dist-packages (from scikit-learn->sklearn) (1.14.6)\n",
            "Requirement already satisfied: scipy>=0.13.3 in /usr/local/lib/python3.6/dist-packages (from scikit-learn->sklearn) (1.1.0)\n"
          ],
          "name": "stdout"
        }
      ]
    },
    {
      "metadata": {
        "id": "8iG3zYr6mpnK",
        "colab_type": "code",
        "outputId": "a0c3b16e-b4c5-4161-efce-18b6105275fb",
        "colab": {
          "base_uri": "https://localhost:8080/",
          "height": 34
        }
      },
      "cell_type": "code",
      "source": [
        "import keras\n",
        "from keras.models import Sequential, Model, load_model\n",
        "from keras.layers import Input, Conv1D, Conv2D, MaxPooling1D, MaxPooling2D, Dense, Dropout, Activation, Flatten\n",
        "from keras.layers.normalization import BatchNormalization\n",
        "from keras.optimizers import SGD\n",
        "from keras.utils import to_categorical\n",
        "\n",
        "import kapre\n",
        "from kapre.time_frequency import Melspectrogram\n",
        "from kapre.utils import Normalization2D"
      ],
      "execution_count": 0,
      "outputs": [
        {
          "output_type": "stream",
          "text": [
            "Using TensorFlow backend.\n"
          ],
          "name": "stderr"
        }
      ]
    },
    {
      "metadata": {
        "id": "zzNMavghidnS",
        "colab_type": "text"
      },
      "cell_type": "markdown",
      "source": [
        "# Loading the .npy file saved earlier from Google Drive"
      ]
    },
    {
      "metadata": {
        "id": "87iZLnI7iZIX",
        "colab_type": "code",
        "colab": {}
      },
      "cell_type": "code",
      "source": [
        "# Code to read csv file into Colaboratory:\n",
        "!pip install -U -q PyDrive\n",
        "from pydrive.auth import GoogleAuth\n",
        "from pydrive.drive import GoogleDrive\n",
        "from google.colab import auth\n",
        "from oauth2client.client import GoogleCredentials"
      ],
      "execution_count": 0,
      "outputs": []
    },
    {
      "metadata": {
        "id": "i48QYW6yirGJ",
        "colab_type": "code",
        "colab": {}
      },
      "cell_type": "code",
      "source": [
        "# Authenticate and create the PyDrive client.\n",
        "auth.authenticate_user()\n",
        "gauth = GoogleAuth()\n",
        "gauth.credentials = GoogleCredentials.get_application_default()\n",
        "drive = GoogleDrive(gauth)"
      ],
      "execution_count": 0,
      "outputs": []
    },
    {
      "metadata": {
        "id": "pvSwwsIFjAIr",
        "colab_type": "text"
      },
      "cell_type": "markdown",
      "source": [
        "Link is the sharable link of the file"
      ]
    },
    {
      "metadata": {
        "id": "SQQdindPi4bh",
        "colab_type": "code",
        "outputId": "7c869835-7fac-4003-9c0e-982d73fac4e2",
        "colab": {
          "base_uri": "https://localhost:8080/",
          "height": 34
        }
      },
      "cell_type": "code",
      "source": [
        "link = 'https://drive.google.com/open?id=1y3S1mYaB3kygbvhe_sqN0OZqwe6ANmaj'\n",
        "\n",
        "fluff, id = link.split('=')\n",
        "\n",
        "print (id) # Verify that you have everything after '='\n",
        "\n",
        "downloaded = drive.CreateFile({'id':id}) \n",
        "downloaded.GetContentFile('list_data-file-duration29.npy') "
      ],
      "execution_count": 0,
      "outputs": [
        {
          "output_type": "stream",
          "text": [
            "1y3S1mYaB3kygbvhe_sqN0OZqwe6ANmaj\n"
          ],
          "name": "stdout"
        }
      ]
    },
    {
      "metadata": {
        "id": "XGOYko4DjDyt",
        "colab_type": "code",
        "colab": {}
      },
      "cell_type": "code",
      "source": [
        "list_data = np.load('list_data-file-duration29.npy')"
      ],
      "execution_count": 0,
      "outputs": []
    },
    {
      "metadata": {
        "id": "wfwQ9nfAjSq6",
        "colab_type": "text"
      },
      "cell_type": "markdown",
      "source": [
        "I have loaded only 16250 audio files as loading more files causes my Google Colab to run out of memory."
      ]
    },
    {
      "metadata": {
        "id": "u3TFmvzkjPSG",
        "colab_type": "code",
        "outputId": "cf4096b0-8e37-445f-d66f-3ab61ad1306f",
        "colab": {
          "base_uri": "https://localhost:8080/",
          "height": 34
        }
      },
      "cell_type": "code",
      "source": [
        "list_data.shape"
      ],
      "execution_count": 0,
      "outputs": [
        {
          "output_type": "execute_result",
          "data": {
            "text/plain": [
              "(16250, 1, 61394)"
            ]
          },
          "metadata": {
            "tags": []
          },
          "execution_count": 7
        }
      ]
    },
    {
      "metadata": {
        "id": "JN6OIdxfjl76",
        "colab_type": "text"
      },
      "cell_type": "markdown",
      "source": [
        "# Preprocessing on Labels of audio files for getting the similarity used by most researchers to publish betchmarks"
      ]
    },
    {
      "metadata": {
        "id": "UnjilJ6Yj7Wp",
        "colab_type": "text"
      },
      "cell_type": "markdown",
      "source": [
        "Steps of Preprocessing includes:\n",
        "\n",
        "\n",
        "*   Removal of similar labels to single category\n",
        "*   Reducing the labels to 50 most common labels\n",
        "\n"
      ]
    },
    {
      "metadata": {
        "id": "ZUq2-0-Yjc95",
        "colab_type": "code",
        "colab": {}
      },
      "cell_type": "code",
      "source": [
        "directory_labels = '/content/'"
      ],
      "execution_count": 0,
      "outputs": []
    },
    {
      "metadata": {
        "id": "rkWlkEWVkLOp",
        "colab_type": "code",
        "colab": {}
      },
      "cell_type": "code",
      "source": [
        "# Load the annotations file (prior to execution check correctness of delimiter)\n",
        "annotations = pd.read_csv(directory_labels + 'annotations_final.csv', sep=\"\\t\")"
      ],
      "execution_count": 0,
      "outputs": []
    },
    {
      "metadata": {
        "id": "3upBtZAnkMqx",
        "colab_type": "code",
        "outputId": "9110c896-2aa4-4575-9396-754ec59bd79f",
        "colab": {
          "base_uri": "https://localhost:8080/",
          "height": 101
        }
      },
      "cell_type": "code",
      "source": [
        "# check size of annotations\n",
        "annotations.info()"
      ],
      "execution_count": 0,
      "outputs": [
        {
          "output_type": "stream",
          "text": [
            "<class 'pandas.core.frame.DataFrame'>\n",
            "RangeIndex: 25863 entries, 0 to 25862\n",
            "Columns: 190 entries, clip_id to mp3_path\n",
            "dtypes: int64(189), object(1)\n",
            "memory usage: 37.5+ MB\n"
          ],
          "name": "stdout"
        }
      ]
    },
    {
      "metadata": {
        "id": "KdBdjp7dkOEB",
        "colab_type": "code",
        "outputId": "008f5788-a27a-4260-d227-64a5af7b7ce6",
        "colab": {
          "base_uri": "https://localhost:8080/",
          "height": 345
        }
      },
      "cell_type": "code",
      "source": [
        "# ensure correct loading\n",
        "annotations.head(5)"
      ],
      "execution_count": 0,
      "outputs": [
        {
          "output_type": "execute_result",
          "data": {
            "text/html": [
              "<div>\n",
              "<style scoped>\n",
              "    .dataframe tbody tr th:only-of-type {\n",
              "        vertical-align: middle;\n",
              "    }\n",
              "\n",
              "    .dataframe tbody tr th {\n",
              "        vertical-align: top;\n",
              "    }\n",
              "\n",
              "    .dataframe thead th {\n",
              "        text-align: right;\n",
              "    }\n",
              "</style>\n",
              "<table border=\"1\" class=\"dataframe\">\n",
              "  <thead>\n",
              "    <tr style=\"text-align: right;\">\n",
              "      <th></th>\n",
              "      <th>clip_id</th>\n",
              "      <th>no voice</th>\n",
              "      <th>singer</th>\n",
              "      <th>duet</th>\n",
              "      <th>plucking</th>\n",
              "      <th>hard rock</th>\n",
              "      <th>world</th>\n",
              "      <th>bongos</th>\n",
              "      <th>harpsichord</th>\n",
              "      <th>female singing</th>\n",
              "      <th>...</th>\n",
              "      <th>rap</th>\n",
              "      <th>metal</th>\n",
              "      <th>hip hop</th>\n",
              "      <th>quick</th>\n",
              "      <th>water</th>\n",
              "      <th>baroque</th>\n",
              "      <th>women</th>\n",
              "      <th>fiddle</th>\n",
              "      <th>english</th>\n",
              "      <th>mp3_path</th>\n",
              "    </tr>\n",
              "  </thead>\n",
              "  <tbody>\n",
              "    <tr>\n",
              "      <th>0</th>\n",
              "      <td>2</td>\n",
              "      <td>0</td>\n",
              "      <td>0</td>\n",
              "      <td>0</td>\n",
              "      <td>0</td>\n",
              "      <td>0</td>\n",
              "      <td>0</td>\n",
              "      <td>0</td>\n",
              "      <td>0</td>\n",
              "      <td>0</td>\n",
              "      <td>...</td>\n",
              "      <td>0</td>\n",
              "      <td>0</td>\n",
              "      <td>0</td>\n",
              "      <td>0</td>\n",
              "      <td>0</td>\n",
              "      <td>0</td>\n",
              "      <td>0</td>\n",
              "      <td>0</td>\n",
              "      <td>0</td>\n",
              "      <td>f/american_bach_soloists-j_s__bach_solo_cantat...</td>\n",
              "    </tr>\n",
              "    <tr>\n",
              "      <th>1</th>\n",
              "      <td>6</td>\n",
              "      <td>0</td>\n",
              "      <td>0</td>\n",
              "      <td>0</td>\n",
              "      <td>0</td>\n",
              "      <td>0</td>\n",
              "      <td>0</td>\n",
              "      <td>0</td>\n",
              "      <td>0</td>\n",
              "      <td>0</td>\n",
              "      <td>...</td>\n",
              "      <td>0</td>\n",
              "      <td>0</td>\n",
              "      <td>0</td>\n",
              "      <td>0</td>\n",
              "      <td>0</td>\n",
              "      <td>1</td>\n",
              "      <td>0</td>\n",
              "      <td>0</td>\n",
              "      <td>0</td>\n",
              "      <td>f/american_bach_soloists-j_s__bach_solo_cantat...</td>\n",
              "    </tr>\n",
              "    <tr>\n",
              "      <th>2</th>\n",
              "      <td>10</td>\n",
              "      <td>0</td>\n",
              "      <td>0</td>\n",
              "      <td>0</td>\n",
              "      <td>0</td>\n",
              "      <td>0</td>\n",
              "      <td>0</td>\n",
              "      <td>0</td>\n",
              "      <td>0</td>\n",
              "      <td>0</td>\n",
              "      <td>...</td>\n",
              "      <td>0</td>\n",
              "      <td>0</td>\n",
              "      <td>0</td>\n",
              "      <td>0</td>\n",
              "      <td>0</td>\n",
              "      <td>0</td>\n",
              "      <td>0</td>\n",
              "      <td>0</td>\n",
              "      <td>0</td>\n",
              "      <td>f/american_bach_soloists-j_s__bach_solo_cantat...</td>\n",
              "    </tr>\n",
              "    <tr>\n",
              "      <th>3</th>\n",
              "      <td>11</td>\n",
              "      <td>0</td>\n",
              "      <td>0</td>\n",
              "      <td>0</td>\n",
              "      <td>0</td>\n",
              "      <td>0</td>\n",
              "      <td>0</td>\n",
              "      <td>0</td>\n",
              "      <td>0</td>\n",
              "      <td>0</td>\n",
              "      <td>...</td>\n",
              "      <td>0</td>\n",
              "      <td>0</td>\n",
              "      <td>0</td>\n",
              "      <td>0</td>\n",
              "      <td>0</td>\n",
              "      <td>0</td>\n",
              "      <td>0</td>\n",
              "      <td>0</td>\n",
              "      <td>0</td>\n",
              "      <td>f/american_bach_soloists-j_s__bach_solo_cantat...</td>\n",
              "    </tr>\n",
              "    <tr>\n",
              "      <th>4</th>\n",
              "      <td>12</td>\n",
              "      <td>0</td>\n",
              "      <td>0</td>\n",
              "      <td>0</td>\n",
              "      <td>0</td>\n",
              "      <td>0</td>\n",
              "      <td>0</td>\n",
              "      <td>0</td>\n",
              "      <td>0</td>\n",
              "      <td>0</td>\n",
              "      <td>...</td>\n",
              "      <td>0</td>\n",
              "      <td>0</td>\n",
              "      <td>0</td>\n",
              "      <td>0</td>\n",
              "      <td>0</td>\n",
              "      <td>0</td>\n",
              "      <td>0</td>\n",
              "      <td>0</td>\n",
              "      <td>0</td>\n",
              "      <td>f/american_bach_soloists-j_s__bach_solo_cantat...</td>\n",
              "    </tr>\n",
              "  </tbody>\n",
              "</table>\n",
              "<p>5 rows × 190 columns</p>\n",
              "</div>"
            ],
            "text/plain": [
              "   clip_id  no voice  singer  duet  plucking  hard rock  world  bongos  \\\n",
              "0        2         0       0     0         0          0      0       0   \n",
              "1        6         0       0     0         0          0      0       0   \n",
              "2       10         0       0     0         0          0      0       0   \n",
              "3       11         0       0     0         0          0      0       0   \n",
              "4       12         0       0     0         0          0      0       0   \n",
              "\n",
              "   harpsichord  female singing  \\\n",
              "0            0               0   \n",
              "1            0               0   \n",
              "2            0               0   \n",
              "3            0               0   \n",
              "4            0               0   \n",
              "\n",
              "                         ...                          rap  metal  hip hop  \\\n",
              "0                        ...                            0      0        0   \n",
              "1                        ...                            0      0        0   \n",
              "2                        ...                            0      0        0   \n",
              "3                        ...                            0      0        0   \n",
              "4                        ...                            0      0        0   \n",
              "\n",
              "   quick  water  baroque  women  fiddle  english  \\\n",
              "0      0      0        0      0       0        0   \n",
              "1      0      0        1      0       0        0   \n",
              "2      0      0        0      0       0        0   \n",
              "3      0      0        0      0       0        0   \n",
              "4      0      0        0      0       0        0   \n",
              "\n",
              "                                            mp3_path  \n",
              "0  f/american_bach_soloists-j_s__bach_solo_cantat...  \n",
              "1  f/american_bach_soloists-j_s__bach_solo_cantat...  \n",
              "2  f/american_bach_soloists-j_s__bach_solo_cantat...  \n",
              "3  f/american_bach_soloists-j_s__bach_solo_cantat...  \n",
              "4  f/american_bach_soloists-j_s__bach_solo_cantat...  \n",
              "\n",
              "[5 rows x 190 columns]"
            ]
          },
          "metadata": {
            "tags": []
          },
          "execution_count": 11
        }
      ]
    },
    {
      "metadata": {
        "id": "Cp3Mk1smkRRY",
        "colab_type": "code",
        "colab": {}
      },
      "cell_type": "code",
      "source": [
        "# merge synonym tags\n",
        "synonyms = [['beat', 'beats'],\n",
        "            ['chant', 'chanting'],\n",
        "            ['choir', 'choral'],\n",
        "            ['classical', 'clasical', 'classic'],\n",
        "            ['drum', 'drums'],\n",
        "            ['electro', 'electronic', 'electronica', 'electric'],\n",
        "            ['fast', 'fast beat', 'quick'],\n",
        "            ['female', 'female singer', 'female singing', 'female vocals', 'female vocal', 'female voice', 'woman', 'woman singing', 'women'],\n",
        "            ['flute', 'flutes'],\n",
        "            ['guitar', 'guitars'],\n",
        "            ['hard', 'hard rock'],\n",
        "            ['harpsichord', 'harpsicord'],\n",
        "            ['heavy', 'heavy metal', 'metal'],\n",
        "            ['horn', 'horns'],\n",
        "            ['india', 'indian'],\n",
        "            ['jazz', 'jazzy'],\n",
        "            ['male', 'male singer', 'male vocal', 'male vocals', 'male voice', 'man', 'man singing', 'men'],\n",
        "            ['no beat', 'no drums'],\n",
        "            ['no singer', 'no singing', 'no vocal','no vocals', 'no voice', 'no voices', 'instrumental'],\n",
        "            ['opera', 'operatic'],\n",
        "            ['orchestra', 'orchestral'],\n",
        "            ['quiet', 'silence'],\n",
        "            ['singer', 'singing'],\n",
        "            ['space', 'spacey'],\n",
        "            ['string', 'strings'],\n",
        "            ['synth', 'synthesizer'],\n",
        "            ['violin', 'violins'],\n",
        "            ['vocal', 'vocals', 'voice', 'voices'],\n",
        "            ['strange', 'weird']]"
      ],
      "execution_count": 0,
      "outputs": []
    },
    {
      "metadata": {
        "id": "as6zaUa9kU2W",
        "colab_type": "code",
        "colab": {}
      },
      "cell_type": "code",
      "source": [
        "# replace all synonym words with the first in the list constructed above\n",
        "for synonym_list in synonyms:\n",
        "    annotations[synonym_list[0]] = annotations[synonym_list].max(axis=1)\n",
        "    annotations.drop(synonym_list[1:], axis=1, inplace=True)"
      ],
      "execution_count": 0,
      "outputs": []
    },
    {
      "metadata": {
        "id": "j4ZCAZWSkXTO",
        "colab_type": "code",
        "outputId": "4263358e-9c9e-4652-b3f4-44f79b5a1933",
        "colab": {
          "base_uri": "https://localhost:8080/",
          "height": 101
        }
      },
      "cell_type": "code",
      "source": [
        "# check results\n",
        "# previously: Columns: 190 entries, clip_id to mp3_path &  memory usage: 37.5+ MB\n",
        "# now: Columns: 136 entries, clip_id to mp3_path & memory usage: 26.8+ MB\n",
        "annotations.info()"
      ],
      "execution_count": 0,
      "outputs": [
        {
          "output_type": "stream",
          "text": [
            "<class 'pandas.core.frame.DataFrame'>\n",
            "RangeIndex: 25863 entries, 0 to 25862\n",
            "Columns: 136 entries, clip_id to mp3_path\n",
            "dtypes: int64(135), object(1)\n",
            "memory usage: 26.8+ MB\n"
          ],
          "name": "stdout"
        }
      ]
    },
    {
      "metadata": {
        "id": "MSuZw4XXkYua",
        "colab_type": "code",
        "colab": {}
      },
      "cell_type": "code",
      "source": [
        "# keep clip_id and mp3_path in a different matrix to bind later\n",
        "annotations_ids = annotations[['clip_id', 'mp3_path']]"
      ],
      "execution_count": 0,
      "outputs": []
    },
    {
      "metadata": {
        "id": "lfHvO_U0kaTY",
        "colab_type": "code",
        "colab": {}
      },
      "cell_type": "code",
      "source": [
        "# drop clip_id and mp3_path to proceed with distribution counts\n",
        "annotations = annotations[annotations.columns.difference(['clip_id', 'mp3_path'])]"
      ],
      "execution_count": 0,
      "outputs": []
    },
    {
      "metadata": {
        "id": "oZ6kPoo7kcb6",
        "colab_type": "code",
        "outputId": "56d38ea6-0434-44e1-c142-f696193c4f84",
        "colab": {
          "base_uri": "https://localhost:8080/",
          "height": 101
        }
      },
      "cell_type": "code",
      "source": [
        "annotations.info()"
      ],
      "execution_count": 0,
      "outputs": [
        {
          "output_type": "stream",
          "text": [
            "<class 'pandas.core.frame.DataFrame'>\n",
            "RangeIndex: 25863 entries, 0 to 25862\n",
            "Columns: 134 entries, acoustic to world\n",
            "dtypes: int64(134)\n",
            "memory usage: 26.4 MB\n"
          ],
          "name": "stdout"
        }
      ]
    },
    {
      "metadata": {
        "id": "CAus1sm8keC3",
        "colab_type": "code",
        "colab": {}
      },
      "cell_type": "code",
      "source": [
        "# tags' distribution\n",
        "tags_distro = annotations.sum(axis=0)\n",
        "# sort tags according to their occurencies \n",
        "tags_distro.sort_values(axis=0, inplace=True, ascending = False)"
      ],
      "execution_count": 0,
      "outputs": []
    },
    {
      "metadata": {
        "id": "boZCo2qMkhS0",
        "colab_type": "code",
        "colab": {}
      },
      "cell_type": "code",
      "source": [
        "#find 50 top tags\n",
        "topindex, topvalues = list(tags_distro.index[:50]), tags_distro.values[:50]"
      ],
      "execution_count": 0,
      "outputs": []
    },
    {
      "metadata": {
        "id": "Iw4lYs5ukilB",
        "colab_type": "code",
        "colab": {}
      },
      "cell_type": "code",
      "source": [
        "# list of columns to remove from annotation file (not common labels)\n",
        "rem_cols_index =list(tags_distro.index[50:])"
      ],
      "execution_count": 0,
      "outputs": []
    },
    {
      "metadata": {
        "id": "Vb1nyPZ5kj25",
        "colab_type": "code",
        "outputId": "190c3a57-4f28-4e62-ed1d-7361e9edb41d",
        "colab": {
          "base_uri": "https://localhost:8080/",
          "height": 34
        }
      },
      "cell_type": "code",
      "source": [
        "#check how many columns we are about to remove\n",
        "len(rem_cols_index)"
      ],
      "execution_count": 0,
      "outputs": [
        {
          "output_type": "execute_result",
          "data": {
            "text/plain": [
              "84"
            ]
          },
          "metadata": {
            "tags": []
          },
          "execution_count": 21
        }
      ]
    },
    {
      "metadata": {
        "id": "A7C0jgwKkoZG",
        "colab_type": "code",
        "colab": {}
      },
      "cell_type": "code",
      "source": [
        "# keep only the 50 most common tags\n",
        "annotations.drop(rem_cols_index, axis=1, inplace=True)"
      ],
      "execution_count": 0,
      "outputs": []
    },
    {
      "metadata": {
        "id": "fm16WaxHkvHR",
        "colab_type": "code",
        "outputId": "f8db5883-6a0c-4fab-e1c1-323f57d1e3b1",
        "colab": {
          "base_uri": "https://localhost:8080/",
          "height": 244
        }
      },
      "cell_type": "code",
      "source": [
        "# ensure correct binding\n",
        "annotations.head(5)"
      ],
      "execution_count": 0,
      "outputs": [
        {
          "output_type": "execute_result",
          "data": {
            "text/html": [
              "<div>\n",
              "<style scoped>\n",
              "    .dataframe tbody tr th:only-of-type {\n",
              "        vertical-align: middle;\n",
              "    }\n",
              "\n",
              "    .dataframe tbody tr th {\n",
              "        vertical-align: top;\n",
              "    }\n",
              "\n",
              "    .dataframe thead th {\n",
              "        text-align: right;\n",
              "    }\n",
              "</style>\n",
              "<table border=\"1\" class=\"dataframe\">\n",
              "  <thead>\n",
              "    <tr style=\"text-align: right;\">\n",
              "      <th></th>\n",
              "      <th>ambient</th>\n",
              "      <th>baroque</th>\n",
              "      <th>bass</th>\n",
              "      <th>beat</th>\n",
              "      <th>cello</th>\n",
              "      <th>chant</th>\n",
              "      <th>choir</th>\n",
              "      <th>classical</th>\n",
              "      <th>country</th>\n",
              "      <th>dance</th>\n",
              "      <th>...</th>\n",
              "      <th>slow</th>\n",
              "      <th>soft</th>\n",
              "      <th>solo</th>\n",
              "      <th>strange</th>\n",
              "      <th>string</th>\n",
              "      <th>synth</th>\n",
              "      <th>techno</th>\n",
              "      <th>trance</th>\n",
              "      <th>violin</th>\n",
              "      <th>vocal</th>\n",
              "    </tr>\n",
              "  </thead>\n",
              "  <tbody>\n",
              "    <tr>\n",
              "      <th>0</th>\n",
              "      <td>0</td>\n",
              "      <td>0</td>\n",
              "      <td>0</td>\n",
              "      <td>0</td>\n",
              "      <td>0</td>\n",
              "      <td>0</td>\n",
              "      <td>0</td>\n",
              "      <td>1</td>\n",
              "      <td>0</td>\n",
              "      <td>0</td>\n",
              "      <td>...</td>\n",
              "      <td>0</td>\n",
              "      <td>0</td>\n",
              "      <td>0</td>\n",
              "      <td>0</td>\n",
              "      <td>1</td>\n",
              "      <td>0</td>\n",
              "      <td>0</td>\n",
              "      <td>0</td>\n",
              "      <td>1</td>\n",
              "      <td>0</td>\n",
              "    </tr>\n",
              "    <tr>\n",
              "      <th>1</th>\n",
              "      <td>0</td>\n",
              "      <td>1</td>\n",
              "      <td>0</td>\n",
              "      <td>0</td>\n",
              "      <td>0</td>\n",
              "      <td>0</td>\n",
              "      <td>0</td>\n",
              "      <td>1</td>\n",
              "      <td>0</td>\n",
              "      <td>0</td>\n",
              "      <td>...</td>\n",
              "      <td>0</td>\n",
              "      <td>0</td>\n",
              "      <td>0</td>\n",
              "      <td>0</td>\n",
              "      <td>1</td>\n",
              "      <td>0</td>\n",
              "      <td>0</td>\n",
              "      <td>0</td>\n",
              "      <td>1</td>\n",
              "      <td>0</td>\n",
              "    </tr>\n",
              "    <tr>\n",
              "      <th>2</th>\n",
              "      <td>0</td>\n",
              "      <td>0</td>\n",
              "      <td>0</td>\n",
              "      <td>0</td>\n",
              "      <td>0</td>\n",
              "      <td>0</td>\n",
              "      <td>0</td>\n",
              "      <td>1</td>\n",
              "      <td>0</td>\n",
              "      <td>0</td>\n",
              "      <td>...</td>\n",
              "      <td>0</td>\n",
              "      <td>0</td>\n",
              "      <td>0</td>\n",
              "      <td>0</td>\n",
              "      <td>0</td>\n",
              "      <td>0</td>\n",
              "      <td>0</td>\n",
              "      <td>0</td>\n",
              "      <td>0</td>\n",
              "      <td>0</td>\n",
              "    </tr>\n",
              "    <tr>\n",
              "      <th>3</th>\n",
              "      <td>0</td>\n",
              "      <td>0</td>\n",
              "      <td>0</td>\n",
              "      <td>0</td>\n",
              "      <td>0</td>\n",
              "      <td>0</td>\n",
              "      <td>0</td>\n",
              "      <td>0</td>\n",
              "      <td>0</td>\n",
              "      <td>0</td>\n",
              "      <td>...</td>\n",
              "      <td>0</td>\n",
              "      <td>0</td>\n",
              "      <td>0</td>\n",
              "      <td>0</td>\n",
              "      <td>0</td>\n",
              "      <td>0</td>\n",
              "      <td>0</td>\n",
              "      <td>0</td>\n",
              "      <td>0</td>\n",
              "      <td>0</td>\n",
              "    </tr>\n",
              "    <tr>\n",
              "      <th>4</th>\n",
              "      <td>0</td>\n",
              "      <td>0</td>\n",
              "      <td>0</td>\n",
              "      <td>0</td>\n",
              "      <td>0</td>\n",
              "      <td>0</td>\n",
              "      <td>0</td>\n",
              "      <td>1</td>\n",
              "      <td>0</td>\n",
              "      <td>0</td>\n",
              "      <td>...</td>\n",
              "      <td>0</td>\n",
              "      <td>0</td>\n",
              "      <td>0</td>\n",
              "      <td>0</td>\n",
              "      <td>1</td>\n",
              "      <td>0</td>\n",
              "      <td>0</td>\n",
              "      <td>0</td>\n",
              "      <td>1</td>\n",
              "      <td>0</td>\n",
              "    </tr>\n",
              "  </tbody>\n",
              "</table>\n",
              "<p>5 rows × 50 columns</p>\n",
              "</div>"
            ],
            "text/plain": [
              "   ambient  baroque  bass  beat  cello  chant  choir  classical  country  \\\n",
              "0        0        0     0     0      0      0      0          1        0   \n",
              "1        0        1     0     0      0      0      0          1        0   \n",
              "2        0        0     0     0      0      0      0          1        0   \n",
              "3        0        0     0     0      0      0      0          0        0   \n",
              "4        0        0     0     0      0      0      0          1        0   \n",
              "\n",
              "   dance  ...    slow  soft  solo  strange  string  synth  techno  trance  \\\n",
              "0      0  ...       0     0     0        0       1      0       0       0   \n",
              "1      0  ...       0     0     0        0       1      0       0       0   \n",
              "2      0  ...       0     0     0        0       0      0       0       0   \n",
              "3      0  ...       0     0     0        0       0      0       0       0   \n",
              "4      0  ...       0     0     0        0       1      0       0       0   \n",
              "\n",
              "   violin  vocal  \n",
              "0       1      0  \n",
              "1       1      0  \n",
              "2       0      0  \n",
              "3       0      0  \n",
              "4       1      0  \n",
              "\n",
              "[5 rows x 50 columns]"
            ]
          },
          "metadata": {
            "tags": []
          },
          "execution_count": 23
        }
      ]
    },
    {
      "metadata": {
        "id": "_b95ZEWfkwn7",
        "colab_type": "code",
        "outputId": "378a35b2-67d8-4085-8522-267c2a7e7559",
        "colab": {
          "base_uri": "https://localhost:8080/",
          "height": 34
        }
      },
      "cell_type": "code",
      "source": [
        "annotations.shape"
      ],
      "execution_count": 0,
      "outputs": [
        {
          "output_type": "execute_result",
          "data": {
            "text/plain": [
              "(25863, 50)"
            ]
          },
          "metadata": {
            "tags": []
          },
          "execution_count": 24
        }
      ]
    },
    {
      "metadata": {
        "id": "I46l4Gtbly9D",
        "colab_type": "text"
      },
      "cell_type": "markdown",
      "source": [
        "# Converting above files to format so that we can train model on them"
      ]
    },
    {
      "metadata": {
        "id": "5tXmhLM_lpxF",
        "colab_type": "code",
        "outputId": "1a71a1c4-537b-48c5-a7cb-94f705466035",
        "colab": {
          "base_uri": "https://localhost:8080/",
          "height": 50
        }
      },
      "cell_type": "code",
      "source": [
        "print(list_data.shape)\n",
        "print(annotations.shape)"
      ],
      "execution_count": 0,
      "outputs": [
        {
          "output_type": "stream",
          "text": [
            "(16250, 1, 61394)\n",
            "(25863, 50)\n"
          ],
          "name": "stdout"
        }
      ]
    },
    {
      "metadata": {
        "id": "OEDrnqW0l4pA",
        "colab_type": "code",
        "colab": {}
      },
      "cell_type": "code",
      "source": [
        "new_annotations = annotations[0:16250]"
      ],
      "execution_count": 0,
      "outputs": []
    },
    {
      "metadata": {
        "id": "aY9D8IAil8GJ",
        "colab_type": "code",
        "colab": {}
      },
      "cell_type": "code",
      "source": [
        "classes = new_annotations.values"
      ],
      "execution_count": 0,
      "outputs": []
    },
    {
      "metadata": {
        "id": "fQ4iVPn3l9fI",
        "colab_type": "code",
        "outputId": "7c465f53-608d-4d97-cec3-1cb52b072d3c",
        "colab": {
          "base_uri": "https://localhost:8080/",
          "height": 34
        }
      },
      "cell_type": "code",
      "source": [
        "classes.shape"
      ],
      "execution_count": 0,
      "outputs": [
        {
          "output_type": "execute_result",
          "data": {
            "text/plain": [
              "(16250, 50)"
            ]
          },
          "metadata": {
            "tags": []
          },
          "execution_count": 28
        }
      ]
    },
    {
      "metadata": {
        "id": "tNMNdEFomEh7",
        "colab_type": "text"
      },
      "cell_type": "markdown",
      "source": [
        "# Splitting of Dataset into training (80%) and validation (20%) set."
      ]
    },
    {
      "metadata": {
        "id": "JjmP_qnQl_Ds",
        "colab_type": "code",
        "colab": {}
      },
      "cell_type": "code",
      "source": [
        "X_train, X_test, y_train, y_test = train_test_split(list_data, classes, test_size=0.2, random_state=1) #20000"
      ],
      "execution_count": 0,
      "outputs": []
    },
    {
      "metadata": {
        "id": "jV08X6Y1mVEB",
        "colab_type": "code",
        "outputId": "fff28efa-6e31-43fc-ffa4-99cb8e4a39f6",
        "colab": {
          "base_uri": "https://localhost:8080/",
          "height": 34
        }
      },
      "cell_type": "code",
      "source": [
        "X_train.shape"
      ],
      "execution_count": 0,
      "outputs": [
        {
          "output_type": "execute_result",
          "data": {
            "text/plain": [
              "(13000, 1, 61394)"
            ]
          },
          "metadata": {
            "tags": []
          },
          "execution_count": 30
        }
      ]
    },
    {
      "metadata": {
        "id": "idQ4-jvUmYuq",
        "colab_type": "code",
        "outputId": "9bcd0dff-5570-4f28-ef06-87c3414c7a79",
        "colab": {
          "base_uri": "https://localhost:8080/",
          "height": 34
        }
      },
      "cell_type": "code",
      "source": [
        "X_test.shape"
      ],
      "execution_count": 0,
      "outputs": [
        {
          "output_type": "execute_result",
          "data": {
            "text/plain": [
              "(3250, 1, 61394)"
            ]
          },
          "metadata": {
            "tags": []
          },
          "execution_count": 31
        }
      ]
    },
    {
      "metadata": {
        "id": "ZBOAoGL2mdov",
        "colab_type": "text"
      },
      "cell_type": "markdown",
      "source": [
        "# Building of CNN model"
      ]
    },
    {
      "metadata": {
        "id": "G9AQyqhQmbEW",
        "colab_type": "code",
        "outputId": "82f47481-a422-448e-b512-c52c1ceb74b4",
        "colab": {
          "base_uri": "https://localhost:8080/",
          "height": 34
        }
      },
      "cell_type": "code",
      "source": [
        "input_shape = X_train.shape[1:]  \n",
        "input_shape"
      ],
      "execution_count": 0,
      "outputs": [
        {
          "output_type": "execute_result",
          "data": {
            "text/plain": [
              "(1, 61394)"
            ]
          },
          "metadata": {
            "tags": []
          },
          "execution_count": 32
        }
      ]
    },
    {
      "metadata": {
        "id": "GQTx7iGQmhCF",
        "colab_type": "code",
        "colab": {}
      },
      "cell_type": "code",
      "source": [
        "model = Sequential()\n",
        "model.add(Melspectrogram(n_dft=1024, n_hop=512, input_shape=input_shape, return_decibel_melgram=True, name='melgram'))\n",
        "model.add(Normalization2D(str_axis='freq'))\n",
        "\n",
        "# Layer 1\n",
        "model.add(Conv2D(32, (3, 3), activation='relu'))\n",
        "# model.add(BatchNormalization())\n",
        "model.add(MaxPooling2D(pool_size=(2, 2))) \n",
        "\n",
        "# Layer 2\n",
        "model.add(Conv2D(32, (3, 3), activation='relu'))\n",
        "# model.add(BatchNormalization())\n",
        "model.add(MaxPooling2D(pool_size=(2, 2))) \n",
        "model.add(Flatten()) \n",
        "\n",
        "model.add(Dense(100, activation='relu')) \n",
        "# model.add(BatchNormalization())\n",
        "model.add(Dense(50,activation='sigmoid'))\n",
        "\n",
        "model.compile(loss='binary_crossentropy' , optimizer='sgd' , metrics=['accuracy'])"
      ],
      "execution_count": 0,
      "outputs": []
    },
    {
      "metadata": {
        "id": "B0LOS1yvmuaV",
        "colab_type": "code",
        "outputId": "7a5703f0-e728-48e8-afb4-c4c67fb582c6",
        "colab": {
          "base_uri": "https://localhost:8080/",
          "height": 461
        }
      },
      "cell_type": "code",
      "source": [
        "model.summary()"
      ],
      "execution_count": 0,
      "outputs": [
        {
          "output_type": "stream",
          "text": [
            "_________________________________________________________________\n",
            "Layer (type)                 Output Shape              Param #   \n",
            "=================================================================\n",
            "melgram (Melspectrogram)     (None, 128, 120, 1)       1116288   \n",
            "_________________________________________________________________\n",
            "normalization2d_1 (Normaliza (None, 128, 120, 1)       0         \n",
            "_________________________________________________________________\n",
            "conv2d_1 (Conv2D)            (None, 126, 118, 32)      320       \n",
            "_________________________________________________________________\n",
            "max_pooling2d_1 (MaxPooling2 (None, 63, 59, 32)        0         \n",
            "_________________________________________________________________\n",
            "conv2d_2 (Conv2D)            (None, 61, 57, 32)        9248      \n",
            "_________________________________________________________________\n",
            "max_pooling2d_2 (MaxPooling2 (None, 30, 28, 32)        0         \n",
            "_________________________________________________________________\n",
            "flatten_1 (Flatten)          (None, 26880)             0         \n",
            "_________________________________________________________________\n",
            "dense_1 (Dense)              (None, 100)               2688100   \n",
            "_________________________________________________________________\n",
            "dense_2 (Dense)              (None, 50)                5050      \n",
            "=================================================================\n",
            "Total params: 3,819,006\n",
            "Trainable params: 2,702,718\n",
            "Non-trainable params: 1,116,288\n",
            "_________________________________________________________________\n"
          ],
          "name": "stdout"
        }
      ]
    },
    {
      "metadata": {
        "id": "o_XXfY-emyvA",
        "colab_type": "text"
      },
      "cell_type": "markdown",
      "source": [
        "# Training of Model and checking Probabilistic Accuracy"
      ]
    },
    {
      "metadata": {
        "id": "AFuNyptcmv4z",
        "colab_type": "code",
        "outputId": "a889f4ce-3d77-4117-c416-19cde4ff7e5b",
        "colab": {
          "base_uri": "https://localhost:8080/",
          "height": 417
        }
      },
      "cell_type": "code",
      "source": [
        "model.fit(X_train, y_train, validation_data=(X_test, y_test), batch_size=32, epochs=10)"
      ],
      "execution_count": 0,
      "outputs": [
        {
          "output_type": "stream",
          "text": [
            "Train on 13000 samples, validate on 3250 samples\n",
            "Epoch 1/10\n",
            "13000/13000 [==============================] - 21s 2ms/step - loss: 0.2452 - acc: 0.9276 - val_loss: 0.1822 - val_acc: 0.9473\n",
            "Epoch 2/10\n",
            "13000/13000 [==============================] - 17s 1ms/step - loss: 0.1817 - acc: 0.9463 - val_loss: 0.1769 - val_acc: 0.9473\n",
            "Epoch 3/10\n",
            "13000/13000 [==============================] - 17s 1ms/step - loss: 0.1778 - acc: 0.9464 - val_loss: 0.1737 - val_acc: 0.9474\n",
            "Epoch 4/10\n",
            "13000/13000 [==============================] - 17s 1ms/step - loss: 0.1750 - acc: 0.9464 - val_loss: 0.1718 - val_acc: 0.9476\n",
            "Epoch 5/10\n",
            "13000/13000 [==============================] - 17s 1ms/step - loss: 0.1732 - acc: 0.9466 - val_loss: 0.1704 - val_acc: 0.9475\n",
            "Epoch 6/10\n",
            "13000/13000 [==============================] - 17s 1ms/step - loss: 0.1720 - acc: 0.9466 - val_loss: 0.1692 - val_acc: 0.9478\n",
            "Epoch 7/10\n",
            "13000/13000 [==============================] - 17s 1ms/step - loss: 0.1706 - acc: 0.9468 - val_loss: 0.1683 - val_acc: 0.9477\n",
            "Epoch 8/10\n",
            "13000/13000 [==============================] - 17s 1ms/step - loss: 0.1698 - acc: 0.9469 - val_loss: 0.1674 - val_acc: 0.9479\n",
            "Epoch 9/10\n",
            "13000/13000 [==============================] - 17s 1ms/step - loss: 0.1686 - acc: 0.9469 - val_loss: 0.1670 - val_acc: 0.9480\n",
            "Epoch 10/10\n",
            "13000/13000 [==============================] - 17s 1ms/step - loss: 0.1679 - acc: 0.9470 - val_loss: 0.1660 - val_acc: 0.9480\n"
          ],
          "name": "stdout"
        },
        {
          "output_type": "execute_result",
          "data": {
            "text/plain": [
              "<keras.callbacks.History at 0x7f988b4902e8>"
            ]
          },
          "metadata": {
            "tags": []
          },
          "execution_count": 55
        }
      ]
    },
    {
      "metadata": {
        "id": "oG5uyNeVm8Vp",
        "colab_type": "text"
      },
      "cell_type": "markdown",
      "source": [
        "# Checking Accuracy on More Relevant Metrics like AUC"
      ]
    },
    {
      "metadata": {
        "id": "N8VrLFMgm68p",
        "colab_type": "code",
        "colab": {}
      },
      "cell_type": "code",
      "source": [
        "from sklearn.metrics import roc_auc_score\n",
        "from keras.callbacks import Callback"
      ],
      "execution_count": 0,
      "outputs": []
    },
    {
      "metadata": {
        "id": "PyyP704syFVk",
        "colab_type": "code",
        "colab": {}
      },
      "cell_type": "code",
      "source": [
        "class roc_callback(Callback):\n",
        "    def __init__(self,training_data,validation_data):\n",
        "        self.x = training_data[0]\n",
        "        self.y = training_data[1]\n",
        "        self.x_val = validation_data[0]\n",
        "        self.y_val = validation_data[1]\n",
        "\n",
        "\n",
        "    def on_train_begin(self, logs={}):\n",
        "        return\n",
        "\n",
        "    def on_train_end(self, logs={}):\n",
        "        return\n",
        "\n",
        "    def on_epoch_begin(self, epoch, logs={}):\n",
        "        return\n",
        "\n",
        "    def on_epoch_end(self, epoch, logs={}):\n",
        "        y_pred = self.model.predict(self.x)\n",
        "        roc = roc_auc_score(self.y, y_pred)\n",
        "        y_pred_val = self.model.predict(self.x_val)\n",
        "        roc_val = roc_auc_score(self.y_val, y_pred_val)\n",
        "        print('\\rroc-auc: %s - roc-auc_val: %s' % (str(round(roc,4)),str(round(roc_val,4))),end=100*' '+'\\n')\n",
        "        return\n",
        "\n",
        "    def on_batch_begin(self, batch, logs={}):\n",
        "        return\n",
        "\n",
        "    def on_batch_end(self, batch, logs={}):\n",
        "        return"
      ],
      "execution_count": 0,
      "outputs": []
    },
    {
      "metadata": {
        "id": "xjeJNL5UyJ8r",
        "colab_type": "code",
        "outputId": "856fc5cd-08cb-46bc-c40f-9997e2ce83dc",
        "colab": {
          "base_uri": "https://localhost:8080/",
          "height": 585
        }
      },
      "cell_type": "code",
      "source": [
        "model.fit(X_train, y_train, validation_data=(X_test, y_test), \n",
        "          callbacks=[roc_callback(training_data=(X_train, y_train),validation_data=(X_test, y_test))],\n",
        "         batch_size=32, epochs=10)"
      ],
      "execution_count": 0,
      "outputs": [
        {
          "output_type": "stream",
          "text": [
            "Train on 13000 samples, validate on 3250 samples\n",
            "Epoch 1/10\n",
            "13000/13000 [==============================] - 20s 2ms/step - loss: 0.2523 - acc: 0.9227 - val_loss: 0.1840 - val_acc: 0.9473\n",
            "roc-auc: 0.5885 - roc-auc_val: 0.5947                                                                                                    \n",
            "Epoch 2/10\n",
            "13000/13000 [==============================] - 15s 1ms/step - loss: 0.1840 - acc: 0.9463 - val_loss: 0.1788 - val_acc: 0.9474\n",
            "roc-auc: 0.6329 - roc-auc_val: 0.6384                                                                                                    \n",
            "Epoch 3/10\n",
            "13000/13000 [==============================] - 15s 1ms/step - loss: 0.1798 - acc: 0.9463 - val_loss: 0.1754 - val_acc: 0.9474\n",
            "roc-auc: 0.6617 - roc-auc_val: 0.6676                                                                                                    \n",
            "Epoch 4/10\n",
            "13000/13000 [==============================] - 16s 1ms/step - loss: 0.1769 - acc: 0.9464 - val_loss: 0.1733 - val_acc: 0.9474\n",
            "roc-auc: 0.6804 - roc-auc_val: 0.6847                                                                                                    \n",
            "Epoch 5/10\n",
            "13000/13000 [==============================] - 16s 1ms/step - loss: 0.1748 - acc: 0.9464 - val_loss: 0.1724 - val_acc: 0.9476\n",
            "roc-auc: 0.6981 - roc-auc_val: 0.7004                                                                                                    \n",
            "Epoch 6/10\n",
            "13000/13000 [==============================] - 16s 1ms/step - loss: 0.1730 - acc: 0.9466 - val_loss: 0.1700 - val_acc: 0.9475\n",
            "roc-auc: 0.7082 - roc-auc_val: 0.7097                                                                                                    \n",
            "Epoch 7/10\n",
            "13000/13000 [==============================] - 15s 1ms/step - loss: 0.1717 - acc: 0.9466 - val_loss: 0.1692 - val_acc: 0.9476\n",
            "roc-auc: 0.7192 - roc-auc_val: 0.7199                                                                                                    \n",
            "Epoch 8/10\n",
            "13000/13000 [==============================] - 15s 1ms/step - loss: 0.1705 - acc: 0.9467 - val_loss: 0.1683 - val_acc: 0.9477\n",
            "roc-auc: 0.7271 - roc-auc_val: 0.7271                                                                                                    \n",
            "Epoch 9/10\n",
            "13000/13000 [==============================] - 15s 1ms/step - loss: 0.1692 - acc: 0.9467 - val_loss: 0.1676 - val_acc: 0.9475\n",
            "roc-auc: 0.7342 - roc-auc_val: 0.7329                                                                                                    \n",
            "Epoch 10/10\n",
            "13000/13000 [==============================] - 15s 1ms/step - loss: 0.1684 - acc: 0.9469 - val_loss: 0.1670 - val_acc: 0.9476\n",
            "roc-auc: 0.7411 - roc-auc_val: 0.7393                                                                                                    \n"
          ],
          "name": "stdout"
        },
        {
          "output_type": "execute_result",
          "data": {
            "text/plain": [
              "<keras.callbacks.History at 0x7f1c83bb47b8>"
            ]
          },
          "metadata": {
            "tags": []
          },
          "execution_count": 37
        }
      ]
    },
    {
      "metadata": {
        "id": "gWiH-9Cg1DnD",
        "colab_type": "text"
      },
      "cell_type": "markdown",
      "source": [
        "# Model 2"
      ]
    },
    {
      "metadata": {
        "id": "IfZYz0HRyVWL",
        "colab_type": "code",
        "colab": {}
      },
      "cell_type": "code",
      "source": [
        "model2 = Sequential()\n",
        "model2.add(Melspectrogram(n_dft=1024, n_hop=512, input_shape=input_shape, return_decibel_melgram=True, name='melgram'))\n",
        "model2.add(Normalization2D(str_axis='freq'))\n",
        "\n",
        "# Layer 1\n",
        "model2.add(Conv2D(32, (3, 3), activation='relu'))\n",
        "# model.add(BatchNormalization())\n",
        "model2.add(MaxPooling2D(pool_size=(2, 2))) \n",
        "\n",
        "# Layer 2\n",
        "model2.add(Conv2D(32, (3, 3), activation='relu'))\n",
        "# model.add(BatchNormalization())\n",
        "model2.add(MaxPooling2D(pool_size=(2, 2))) \n",
        "\n",
        "# Layer 3\n",
        "model2.add(Conv2D(32, (3, 3), activation='relu'))\n",
        "# model.add(BatchNormalization())\n",
        "model2.add(MaxPooling2D(pool_size=(2, 2)))\n",
        "model2.add(Flatten()) \n",
        "\n",
        "model2.add(Dense(100, activation='relu')) \n",
        "# model.add(BatchNormalization())\n",
        "model2.add(Dense(50,activation='sigmoid'))\n",
        "\n",
        "model2.compile(loss='binary_crossentropy' , optimizer='sgd' , metrics=['accuracy'])"
      ],
      "execution_count": 0,
      "outputs": []
    },
    {
      "metadata": {
        "id": "0UjitLZM1PFN",
        "colab_type": "code",
        "outputId": "506dc1aa-8d2b-4150-921a-34410627f1c7",
        "colab": {
          "base_uri": "https://localhost:8080/",
          "height": 510
        }
      },
      "cell_type": "code",
      "source": [
        "model2.summary()"
      ],
      "execution_count": 0,
      "outputs": [
        {
          "output_type": "stream",
          "text": [
            "_________________________________________________________________\n",
            "Layer (type)                 Output Shape              Param #   \n",
            "=================================================================\n",
            "melgram (Melspectrogram)     (None, 128, 120, 1)       1116288   \n",
            "_________________________________________________________________\n",
            "normalization2d_4 (Normaliza (None, 128, 120, 1)       0         \n",
            "_________________________________________________________________\n",
            "conv2d_8 (Conv2D)            (None, 126, 118, 32)      320       \n",
            "_________________________________________________________________\n",
            "max_pooling2d_8 (MaxPooling2 (None, 63, 59, 32)        0         \n",
            "_________________________________________________________________\n",
            "conv2d_9 (Conv2D)            (None, 61, 57, 32)        9248      \n",
            "_________________________________________________________________\n",
            "max_pooling2d_9 (MaxPooling2 (None, 30, 28, 32)        0         \n",
            "_________________________________________________________________\n",
            "conv2d_10 (Conv2D)           (None, 28, 26, 32)        9248      \n",
            "_________________________________________________________________\n",
            "max_pooling2d_10 (MaxPooling (None, 14, 13, 32)        0         \n",
            "_________________________________________________________________\n",
            "flatten_4 (Flatten)          (None, 5824)              0         \n",
            "_________________________________________________________________\n",
            "dense_7 (Dense)              (None, 100)               582500    \n",
            "_________________________________________________________________\n",
            "dense_8 (Dense)              (None, 50)                5050      \n",
            "=================================================================\n",
            "Total params: 1,722,654\n",
            "Trainable params: 606,366\n",
            "Non-trainable params: 1,116,288\n",
            "_________________________________________________________________\n"
          ],
          "name": "stdout"
        }
      ]
    },
    {
      "metadata": {
        "id": "oWhUJHUW1TDZ",
        "colab_type": "code",
        "outputId": "c052df96-fff3-4d7d-a179-af1f769a4dd5",
        "colab": {
          "base_uri": "https://localhost:8080/",
          "height": 561
        }
      },
      "cell_type": "code",
      "source": [
        "model2.fit(X_train, y_train, validation_data=(X_test, y_test), \n",
        "          callbacks=[roc_callback(training_data=(X_train, y_train),validation_data=(X_test, y_test))],\n",
        "         batch_size=32, epochs=10)"
      ],
      "execution_count": 0,
      "outputs": [
        {
          "output_type": "stream",
          "text": [
            "Train on 13000 samples, validate on 3250 samples\n",
            "Epoch 1/10\n",
            "13000/13000 [==============================] - 16s 1ms/step - loss: 0.3031 - acc: 0.8972 - val_loss: 0.1935 - val_acc: 0.9473\n",
            "roc-auc: 0.5256 - roc-auc_val: 0.5351                                                                                                    \n",
            "Epoch 2/10\n",
            "13000/13000 [==============================] - 16s 1ms/step - loss: 0.1917 - acc: 0.9463 - val_loss: 0.1850 - val_acc: 0.9473\n",
            "roc-auc: 0.5784 - roc-auc_val: 0.5867                                                                                                    \n",
            "Epoch 3/10\n",
            "13000/13000 [==============================] - 16s 1ms/step - loss: 0.1857 - acc: 0.9463 - val_loss: 0.1806 - val_acc: 0.9473\n",
            "roc-auc: 0.6146 - roc-auc_val: 0.6218                                                                                                    \n",
            "Epoch 4/10\n",
            "13000/13000 [==============================] - 16s 1ms/step - loss: 0.1818 - acc: 0.9463 - val_loss: 0.1777 - val_acc: 0.9473\n",
            "roc-auc: 0.6417 - roc-auc_val: 0.6469                                                                                                    \n",
            "Epoch 5/10\n",
            "13000/13000 [==============================] - 16s 1ms/step - loss: 0.1792 - acc: 0.9463 - val_loss: 0.1755 - val_acc: 0.9474\n",
            "roc-auc: 0.6657 - roc-auc_val: 0.6682                                                                                                    \n",
            "Epoch 6/10\n",
            "13000/13000 [==============================] - 16s 1ms/step - loss: 0.1771 - acc: 0.9464 - val_loss: 0.1739 - val_acc: 0.9474\n",
            "roc-auc: 0.6852 - roc-auc_val: 0.6856                                                                                                    \n",
            "Epoch 7/10\n",
            "13000/13000 [==============================] - 16s 1ms/step - loss: 0.1755 - acc: 0.9464 - val_loss: 0.1726 - val_acc: 0.9475\n",
            "roc-auc: 0.6982 - roc-auc_val: 0.6982                                                                                                    \n",
            "Epoch 8/10\n",
            "13000/13000 [==============================] - 16s 1ms/step - loss: 0.1742 - acc: 0.9465 - val_loss: 0.1714 - val_acc: 0.9476\n",
            "roc-auc: 0.7072 - roc-auc_val: 0.7071                                                                                                    \n",
            "Epoch 9/10\n",
            "13000/13000 [==============================] - 16s 1ms/step - loss: 0.1732 - acc: 0.9466 - val_loss: 0.1708 - val_acc: 0.9476\n",
            "roc-auc: 0.7132 - roc-auc_val: 0.7131                                                                                                    \n",
            "Epoch 10/10\n",
            "13000/13000 [==============================] - 16s 1ms/step - loss: 0.1726 - acc: 0.9466 - val_loss: 0.1699 - val_acc: 0.9476\n",
            "roc-auc: 0.7198 - roc-auc_val: 0.7197                                                                                                    \n"
          ],
          "name": "stdout"
        },
        {
          "output_type": "execute_result",
          "data": {
            "text/plain": [
              "<keras.callbacks.History at 0x7f1c83b55a20>"
            ]
          },
          "metadata": {
            "tags": []
          },
          "execution_count": 44
        }
      ]
    },
    {
      "metadata": {
        "id": "mvLBwGYS3Lrn",
        "colab_type": "text"
      },
      "cell_type": "markdown",
      "source": [
        "# Model 3"
      ]
    },
    {
      "metadata": {
        "id": "oB9nCLHN1nvL",
        "colab_type": "code",
        "colab": {}
      },
      "cell_type": "code",
      "source": [
        "model3 = Sequential()\n",
        "model3.add(Melspectrogram(n_dft=1024, n_hop=512, input_shape=input_shape, return_decibel_melgram=True, name='melgram'))\n",
        "model3.add(Normalization2D(str_axis='freq'))\n",
        "\n",
        "# Layer 1\n",
        "model3.add(Conv2D(32, (3, 3), activation='relu'))\n",
        "# model.add(BatchNormalization())\n",
        "model3.add(MaxPooling2D(pool_size=(2, 2)))\n",
        "model3.add(Dropout(0.5))\n",
        "\n",
        "# Layer 2\n",
        "model3.add(Conv2D(32, (3, 3), activation='relu'))\n",
        "# model.add(BatchNormalization())\n",
        "model3.add(MaxPooling2D(pool_size=(2, 2)))\n",
        "model3.add(Dropout(0.5))\n",
        "\n",
        "# Layer 3\n",
        "model3.add(Conv2D(32, (3, 3), activation='relu'))\n",
        "# model.add(BatchNormalization())\n",
        "model3.add(MaxPooling2D(pool_size=(2, 2)))\n",
        "model3.add(Flatten()) \n",
        "model3.add(Dropout(0.5))\n",
        "\n",
        "model3.add(Dense(100, activation='relu')) \n",
        "# model.add(BatchNormalization())\n",
        "model3.add(Dense(50,activation='sigmoid'))\n",
        "\n",
        "model3.compile(loss='binary_crossentropy' , optimizer='sgd' , metrics=['accuracy'])"
      ],
      "execution_count": 0,
      "outputs": []
    },
    {
      "metadata": {
        "id": "1Bnl5m0K3Zi6",
        "colab_type": "code",
        "outputId": "4456c38b-66a8-48b8-c2b0-8e0decd727d4",
        "colab": {
          "base_uri": "https://localhost:8080/",
          "height": 612
        }
      },
      "cell_type": "code",
      "source": [
        "model3.summary()"
      ],
      "execution_count": 0,
      "outputs": [
        {
          "output_type": "stream",
          "text": [
            "_________________________________________________________________\n",
            "Layer (type)                 Output Shape              Param #   \n",
            "=================================================================\n",
            "melgram (Melspectrogram)     (None, 128, 120, 1)       1116288   \n",
            "_________________________________________________________________\n",
            "normalization2d_6 (Normaliza (None, 128, 120, 1)       0         \n",
            "_________________________________________________________________\n",
            "conv2d_14 (Conv2D)           (None, 126, 118, 32)      320       \n",
            "_________________________________________________________________\n",
            "max_pooling2d_14 (MaxPooling (None, 63, 59, 32)        0         \n",
            "_________________________________________________________________\n",
            "dropout_1 (Dropout)          (None, 63, 59, 32)        0         \n",
            "_________________________________________________________________\n",
            "conv2d_15 (Conv2D)           (None, 61, 57, 32)        9248      \n",
            "_________________________________________________________________\n",
            "max_pooling2d_15 (MaxPooling (None, 30, 28, 32)        0         \n",
            "_________________________________________________________________\n",
            "dropout_2 (Dropout)          (None, 30, 28, 32)        0         \n",
            "_________________________________________________________________\n",
            "conv2d_16 (Conv2D)           (None, 28, 26, 32)        9248      \n",
            "_________________________________________________________________\n",
            "max_pooling2d_16 (MaxPooling (None, 14, 13, 32)        0         \n",
            "_________________________________________________________________\n",
            "flatten_6 (Flatten)          (None, 5824)              0         \n",
            "_________________________________________________________________\n",
            "dropout_3 (Dropout)          (None, 5824)              0         \n",
            "_________________________________________________________________\n",
            "dense_11 (Dense)             (None, 100)               582500    \n",
            "_________________________________________________________________\n",
            "dense_12 (Dense)             (None, 50)                5050      \n",
            "=================================================================\n",
            "Total params: 1,722,654\n",
            "Trainable params: 606,366\n",
            "Non-trainable params: 1,116,288\n",
            "_________________________________________________________________\n"
          ],
          "name": "stdout"
        }
      ]
    },
    {
      "metadata": {
        "id": "GFf4-Zdz3a6Q",
        "colab_type": "code",
        "outputId": "a4f68aef-69cb-40e0-ef10-72496f29cd19",
        "colab": {
          "base_uri": "https://localhost:8080/",
          "height": 561
        }
      },
      "cell_type": "code",
      "source": [
        "model3.fit(X_train, y_train, validation_data=(X_test, y_test), \n",
        "          callbacks=[roc_callback(training_data=(X_train, y_train),validation_data=(X_test, y_test))],\n",
        "         batch_size=32, epochs=10)"
      ],
      "execution_count": 0,
      "outputs": [
        {
          "output_type": "stream",
          "text": [
            "Train on 13000 samples, validate on 3250 samples\n",
            "Epoch 1/10\n",
            "13000/13000 [==============================] - 18s 1ms/step - loss: 0.2798 - acc: 0.9053 - val_loss: 0.3236 - val_acc: 0.9473\n",
            "roc-auc: 0.5454 - roc-auc_val: 0.5439                                                                                                    \n",
            "Epoch 2/10\n",
            "13000/13000 [==============================] - 17s 1ms/step - loss: 0.2031 - acc: 0.9461 - val_loss: 0.3188 - val_acc: 0.9473\n",
            "roc-auc: 0.5686 - roc-auc_val: 0.5662                                                                                                    \n",
            "Epoch 3/10\n",
            "13000/13000 [==============================] - 17s 1ms/step - loss: 0.1967 - acc: 0.9462 - val_loss: 0.3183 - val_acc: 0.9466\n",
            "roc-auc: 0.5829 - roc-auc_val: 0.5805                                                                                                    \n",
            "Epoch 4/10\n",
            "13000/13000 [==============================] - 17s 1ms/step - loss: 0.1930 - acc: 0.9462 - val_loss: 0.3162 - val_acc: 0.9465\n",
            "roc-auc: 0.5953 - roc-auc_val: 0.5936                                                                                                    \n",
            "Epoch 5/10\n",
            "13000/13000 [==============================] - 17s 1ms/step - loss: 0.1900 - acc: 0.9461 - val_loss: 0.3115 - val_acc: 0.9464\n",
            "roc-auc: 0.609 - roc-auc_val: 0.6083                                                                                                    \n",
            "Epoch 6/10\n",
            "13000/13000 [==============================] - 17s 1ms/step - loss: 0.1875 - acc: 0.9462 - val_loss: 0.3114 - val_acc: 0.9463\n",
            "roc-auc: 0.6236 - roc-auc_val: 0.6238                                                                                                    \n",
            "Epoch 7/10\n",
            "13000/13000 [==============================] - 17s 1ms/step - loss: 0.1862 - acc: 0.9461 - val_loss: 0.3040 - val_acc: 0.9458\n",
            "roc-auc: 0.634 - roc-auc_val: 0.6345                                                                                                    \n",
            "Epoch 8/10\n",
            "13000/13000 [==============================] - 17s 1ms/step - loss: 0.1844 - acc: 0.9461 - val_loss: 0.3029 - val_acc: 0.9456\n",
            "roc-auc: 0.6417 - roc-auc_val: 0.6422                                                                                                    \n",
            "Epoch 9/10\n",
            "13000/13000 [==============================] - 17s 1ms/step - loss: 0.1832 - acc: 0.9461 - val_loss: 0.3019 - val_acc: 0.9449\n",
            "roc-auc: 0.6492 - roc-auc_val: 0.6495                                                                                                    \n",
            "Epoch 10/10\n",
            "13000/13000 [==============================] - 17s 1ms/step - loss: 0.1822 - acc: 0.9461 - val_loss: 0.3039 - val_acc: 0.9448\n",
            "roc-auc: 0.6537 - roc-auc_val: 0.6534                                                                                                    \n"
          ],
          "name": "stdout"
        },
        {
          "output_type": "execute_result",
          "data": {
            "text/plain": [
              "<keras.callbacks.History at 0x7f1c5837db00>"
            ]
          },
          "metadata": {
            "tags": []
          },
          "execution_count": 49
        }
      ]
    },
    {
      "metadata": {
        "id": "GENFO75b3plJ",
        "colab_type": "code",
        "colab": {}
      },
      "cell_type": "code",
      "source": [
        ""
      ],
      "execution_count": 0,
      "outputs": []
    }
  ]
}