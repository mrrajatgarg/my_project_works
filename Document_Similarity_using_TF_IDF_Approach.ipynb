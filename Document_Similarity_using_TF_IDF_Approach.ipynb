{
  "nbformat": 4,
  "nbformat_minor": 0,
  "metadata": {
    "colab": {
      "name": "Document_Similarity_using_TF-IDF_Approach.ipynb",
      "version": "0.3.2",
      "provenance": [],
      "include_colab_link": true
    },
    "kernelspec": {
      "name": "python3",
      "display_name": "Python 3"
    },
    "accelerator": "GPU"
  },
  "cells": [
    {
      "cell_type": "markdown",
      "metadata": {
        "id": "view-in-github",
        "colab_type": "text"
      },
      "source": [
        "<a href=\"https://colab.research.google.com/github/mrrajatgarg/my_project_works/blob/master/Document_Similarity_using_TF_IDF_Approach.ipynb\" target=\"_parent\"><img src=\"https://colab.research.google.com/assets/colab-badge.svg\" alt=\"Open In Colab\"/></a>"
      ]
    },
    {
      "metadata": {
        "id": "wwz3nWAGuv0Z",
        "colab_type": "text"
      },
      "cell_type": "markdown",
      "source": [
        "# Document Similarity"
      ]
    },
    {
      "metadata": {
        "id": "04NF7NsSuyy8",
        "colab_type": "text"
      },
      "cell_type": "markdown",
      "source": [
        "Information Retrieval systems are used in many applications including Google Search. Document Similarity is about comparing two documents and determining how similar they are based on their semantic meaning. Applications like these are performing very good thanks to advancement of deep learning and natural language processing algorithm.\n",
        "\n",
        "Following algorithms and research papers and studied and implemented :-\n",
        "\n",
        "Word2Vec\n",
        "\n",
        "Doc2Vec\n",
        "\n",
        "Tf-idf"
      ]
    },
    {
      "metadata": {
        "id": "SztWoKLfveZF",
        "colab_type": "text"
      },
      "cell_type": "markdown",
      "source": [
        "**Results**\n",
        "\n",
        "Input Documents:\n",
        "\n",
        "documents = [\n",
        "                  \"Machine Learning and Deep Learning will change the world!\",\n",
        "\n",
        "             \"Machine Learning and Deep Learning has the potential to change the world!\",\n",
        "             \n",
        "             \"Blockchain can change the world in future!\"]\n",
        "             \n",
        " "
      ]
    },
    {
      "metadata": {
        "id": "8FMl7ZYSvraU",
        "colab_type": "text"
      },
      "cell_type": "markdown",
      "source": [
        "Results:\n",
        "\n",
        "SImilarity between Document 1 and Document 2: 72%\n",
        "\n",
        "Similarity between Document 1 and Document 3: 18%"
      ]
    },
    {
      "metadata": {
        "id": "p7b5fKen3snh",
        "colab_type": "code",
        "colab": {}
      },
      "cell_type": "code",
      "source": [
        "from sklearn.feature_extraction.text import TfidfVectorizer"
      ],
      "execution_count": 0,
      "outputs": []
    },
    {
      "metadata": {
        "id": "JcGwR7cY3vm8",
        "colab_type": "code",
        "colab": {}
      },
      "cell_type": "code",
      "source": [
        "def tfidf_calculation(documents) :\n",
        "    vectorizer = TfidfVectorizer()\n",
        "    vectorizer.fit(documents)\n",
        "    response = vectorizer.transform(documents)\n",
        "    vectors = response.toarray()\n",
        "    return vectors"
      ],
      "execution_count": 0,
      "outputs": []
    },
    {
      "metadata": {
        "id": "lB4e39UB30pH",
        "colab_type": "code",
        "colab": {}
      },
      "cell_type": "code",
      "source": [
        "import nltk"
      ],
      "execution_count": 0,
      "outputs": []
    },
    {
      "metadata": {
        "id": "nEDmN9jY36HM",
        "colab_type": "code",
        "colab": {}
      },
      "cell_type": "code",
      "source": [
        "def document_similarity(documents) :\n",
        "    vectors = tfidf_calculation(documents)\n",
        "    base_vector = vectors[0]\n",
        "    length = len(vectors)\n",
        "    similarity = []\n",
        "    i=1\n",
        "    while i < length :\n",
        "        vector = vectors[i]\n",
        "        this_similarity = 1 - nltk.cluster.cosine_distance(base_vector, vector)\n",
        "        similarity.append(this_similarity)\n",
        "        i += 1\n",
        "    return similarity"
      ],
      "execution_count": 0,
      "outputs": []
    },
    {
      "metadata": {
        "id": "E4QxfgXZ37md",
        "colab_type": "code",
        "colab": {}
      },
      "cell_type": "code",
      "source": [
        "documents = [\"Machine Learning and Deep Learning will change the world!\",\n",
        "             \"Machine Learning and Deep Learning has the potential to change the world!\",\n",
        "             \"Blockchain can change the world in future!\"]"
      ],
      "execution_count": 0,
      "outputs": []
    },
    {
      "metadata": {
        "id": "ZCzXt0h64PqD",
        "colab_type": "code",
        "colab": {
          "base_uri": "https://localhost:8080/",
          "height": 34
        },
        "outputId": "fbcd9c39-2c5b-4c66-9ed4-53fa0568bbb7"
      },
      "cell_type": "code",
      "source": [
        "document_similarity(documents)"
      ],
      "execution_count": 19,
      "outputs": [
        {
          "output_type": "execute_result",
          "data": {
            "text/plain": [
              "[0.7293145202162575, 0.1886864389730527]"
            ]
          },
          "metadata": {
            "tags": []
          },
          "execution_count": 19
        }
      ]
    },
    {
      "metadata": {
        "id": "1fFFPXaevSrc",
        "colab_type": "code",
        "colab": {}
      },
      "cell_type": "code",
      "source": [
        ""
      ],
      "execution_count": 0,
      "outputs": []
    }
  ]
}