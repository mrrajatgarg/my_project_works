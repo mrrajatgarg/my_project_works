{
  "nbformat": 4,
  "nbformat_minor": 0,
  "metadata": {
    "colab": {
      "name": "Google_Cloud_Platform_Machine_Learning_API.ipynb",
      "version": "0.3.2",
      "provenance": [],
      "collapsed_sections": [],
      "include_colab_link": true
    },
    "kernelspec": {
      "name": "python3",
      "display_name": "Python 3"
    },
    "accelerator": "GPU"
  },
  "cells": [
    {
      "cell_type": "markdown",
      "metadata": {
        "id": "view-in-github",
        "colab_type": "text"
      },
      "source": [
        "<a href=\"https://colab.research.google.com/github/mrrajatgarg/my_project_works/blob/master/Google_Cloud_Platform_Machine_Learning_API.ipynb\" target=\"_parent\"><img src=\"https://colab.research.google.com/assets/colab-badge.svg\" alt=\"Open In Colab\"/></a>"
      ]
    },
    {
      "metadata": {
        "id": "B1BYL7ykn-p-",
        "colab_type": "text"
      },
      "cell_type": "markdown",
      "source": [
        "# Using Google Cloud Platform Machine Learning API\n",
        "\n",
        "**1. Optical Character Recognizer (OCR)**\n",
        "\n",
        "**2. Speech to Text Conversion (ASR)**\n",
        "\n",
        "**3. Machine Translation**\n",
        "\n",
        "**4. Sentiment Analysis**"
      ]
    },
    {
      "metadata": {
        "id": "eJYw9l-uoqXf",
        "colab_type": "text"
      },
      "cell_type": "markdown",
      "source": [
        "**1. Optical Character Recognition (OCR)**\n",
        "\n",
        "The Vision API can detect and extract text from images.\n",
        "\n",
        "There are two annotation features that support optical character recognition:\n",
        "\n",
        "(A) TEXT_DETECTION detects and extracts text from any image. For example, a photograph might contain a street sign or traffic sign. The JSON includes the entire extracted string, as well as individual words, and their bounding boxes.\n",
        "\n",
        "example :\n",
        "\n",
        "![alt text](https://cloud.google.com/vision/docs/images/abbey_road.png)\n",
        "\n",
        "(B) DOCUMENT_TEXT_DETECTION also extracts text from an image, but the response is optimized for dense text and documents. The JSON includes page, block, paragraph, word, and break information.\n",
        "\n",
        "example :\n",
        "\n",
        "![alt text](https://cloud.google.com/vision/docs/images/document_text_highlighted.png)"
      ]
    },
    {
      "metadata": {
        "id": "PUpmDVLqpVwW",
        "colab_type": "text"
      },
      "cell_type": "markdown",
      "source": [
        "**Results of Optical Character Recognition (OCR)**"
      ]
    },
    {
      "metadata": {
        "id": "xw32fRRFpl5D",
        "colab_type": "text"
      },
      "cell_type": "markdown",
      "source": [
        "Input Image :\n",
        "\n",
        "![alt text](https://i.ibb.co/F42V313/poster.jpg)\n",
        "\n",
        "Ouptut text recognition from image:\n",
        "\n",
        "ROUTE\n",
        "\n",
        "ROADSIDE\n",
        "\n",
        "OO ATTRACTION\n",
        "\n",
        "1932 STANDARD OIL GAS STATION, ODELL, ILLINOIS\n",
        "\n",
        "This restoration is a project of the Route 66 Association of\n",
        "\n",
        "on the National Register of Historic Places."
      ]
    },
    {
      "metadata": {
        "id": "Ycib4bVwqf6h",
        "colab_type": "text"
      },
      "cell_type": "markdown",
      "source": [
        "Input Image:\n",
        "\n",
        "![alt text](https://i.ibb.co/rZVpZ2K/leadershi.jpg)\n",
        "\n",
        "Output text recognition from OCR :\n",
        "\n",
        "INDUSTRIAL MANAGEMENT ASSIGNMENT\n",
        "\n",
        "LEADERSHIP\n",
        "\n",
        "OJASVI ARORA\n",
        "\n",
        "15)230019\n",
        "\n",
        "Leadership is interpersonal influence Exercised in a situation\n",
        "\n",
        "and directed through the communication process towards\n",
        "\n",
        "the attainment of a specific goal or goals. Merce deadership\n",
        "\n",
        "is the process of influencing the members of the group\n",
        "\n",
        "with respect to good setting and goal achievement.\n",
        "\n",
        "for our purpose leadership may be dassified at 3 levels\n",
        "\n",
        "Top Managers - The Big Boss\n",
        "\n",
        "Middle Managers - Simply Boss\n",
        "\n",
        "Front Live Managers - Foremon and Supervisor\n",
        "\n",
        "All of them opcrate on different levels and have\n",
        "\n",
        "ditterent vespers Lilhex and duties having the same problemi\n",
        "\n",
        "of dealing with people and leading them.\n",
        "\n",
        "CHARACTERISTICS OF A LEADER\n",
        "\n",
        ". The leader is constantly interacting and commanding\n",
        "\n",
        "a part of his\n",
        "\n",
        ". The leader makes the organization\n",
        "\n",
        "self image\n",
        "\n",
        "The leaders personal goals, valeses and feelings are\n",
        "\n",
        "organizationally centered\n",
        "\n",
        "The leader handles supervisors as individuale\n",
        "\n",
        "The leader controls the transmission of important information\n",
        "\n",
        "The leader emphasis the present and\n",
        "\n",
        "The leader sete realistic goals."
      ]
    },
    {
      "metadata": {
        "id": "0hbKDF8hrMBb",
        "colab_type": "text"
      },
      "cell_type": "markdown",
      "source": [
        "**Speech to text Conversion (ASR)**\n",
        "\n",
        "Google Cloud Speech-to-Text enables developers to convert audio to text by applying powerful neural network models in an easy-to-use API. The API recognizes 120 languages and variants to support your global user base."
      ]
    },
    {
      "metadata": {
        "id": "gFpllXKCrzYZ",
        "colab_type": "text"
      },
      "cell_type": "markdown",
      "source": [
        "Results :\n",
        "\n",
        "![alt text](https://i.ibb.co/VmvB8Nh/speech-to-text.jpg\")\n",
        "\n"
      ]
    },
    {
      "metadata": {
        "id": "VLTWVJiKvEnY",
        "colab_type": "text"
      },
      "cell_type": "markdown",
      "source": [
        "** 3. Machine Translation**\n",
        "\n",
        "The Machine Translation API uses state-of-the-art deep learning algorithms to convert text from one language (say English) to another language (say hindi)"
      ]
    },
    {
      "metadata": {
        "id": "fTmGgqu0vq-v",
        "colab_type": "text"
      },
      "cell_type": "markdown",
      "source": [
        "**Results**\n",
        "\n",
        "![alt text](https://i.ibb.co/2ZGvmn0/machine-translation.jpg)\n"
      ]
    },
    {
      "metadata": {
        "id": "dWfcL08OwBVP",
        "colab_type": "text"
      },
      "cell_type": "markdown",
      "source": [
        "**4. Sentiment Analysis**\n",
        "\n",
        "Sentiment Analysis is about determining the opinion or feeling of a piece of text."
      ]
    },
    {
      "metadata": {
        "id": "uypzEsaewOHu",
        "colab_type": "text"
      },
      "cell_type": "markdown",
      "source": [
        "**Results**\n",
        "\n",
        "Input text 1: \"To succeed, you must have tremendous perseverance, tremendous will.\"\n",
        "\n",
        "Output Sentiment: POLARITY=1 MAGNITUDE=0.9 (This means that the algorithm detect the text as positive with a magnitude 0.9)\n",
        "\n",
        "\n",
        "\n",
        "Input text 2: \"It’s not that I’m so smart, it’s just that I stay with problems longer.\"\n",
        "\n",
        "Output Sentiment: POLARITY=-1 MAGNITUDE=0.5 (This means that the algorithm detect the text as negative with a magnitude of 0.5)\n",
        "\n"
      ]
    },
    {
      "metadata": {
        "id": "95G1QgKOfAAo",
        "colab_type": "code",
        "outputId": "e6bebbb0-dd5b-4c36-b7ed-14c0a1dcf411",
        "colab": {
          "base_uri": "https://localhost:8080/",
          "height": 34
        }
      },
      "cell_type": "code",
      "source": [
        "import getpass\n",
        "\n",
        "APIKEY = getpass.getpass()"
      ],
      "execution_count": 1,
      "outputs": [
        {
          "output_type": "stream",
          "text": [
            "··········\n"
          ],
          "name": "stdout"
        }
      ]
    },
    {
      "metadata": {
        "id": "_JRaiEWzxDZP",
        "colab_type": "text"
      },
      "cell_type": "markdown",
      "source": [
        "# Machine Translation"
      ]
    },
    {
      "metadata": {
        "id": "4L_BvkZXmhXi",
        "colab_type": "code",
        "outputId": "711df89d-1aca-4bf7-9928-555b9bcfc5b0",
        "colab": {
          "base_uri": "https://localhost:8080/",
          "height": 68
        }
      },
      "cell_type": "code",
      "source": [
        "# running Translate API\n",
        "from googleapiclient.discovery import build\n",
        "service = build('translate', 'v2', developerKey=APIKEY)\n",
        "\n",
        "# use the service\n",
        "inputs = ['is it really this easy?', 'amazing technology', 'wow']\n",
        "outputs = service.translations().list(source='en', target='hi', q=inputs).execute()\n",
        "# print outputs\n",
        "for input, output in zip(inputs, outputs['translations']):\n",
        "  print(u\"{0} -> {1}\".format(input, output['translatedText']))"
      ],
      "execution_count": 25,
      "outputs": [
        {
          "output_type": "stream",
          "text": [
            "is it really this easy? -> क्या यह वास्तव में इतना आसान है?\n",
            "amazing technology -> अद्भुत तकनीक\n",
            "wow -> वाह\n"
          ],
          "name": "stdout"
        }
      ]
    },
    {
      "metadata": {
        "id": "6AYniiZmmnj4",
        "colab_type": "code",
        "outputId": "1f4fd05e-726e-4bd9-bbe6-4c20ceb25aa3",
        "colab": {
          "base_uri": "https://localhost:8080/",
          "height": 68
        }
      },
      "cell_type": "code",
      "source": [
        "outputs = service.translations().list(source='en', target='gl', q=inputs).execute()\n",
        "# print outputs\n",
        "for input, output in zip(inputs, outputs['translations']):\n",
        "  print(u\"{0} -> {1}\".format(input, output['translatedText']))"
      ],
      "execution_count": 3,
      "outputs": [
        {
          "output_type": "stream",
          "text": [
            "is it really this easy? -> é realmente tan fácil?\n",
            "amazing technology -> tecnoloxía sorprendente\n",
            "wow -> wow\n"
          ],
          "name": "stdout"
        }
      ]
    },
    {
      "metadata": {
        "id": "f4QP4ZiexNeP",
        "colab_type": "text"
      },
      "cell_type": "markdown",
      "source": [
        "# Optical Character Recognition (OCR)"
      ]
    },
    {
      "metadata": {
        "id": "9pA2Zsi_myfh",
        "colab_type": "code",
        "outputId": "a31957a7-27b5-4680-cc4d-d60bc3d115b2",
        "colab": {
          "base_uri": "https://localhost:8080/",
          "height": 422
        }
      },
      "cell_type": "code",
      "source": [
        "import IPython.display\n",
        "\n",
        "IPython.display.Image(url=\"https://get.pxhere.com/photo/road-highway-advertising-travel-sign-community-usa-landmark-street-sign-attraction-historic-tourism-signage-road-sign-illinois-history-66-traffic-sign-route-66-mother-road-odell-644464.jpg\",\n",
        "                      width=600)"
      ],
      "execution_count": 7,
      "outputs": [
        {
          "output_type": "execute_result",
          "data": {
            "text/html": [
              "<img src=\"https://get.pxhere.com/photo/road-highway-advertising-travel-sign-community-usa-landmark-street-sign-attraction-historic-tourism-signage-road-sign-illinois-history-66-traffic-sign-route-66-mother-road-odell-644464.jpg\" width=\"600\"/>"
            ],
            "text/plain": [
              "<IPython.core.display.Image object>"
            ]
          },
          "metadata": {
            "tags": []
          },
          "execution_count": 7
        }
      ]
    },
    {
      "metadata": {
        "id": "qxLM6Cxgm17w",
        "colab_type": "code",
        "outputId": "1493704e-b497-4bee-a92a-9f8c92ad72c1",
        "colab": {
          "base_uri": "https://localhost:8080/",
          "height": 136
        }
      },
      "cell_type": "code",
      "source": [
        "IMAGE=\"https://get.pxhere.com/photo/road-highway-advertising-travel-sign-community-usa-landmark-street-sign-attraction-historic-tourism-signage-road-sign-illinois-history-66-traffic-sign-route-66-mother-road-odell-644464.jpg\"\n",
        "vservice = build('vision', 'v1', developerKey=APIKEY)\n",
        "request = vservice.images().annotate(body={\n",
        "        'requests': [{\n",
        "                'image': {\n",
        "                    'source': {\n",
        "                        'imageUri': IMAGE\n",
        "                    }\n",
        "                },\n",
        "                'features': [{\n",
        "                    'type': 'TEXT_DETECTION',\n",
        "                    'maxResults': 5,\n",
        "                }]\n",
        "            }],\n",
        "        })\n",
        "responses = request.execute(num_retries=5)\n",
        "print(responses['responses'][0]['textAnnotations'][0]['description'])"
      ],
      "execution_count": 8,
      "outputs": [
        {
          "output_type": "stream",
          "text": [
            "ROUTE\n",
            "ROADSIDE\n",
            "OO ATTRACTION\n",
            "1932 STANDARD OIL GAS STATION, ODELL, ILLINOIS\n",
            "This restoration is a project of the Route 66 Association of\n",
            "on the National Register of Historic Places.\n",
            "\n"
          ],
          "name": "stdout"
        }
      ]
    },
    {
      "metadata": {
        "id": "hjHf8AO8nZAv",
        "colab_type": "code",
        "outputId": "559cda1f-b56f-4adf-97c2-2f1d9b87737b",
        "colab": {
          "base_uri": "https://localhost:8080/",
          "height": 855
        }
      },
      "cell_type": "code",
      "source": [
        "IPython.display.Image(url=\"https://i.ibb.co/rZVpZ2K/leadershi.jpg\",\n",
        "                      width=600)\n",
        "\n",
        "#gs://scoobie_earthquakes/HenryVII_863arabic_0202.jpg"
      ],
      "execution_count": 20,
      "outputs": [
        {
          "output_type": "execute_result",
          "data": {
            "text/html": [
              "<img src=\"https://i.ibb.co/rZVpZ2K/leadershi.jpg\" width=\"600\"/>"
            ],
            "text/plain": [
              "<IPython.core.display.Image object>"
            ]
          },
          "metadata": {
            "tags": []
          },
          "execution_count": 20
        }
      ]
    },
    {
      "metadata": {
        "id": "MC22iLXam5kJ",
        "colab_type": "code",
        "outputId": "dedf3a20-7296-419a-d87f-f22eafb50256",
        "colab": {
          "base_uri": "https://localhost:8080/",
          "height": 493
        }
      },
      "cell_type": "code",
      "source": [
        "IMAGE=\"https://i.ibb.co/rZVpZ2K/leadershi.jpg\"\n",
        "vservice = build('vision', 'v1', developerKey=APIKEY)\n",
        "request = vservice.images().annotate(body={\n",
        "        'requests': [{\n",
        "                'image': {\n",
        "                    'source': {\n",
        "                        'imageUri': IMAGE\n",
        "                    }\n",
        "                },\n",
        "                'features': [{\n",
        "                    'type': 'DOCUMENT_TEXT_DETECTION',\n",
        "                    'maxResults': 5,\n",
        "                }]\n",
        "            }],\n",
        "        })\n",
        "responses = request.execute(num_retries=5)\n",
        "#print(responses)\n",
        "print(responses['responses'][0]['textAnnotations'][0]['description'])"
      ],
      "execution_count": 21,
      "outputs": [
        {
          "output_type": "stream",
          "text": [
            "INDUSTRIAL MANAGEMENT ASSIGNMENT\n",
            "LEADERSHIP\n",
            "OJASVI ARORA\n",
            "15)230019\n",
            "Leadership is interpersonal influence Exercised in a situation\n",
            "and directed through the communication process towards\n",
            "the attainment of a specific goal or goals. Merce deadership\n",
            "is the process of influencing the members of the group\n",
            "with respect to good setting and goal achievement.\n",
            "for our purpose leadership may be dassified at 3 levels\n",
            "Top Managers - The Big Boss\n",
            "Middle Managers - Simply Boss\n",
            "Front Live Managers - Foremon and Supervisor\n",
            "All of them opcrate on different levels and have\n",
            "ditterent vespers Lilhex and duties having the same problemi\n",
            "of dealing with people and leading them.\n",
            "CHARACTERISTICS OF A LEADER\n",
            ". The leader is constantly interacting and commanding\n",
            "a part of his\n",
            ". The leader makes the organization\n",
            "self image\n",
            "The leaders personal goals, valeses and feelings are\n",
            "organizationally centered\n",
            "The leader handles supervisors as individuale\n",
            "The leader controls the transmission of important information\n",
            "The leader emphasis the present and\n",
            "The leader sete realistic goals.\n",
            "\n"
          ],
          "name": "stdout"
        }
      ]
    },
    {
      "metadata": {
        "id": "NdZ8EyMIxUQ3",
        "colab_type": "text"
      },
      "cell_type": "markdown",
      "source": [
        "# Speech to Text (ASR)"
      ]
    },
    {
      "metadata": {
        "id": "sI0XvyJMnA7q",
        "colab_type": "code",
        "colab": {
          "base_uri": "https://localhost:8080/",
          "height": 34
        },
        "outputId": "aea3e9d6-3f65-49f0-ea15-b486e0e3caaa"
      },
      "cell_type": "code",
      "source": [
        "sservice = build('speech', 'v1beta1', developerKey=APIKEY)\n",
        "response = sservice.speech().syncrecognize(\n",
        "    body={\n",
        "        'config': {\n",
        "            'encoding': 'LINEAR16',\n",
        "            'sampleRate': 16000\n",
        "        },\n",
        "        'audio': {\n",
        "            'uri': 'gs://cloud-training-demos/vision/audio.raw'\n",
        "            }\n",
        "        }).execute()\n",
        "print(response)"
      ],
      "execution_count": 22,
      "outputs": [
        {
          "output_type": "stream",
          "text": [
            "{'results': [{'alternatives': [{'transcript': 'how old is the Brooklyn Bridge', 'confidence': 0.9835046}]}]}\n"
          ],
          "name": "stdout"
        }
      ]
    },
    {
      "metadata": {
        "id": "9NeU_NStxZHO",
        "colab_type": "text"
      },
      "cell_type": "markdown",
      "source": [
        "# Sentiment Analysis"
      ]
    },
    {
      "metadata": {
        "id": "GHXXvdu5sZSv",
        "colab_type": "code",
        "colab": {
          "base_uri": "https://localhost:8080/",
          "height": 139
        },
        "outputId": "1b512e49-fffa-4212-a00f-76d1074f2859"
      },
      "cell_type": "code",
      "source": [
        "lservice = build('language', 'v1beta1', developerKey=APIKEY)\n",
        "quotes = [\n",
        "  'To succeed, you must have tremendous perseverance, tremendous will.',\n",
        "  'It’s not that I’m so smart, it’s just that I stay with problems longer.',\n",
        "  'Love is quivering happiness.',\n",
        "  'Love is of all passions the strongest, for it attacks simultaneously the head, the heart, and the senses.',\n",
        "  'What difference does it make to the dead, the orphans and the homeless, whether the mad destruction is wrought under the name of totalitarianism or in the holy name of liberty or democracy?',\n",
        "  'When someone you love dies, and you’re not expecting it, you don’t lose her all at once; you lose her in pieces over a long time — the way the mail stops coming, and her scent fades from the pillows and even from the clothes in her closet and drawers. '\n",
        "]\n",
        "for quote in quotes:\n",
        "  response = lservice.documents().analyzeSentiment(\n",
        "    body={\n",
        "      'document': {\n",
        "         'type': 'PLAIN_TEXT',\n",
        "         'content': quote\n",
        "      }\n",
        "    }).execute()\n",
        "  polarity = response['documentSentiment']['polarity']\n",
        "  magnitude = response['documentSentiment']['magnitude']\n",
        "  print('POLARITY=%s MAGNITUDE=%s for %s' % (polarity, magnitude, quote))"
      ],
      "execution_count": 26,
      "outputs": [
        {
          "output_type": "stream",
          "text": [
            "POLARITY=1 MAGNITUDE=0.9 for To succeed, you must have tremendous perseverance, tremendous will.\n",
            "POLARITY=-1 MAGNITUDE=0.5 for It’s not that I’m so smart, it’s just that I stay with problems longer.\n",
            "POLARITY=1 MAGNITUDE=0.9 for Love is quivering happiness.\n",
            "POLARITY=1 MAGNITUDE=0.9 for Love is of all passions the strongest, for it attacks simultaneously the head, the heart, and the senses.\n",
            "POLARITY=1 MAGNITUDE=0.2 for What difference does it make to the dead, the orphans and the homeless, whether the mad destruction is wrought under the name of totalitarianism or in the holy name of liberty or democracy?\n",
            "POLARITY=-1 MAGNITUDE=0.4 for When someone you love dies, and you’re not expecting it, you don’t lose her all at once; you lose her in pieces over a long time — the way the mail stops coming, and her scent fades from the pillows and even from the clothes in her closet and drawers. \n"
          ],
          "name": "stdout"
        }
      ]
    }
  ]
}